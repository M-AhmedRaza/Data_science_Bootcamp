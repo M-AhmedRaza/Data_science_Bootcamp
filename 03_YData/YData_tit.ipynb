{
 "cells": [
  {
   "cell_type": "code",
   "execution_count": 4,
   "metadata": {},
   "outputs": [
    {
     "name": "stderr",
     "output_type": "stream",
     "text": [
      "c:\\Users\\HP\\.conda\\envs\\EDA2\\Lib\\site-packages\\tqdm\\auto.py:21: TqdmWarning: IProgress not found. Please update jupyter and ipywidgets. See https://ipywidgets.readthedocs.io/en/stable/user_install.html\n",
      "  from .autonotebook import tqdm as notebook_tqdm\n"
     ]
    }
   ],
   "source": [
    "#Libraries\n",
    "import pandas as pd\n",
    "import numpy as np\n",
    "import seaborn as sns\n",
    "import matplotlib.pyplot  as plt\n",
    "from scipy import stats\n",
    "import ydata_profiling as yd\n",
    "%matplotlib inline\n"
   ]
  },
  {
   "cell_type": "code",
   "execution_count": 5,
   "metadata": {},
   "outputs": [],
   "source": [
    "df=sns.load_dataset('titanic')"
   ]
  },
  {
   "cell_type": "code",
   "execution_count": 8,
   "metadata": {},
   "outputs": [
    {
     "data": {
      "text/plain": [
       "'e:\\\\Data Sciences\\\\BootCamp_DataScience\\\\YData'"
      ]
     },
     "execution_count": 8,
     "metadata": {},
     "output_type": "execute_result"
    }
   ],
   "source": [
    "pwd"
   ]
  },
  {
   "cell_type": "code",
   "execution_count": null,
   "metadata": {},
   "outputs": [],
   "source": [
    "#ydata profiling\n",
    "profile=yd.ProfileReport(df)\n",
    "profile.to_file(output_file='../Outputs/03_ydata_titanic.html')\n"
   ]
  },
  {
   "cell_type": "markdown",
   "metadata": {},
   "source": [
    "# Doing It on Pak Data Set"
   ]
  },
  {
   "cell_type": "code",
   "execution_count": 14,
   "metadata": {},
   "outputs": [],
   "source": [
    "df_pakpop=pd.read_excel('E:\\\\Data Sciences\\\\Sample Data\\\\pak_pop_data.xlsx')"
   ]
  },
  {
   "cell_type": "code",
   "execution_count": 15,
   "metadata": {},
   "outputs": [
    {
     "name": "stderr",
     "output_type": "stream",
     "text": [
      "Summarize dataset:   0%|          | 0/5 [00:00<?, ?it/s]c:\\Users\\HP\\.conda\\envs\\EDA2\\Lib\\site-packages\\ydata_profiling\\model\\typeset.py:125: FutureWarning: is_categorical_dtype is deprecated and will be removed in a future version. Use isinstance(dtype, CategoricalDtype) instead\n",
      "  not pdt.is_categorical_dtype(series)\n",
      "c:\\Users\\HP\\.conda\\envs\\EDA2\\Lib\\site-packages\\ydata_profiling\\model\\typeset_relations.py:34: FutureWarning: is_categorical_dtype is deprecated and will be removed in a future version. Use isinstance(dtype, CategoricalDtype) instead\n",
      "  if pdt.is_categorical_dtype(series):\n",
      "c:\\Users\\HP\\.conda\\envs\\EDA2\\Lib\\site-packages\\ydata_profiling\\model\\typeset.py:125: FutureWarning: is_categorical_dtype is deprecated and will be removed in a future version. Use isinstance(dtype, CategoricalDtype) instead\n",
      "  not pdt.is_categorical_dtype(series)\n",
      "c:\\Users\\HP\\.conda\\envs\\EDA2\\Lib\\site-packages\\ydata_profiling\\model\\typeset_relations.py:34: FutureWarning: is_categorical_dtype is deprecated and will be removed in a future version. Use isinstance(dtype, CategoricalDtype) instead\n",
      "  if pdt.is_categorical_dtype(series):\n",
      "c:\\Users\\HP\\.conda\\envs\\EDA2\\Lib\\site-packages\\ydata_profiling\\model\\typeset.py:125: FutureWarning: is_categorical_dtype is deprecated and will be removed in a future version. Use isinstance(dtype, CategoricalDtype) instead\n",
      "  not pdt.is_categorical_dtype(series)\n",
      "c:\\Users\\HP\\.conda\\envs\\EDA2\\Lib\\site-packages\\ydata_profiling\\model\\typeset_relations.py:34: FutureWarning: is_categorical_dtype is deprecated and will be removed in a future version. Use isinstance(dtype, CategoricalDtype) instead\n",
      "  if pdt.is_categorical_dtype(series):\n",
      "c:\\Users\\HP\\.conda\\envs\\EDA2\\Lib\\site-packages\\ydata_profiling\\model\\typeset.py:125: FutureWarning: is_categorical_dtype is deprecated and will be removed in a future version. Use isinstance(dtype, CategoricalDtype) instead\n",
      "  not pdt.is_categorical_dtype(series)\n",
      "c:\\Users\\HP\\.conda\\envs\\EDA2\\Lib\\site-packages\\ydata_profiling\\model\\typeset_relations.py:34: FutureWarning: is_categorical_dtype is deprecated and will be removed in a future version. Use isinstance(dtype, CategoricalDtype) instead\n",
      "  if pdt.is_categorical_dtype(series):\n",
      "Summarize dataset:   0%|          | 0/27 [00:00<?, ?it/s, Describe variable:AREA (sq.km)]c:\\Users\\HP\\.conda\\envs\\EDA2\\Lib\\site-packages\\ydata_profiling\\model\\typeset.py:125: FutureWarning: is_categorical_dtype is deprecated and will be removed in a future version. Use isinstance(dtype, CategoricalDtype) instead\n",
      "  not pdt.is_categorical_dtype(series)\n",
      "c:\\Users\\HP\\.conda\\envs\\EDA2\\Lib\\site-packages\\ydata_profiling\\model\\typeset_relations.py:34: FutureWarning: is_categorical_dtype is deprecated and will be removed in a future version. Use isinstance(dtype, CategoricalDtype) instead\n",
      "  if pdt.is_categorical_dtype(series):\n",
      "Summarize dataset:   4%|▎         | 1/27 [00:00<00:01, 16.98it/s, Describe variable:MALE (RURAL)]c:\\Users\\HP\\.conda\\envs\\EDA2\\Lib\\site-packages\\ydata_profiling\\model\\typeset_relations.py:34: FutureWarning: is_categorical_dtype is deprecated and will be removed in a future version. Use isinstance(dtype, CategoricalDtype) instead\n",
      "  if pdt.is_categorical_dtype(series):\n",
      "c:\\Users\\HP\\.conda\\envs\\EDA2\\Lib\\site-packages\\ydata_profiling\\model\\typeset_relations.py:34: FutureWarning: is_categorical_dtype is deprecated and will be removed in a future version. Use isinstance(dtype, CategoricalDtype) instead\n",
      "  if pdt.is_categorical_dtype(series):\n",
      "c:\\Users\\HP\\.conda\\envs\\EDA2\\Lib\\site-packages\\ydata_profiling\\model\\typeset.py:125: FutureWarning: is_categorical_dtype is deprecated and will be removed in a future version. Use isinstance(dtype, CategoricalDtype) instead\n",
      "  not pdt.is_categorical_dtype(series)\n",
      "c:\\Users\\HP\\.conda\\envs\\EDA2\\Lib\\site-packages\\ydata_profiling\\model\\typeset_relations.py:34: FutureWarning: is_categorical_dtype is deprecated and will be removed in a future version. Use isinstance(dtype, CategoricalDtype) instead\n",
      "  if pdt.is_categorical_dtype(series):\n",
      "c:\\Users\\HP\\.conda\\envs\\EDA2\\Lib\\site-packages\\ydata_profiling\\model\\typeset.py:125: FutureWarning: is_categorical_dtype is deprecated and will be removed in a future version. Use isinstance(dtype, CategoricalDtype) instead\n",
      "  not pdt.is_categorical_dtype(series)\n",
      "c:\\Users\\HP\\.conda\\envs\\EDA2\\Lib\\site-packages\\ydata_profiling\\model\\typeset_relations.py:34: FutureWarning: is_categorical_dtype is deprecated and will be removed in a future version. Use isinstance(dtype, CategoricalDtype) instead\n",
      "  if pdt.is_categorical_dtype(series):\n",
      "Summarize dataset:  11%|█         | 3/27 [00:00<00:00, 24.77it/s, Describe variable:DIVISION]      c:\\Users\\HP\\.conda\\envs\\EDA2\\Lib\\site-packages\\ydata_profiling\\model\\typeset.py:125: FutureWarning: is_categorical_dtype is deprecated and will be removed in a future version. Use isinstance(dtype, CategoricalDtype) instead\n",
      "  not pdt.is_categorical_dtype(series)\n",
      "c:\\Users\\HP\\.conda\\envs\\EDA2\\Lib\\site-packages\\ydata_profiling\\model\\typeset_relations.py:34: FutureWarning: is_categorical_dtype is deprecated and will be removed in a future version. Use isinstance(dtype, CategoricalDtype) instead\n",
      "  if pdt.is_categorical_dtype(series):\n",
      "Summarize dataset:  15%|█▍        | 4/27 [00:00<00:00, 24.77it/s, Describe variable:ALL SEXES (RURAL)]c:\\Users\\HP\\.conda\\envs\\EDA2\\Lib\\site-packages\\ydata_profiling\\model\\typeset_relations.py:34: FutureWarning: is_categorical_dtype is deprecated and will be removed in a future version. Use isinstance(dtype, CategoricalDtype) instead\n",
      "  if pdt.is_categorical_dtype(series):\n",
      "Summarize dataset:  83%|████████▎ | 24/29 [00:00<00:00, 30.55it/s, Calculate auto correlation]                  c:\\Users\\HP\\.conda\\envs\\EDA2\\Lib\\site-packages\\ydata_profiling\\model\\correlations.py:66: UserWarning: There was an attempt to calculate the auto correlation, but this failed.\n",
      "To hide this warning, disable the calculation\n",
      "(using `df.profile_report(correlations={\"auto\": {\"calculate\": False}})`\n",
      "If this is problematic for your use case, please report this as an issue:\n",
      "https://github.com/ydataai/ydata-profiling/issues\n",
      "(include the error message: 'could not convert string to float: 'BAHAWALPUR DIVISION'')\n",
      "  warnings.warn(\n",
      "Summarize dataset: 100%|██████████| 355/355 [00:29<00:00, 11.98it/s, Completed]                                                     \n",
      "Generate report structure: 100%|██████████| 1/1 [00:05<00:00,  5.11s/it]\n",
      "Render HTML: 100%|██████████| 1/1 [00:05<00:00,  5.36s/it]\n",
      "Export report to file: 100%|██████████| 1/1 [00:00<00:00, 13.78it/s]\n"
     ]
    }
   ],
   "source": [
    "profile= yd.ProfileReport(df_pakpop)\n",
    "profile.to_file(output_file='../Outputs/04_Pak_Popul.html')"
   ]
  },
  {
   "cell_type": "code",
   "execution_count": null,
   "metadata": {},
   "outputs": [],
   "source": []
  }
 ],
 "metadata": {
  "kernelspec": {
   "display_name": "EDA2",
   "language": "python",
   "name": "python3"
  },
  "language_info": {
   "codemirror_mode": {
    "name": "ipython",
    "version": 3
   },
   "file_extension": ".py",
   "mimetype": "text/x-python",
   "name": "python",
   "nbconvert_exporter": "python",
   "pygments_lexer": "ipython3",
   "version": "3.11.5"
  }
 },
 "nbformat": 4,
 "nbformat_minor": 2
}
