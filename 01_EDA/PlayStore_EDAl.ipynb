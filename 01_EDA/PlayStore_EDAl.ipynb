{
  "cells": [
    {
      "cell_type": "markdown",
      "metadata": {
        "id": "ha8rC1AYhZOM"
      },
      "source": [
        "# Google Playstore Data (Large)\n",
        "### Complete EDA Analysis\n",
        "\n",
        "**About Dataset**\\\n",
        "Google PlayStore Android App Data. (2.3 Million+ App Data)\\\n",
        "\n",
        "\n",
        "This data is from Google playstore that has all necessary columns to understand the How apps are doing on the platform. \n",
        "\n",
        "**Content** The data was collected in the month of June 2021.\n",
        "\n",
        "**What you can expect from Analysis:**"
      ]
    },
    {
      "cell_type": "markdown",
      "metadata": {
        "id": "e405JeZ0ArTL"
      },
      "source": [
        "---"
      ]
    },
    {
      "cell_type": "markdown",
      "metadata": {
        "id": "N5yMqioH2JOU"
      },
      "source": [
        "# 01 Importing Libraries"
      ]
    },
    {
      "cell_type": "code",
      "execution_count": null,
      "metadata": {
        "id": "Y1RenL1hhOfM"
      },
      "outputs": [],
      "source": [
        "#Libraries\n",
        "import pandas as pd\n",
        "import numpy as np\n",
        "import seaborn as sns\n",
        "import matplotlib.pyplot  as plt\n",
        "from scipy import stats\n",
        "%matplotlib inline"
      ]
    },
    {
      "cell_type": "markdown",
      "metadata": {
        "id": "5-PZJF-bApjD"
      },
      "source": [
        "---"
      ]
    },
    {
      "cell_type": "markdown",
      "metadata": {
        "id": "Si4T9fIN2UTL"
      },
      "source": [
        "# Setting Code Space"
      ]
    },
    {
      "cell_type": "code",
      "execution_count": null,
      "metadata": {
        "id": "mv7XZaIN2aD4"
      },
      "outputs": [],
      "source": [
        "import warnings\n",
        "warnings.filterwarnings('ignore')"
      ]
    },
    {
      "cell_type": "code",
      "execution_count": null,
      "metadata": {
        "id": "POr5txpG2kN_"
      },
      "outputs": [],
      "source": [
        "pd.set_option('display.max_columns',None)\n",
        "pd.set_option('display.max_rows',None)"
      ]
    },
    {
      "cell_type": "markdown",
      "metadata": {},
      "source": [
        "---"
      ]
    },
    {
      "cell_type": "markdown",
      "metadata": {
        "id": "GyGbVdG-3C7x"
      },
      "source": [
        "# Loading Data"
      ]
    },
    {
      "cell_type": "code",
      "execution_count": null,
      "metadata": {
        "id": "i5M2wg4X8Rp5"
      },
      "outputs": [],
      "source": [
        "df=pd.read_csv(r\"E:\\Data Sciences\\Sample Data\\Google-Playstore.csv\")"
      ]
    },
    {
      "cell_type": "markdown",
      "metadata": {
        "id": "d6yefi8kAnpm"
      },
      "source": [
        "---"
      ]
    },
    {
      "cell_type": "markdown",
      "metadata": {
        "id": "ljaLlmGR25Am"
      },
      "source": [
        "# Data Insight"
      ]
    },
    {
      "cell_type": "code",
      "execution_count": null,
      "metadata": {
        "colab": {
          "base_uri": "https://localhost:8080/",
          "height": 487
        },
        "id": "IpRFLdEx8R2Q",
        "outputId": "caa21f0e-ab71-45a4-ae6a-0a9ecddbe112"
      },
      "outputs": [],
      "source": [
        "df.head()"
      ]
    },
    {
      "cell_type": "code",
      "execution_count": null,
      "metadata": {
        "id": "LXkLoN0I8Hyy"
      },
      "outputs": [],
      "source": [
        "column_names=df.columns"
      ]
    },
    {
      "cell_type": "code",
      "execution_count": null,
      "metadata": {
        "colab": {
          "base_uri": "https://localhost:8080/",
          "height": 300
        },
        "id": "WfhvtZMx8X0T",
        "outputId": "fd97d40b-2ec5-4bf5-9739-ea2bdbb0c4ca"
      },
      "outputs": [],
      "source": [
        "df.describe()"
      ]
    },
    {
      "cell_type": "code",
      "execution_count": null,
      "metadata": {
        "colab": {
          "base_uri": "https://localhost:8080/"
        },
        "id": "FA11dqhO8b9i",
        "outputId": "d186de72-dfdf-4537-c72b-ed68da9b3c34"
      },
      "outputs": [],
      "source": [
        "df.info()"
      ]
    },
    {
      "cell_type": "markdown",
      "metadata": {
        "id": "Ol8iDZTs817Q"
      },
      "source": [
        "---"
      ]
    },
    {
      "cell_type": "markdown",
      "metadata": {
        "id": "oFo_CjPW8rAa"
      },
      "source": [
        "# Observations\n",
        "\n",
        "There are 24 columns and 21,489 rows\n",
        "Multiple data types\n",
        "\n",
        "\n",
        "1. Installs is object,+ sign,NaN\n",
        "2. Price colmn $ sign\n",
        "3. Minimum Android is object\n",
        "4. Size Column is object\n",
        "5. Ad supported is boolean\n",
        "6. Inapp\n",
        "7. Editors choice\n",
        "8. **Size, Installs and Price** needs to be converted to nuemeric data type\n"
      ]
    },
    {
      "cell_type": "markdown",
      "metadata": {
        "id": "zH51uhqo-bTR"
      },
      "source": [
        "\n",
        "\n",
        "> **adressing all columns one by one**"
      ]
    },
    {
      "cell_type": "markdown",
      "metadata": {
        "id": "gChK0Bn2AjJ2"
      },
      "source": [
        "---"
      ]
    },
    {
      "cell_type": "markdown",
      "metadata": {
        "id": "rUtbBRqb_Zfp"
      },
      "source": [
        "## Null data"
      ]
    },
    {
      "cell_type": "code",
      "execution_count": null,
      "metadata": {
        "colab": {
          "base_uri": "https://localhost:8080/"
        },
        "id": "-J8lvRCH_Yrv",
        "outputId": "e2ee00ac-46d5-45a5-e44c-3a4d558f8a04"
      },
      "outputs": [],
      "source": [
        "df.isnull().sum()"
      ]
    },
    {
      "cell_type": "code",
      "execution_count": null,
      "metadata": {
        "colab": {
          "base_uri": "https://localhost:8080/"
        },
        "id": "0i7BVMQP_Yh4",
        "outputId": "9524a135-a018-450b-f6d9-4582e6b33538"
      },
      "outputs": [],
      "source": [
        "null_perc=(df.isnull().sum()/len(df))*100\n",
        "null_perc"
      ]
    },
    {
      "cell_type": "code",
      "execution_count": null,
      "metadata": {
        "colab": {
          "base_uri": "https://localhost:8080/"
        },
        "id": "7QsezBNMDGky",
        "outputId": "5131f56d-9a2e-4956-b036-d8b7db5606c6"
      },
      "outputs": [],
      "source": [
        "for column in column_names:\n",
        "  print(f\" There are {(df[column].isnull().sum()/len(df[column]))*100:.3f} % null values in {column}\" )\n"
      ]
    },
    {
      "cell_type": "markdown",
      "metadata": {
        "id": "Fk-KIHBYAgRN"
      },
      "source": [
        "---"
      ]
    },
    {
      "cell_type": "markdown",
      "metadata": {
        "id": "qa-kbXZMVPRV"
      },
      "source": [
        "# Columns Fixing"
      ]
    },
    {
      "cell_type": "markdown",
      "metadata": {
        "id": "J1zk-7DG-onY"
      },
      "source": [
        "## Installs \n",
        "1. Symbols replacement\n",
        "2. Changing Data Tpe to float\n",
        "3. Removing Nulls Statistically\n",
        "4. Binning"
      ]
    },
    {
      "cell_type": "code",
      "execution_count": null,
      "metadata": {
        "colab": {
          "base_uri": "https://localhost:8080/"
        },
        "id": "1s8DN4iY-rYA",
        "outputId": "3bc73fa1-9810-405e-8304-0659df739ada"
      },
      "outputs": [],
      "source": [
        "df['Installs']"
      ]
    },
    {
      "cell_type": "markdown",
      "metadata": {},
      "source": [
        "Symbols of , and + needs to be removed."
      ]
    },
    {
      "cell_type": "code",
      "execution_count": null,
      "metadata": {
        "id": "lzetadLY-0vE"
      },
      "outputs": [],
      "source": [
        "#symbols replacement\n",
        "df['Installs']=df['Installs'].apply(lambda x:x.replace(\"+\",\"\") if \"+\" in str(x) else x)\n",
        "df['Installs']=df['Installs'].apply(lambda x:x.replace(\",\",\"\") if \",\" in str(x) else x)\n",
        "df['Installs']=df['Installs'].apply(lambda x:float(x))\n"
      ]
    },
    {
      "cell_type": "code",
      "execution_count": null,
      "metadata": {
        "id": "hKSynr9wEMd6"
      },
      "outputs": [],
      "source": [
        "#if you want output as natural number instead of scientific notion\n",
        "# temp_installs=df['Installs'].unique().astype(int)\n",
        "# temp_installs"
      ]
    },
    {
      "cell_type": "code",
      "execution_count": null,
      "metadata": {
        "colab": {
          "base_uri": "https://localhost:8080/"
        },
        "id": "U5XFmsrfFk07",
        "outputId": "d1d6cf48-f5d6-4758-8641-9efdea4b948a"
      },
      "outputs": [],
      "source": [
        "# adressing null values\n",
        "df['Installs']=df['Installs'].fillna(df['Installs'].mean())\n",
        "Installs_nan=df['Installs'].isnull().sum()\n",
        "print(f\"There are ' {Installs_nan} ' null values in Install Column now\")"
      ]
    },
    {
      "cell_type": "markdown",
      "metadata": {
        "id": "vS3IwjYyf36H"
      },
      "source": [
        "**Binning**\n",
        "\n",
        "Binning data in to 8 Bins, to perform analysis fluently."
      ]
    },
    {
      "cell_type": "code",
      "execution_count": null,
      "metadata": {
        "colab": {
          "base_uri": "https://localhost:8080/"
        },
        "id": "I0JMJa-Uf2vC",
        "outputId": "ab914715-1d49-47bc-89df-ea0fc91f6f07"
      },
      "outputs": [],
      "source": [
        "bins=[-10,10,100,1000,10000,100000,1000000,10000000,100000000]\n",
        "labels=['Negligible','Very Low <100','Low <1000','So So <10k','Moderate <100k','High <1M','Very High <10M','Amazing <100M']\n",
        "df['Installs_Category']=pd.cut(df['Installs'],bins=bins,labels=labels)\n",
        "df['Installs_Category'].value_counts()"
      ]
    },
    {
      "cell_type": "markdown",
      "metadata": {
        "id": "5kEb1lwhAe_F"
      },
      "source": [
        "---"
      ]
    },
    {
      "cell_type": "markdown",
      "metadata": {
        "id": "eQSv785X1GT1"
      },
      "source": [
        "## Size Column\n",
        "\n",
        "1. Removal of symbols +'',varies with device M k\n",
        "2. Imputing Null Values\n",
        "3. Changing data type\n",
        "4. Coverting data into nuemeric million,thousand etc\n",
        "\n"
      ]
    },
    {
      "cell_type": "code",
      "execution_count": null,
      "metadata": {
        "colab": {
          "base_uri": "https://localhost:8080/"
        },
        "id": "qdU7_24G1bPe",
        "outputId": "38307a72-24c7-4d6c-9190-6f665d3ac2d2"
      },
      "outputs": [],
      "source": [
        "df['Size'].unique()"
      ]
    },
    {
      "cell_type": "code",
      "execution_count": null,
      "metadata": {
        "id": "Tp6NSB4Z1eBo"
      },
      "outputs": [],
      "source": [
        "df['Minimum Android']\n",
        "df['Size'] = df['Size'].apply(lambda x: x.replace(\",\", \"\") if \",\" in str(x) else x)\n",
        "df['Size'] = df['Size'].apply(lambda x: x.replace(\"Varies with device\", \"999\") if \"Varies with device\" in str(x) else x)\n",
        "df['Size'] = df['Size'].apply(lambda x: x.replace(\"Varieswithdevice\", \"999\") if \"Varieswithdevice\" in str(x) else x)\n",
        "df['Size'] = df['Size'].apply(lambda x: x.replace(\"'\", \"\") if \"'\" in str(x) else x)"
      ]
    },
    {
      "cell_type": "code",
      "execution_count": null,
      "metadata": {
        "colab": {
          "base_uri": "https://localhost:8080/"
        },
        "id": "tdkYvupz3mOQ",
        "outputId": "0b8ea918-6f8a-42a9-b29b-3dc2c553fa98"
      },
      "outputs": [],
      "source": [
        "df['Size']"
      ]
    },
    {
      "cell_type": "code",
      "execution_count": null,
      "metadata": {
        "id": "gfGDKnoY4oqV"
      },
      "outputs": [],
      "source": [
        "def convert_size(Size):\n",
        "  if isinstance(Size,str):\n",
        "    if 'k' in Size:\n",
        "      return float(Size.replace('k',''))*1024\n",
        "    elif 'M' in Size:\n",
        "      return float(Size.replace('M',''))*1024*1024\n",
        "    elif 'G' in Size:\n",
        "      return float(Size.replace('G',''))*1024*1024*1024\n",
        "  return Size\n"
      ]
    },
    {
      "cell_type": "code",
      "execution_count": null,
      "metadata": {
        "colab": {
          "base_uri": "https://localhost:8080/"
        },
        "id": "wGKVNADI46LD",
        "outputId": "de6389b7-56d3-4bbd-fdaa-6aa4ae05511f"
      },
      "outputs": [],
      "source": [
        "df['Size']=df['Size'].apply(convert_size)\n",
        "df['Size']"
      ]
    },
    {
      "cell_type": "markdown",
      "metadata": {},
      "source": [
        "Data is in nuemeric form now."
      ]
    },
    {
      "cell_type": "code",
      "execution_count": null,
      "metadata": {
        "id": "25eBba0S9-6z"
      },
      "outputs": [],
      "source": [
        "df['Size']=df['Size'].astype(float)"
      ]
    },
    {
      "cell_type": "markdown",
      "metadata": {},
      "source": [
        "Missing Data Imputations"
      ]
    },
    {
      "cell_type": "code",
      "execution_count": null,
      "metadata": {
        "id": "J15Cm3zr9MvD"
      },
      "outputs": [],
      "source": [
        "df['Size']=df['Size'].fillna(df['Size'].mean())"
      ]
    },
    {
      "cell_type": "code",
      "execution_count": null,
      "metadata": {
        "colab": {
          "base_uri": "https://localhost:8080/"
        },
        "id": "a-8259cu98Jc",
        "outputId": "791d6bc8-3930-49d2-9687-ab3e891bb73f"
      },
      "outputs": [],
      "source": [
        "size_null=df['Size'].isnull().sum()\n",
        "print(f\"There are ' {size_null} ' null values in Size Column now\")"
      ]
    },
    {
      "cell_type": "markdown",
      "metadata": {
        "id": "hC67ZxeoAb5T"
      },
      "source": [
        "---"
      ]
    },
    {
      "cell_type": "markdown",
      "metadata": {
        "id": "VW1TX6Dd-4fF"
      },
      "source": [
        "## Minimum Android"
      ]
    },
    {
      "cell_type": "code",
      "execution_count": null,
      "metadata": {},
      "outputs": [],
      "source": [
        "df['Minimum Android'].unique()"
      ]
    },
    {
      "cell_type": "code",
      "execution_count": null,
      "metadata": {
        "id": "ZiPXdXqQ-LFR"
      },
      "outputs": [],
      "source": [
        "\n",
        "df['Minimum Android']=df['Minimum Android'].apply(lambda x:x.replace(\" and up\",\"\") if \" and up\" in str(x) else x)\n",
        "df['Minimum Android']=df['Minimum Android'].apply(lambda x:x.replace(\"W\",\"\") if \"W\" in str(x) else x)\n",
        "df['Minimum Android']=df['Minimum Android'].apply(lambda x:x.replace(\"Varies with device\",\"nan\") if \"Varies with device\" in str(x) else x)\n"
      ]
    },
    {
      "cell_type": "code",
      "execution_count": null,
      "metadata": {},
      "outputs": [],
      "source": [
        "df['Minimum Android'].unique()"
      ]
    },
    {
      "cell_type": "markdown",
      "metadata": {},
      "source": [
        "It is difficult to setup this colum due to string data like 1.5 - 3.2 etc, need to think of some other method."
      ]
    },
    {
      "cell_type": "code",
      "execution_count": null,
      "metadata": {},
      "outputs": [],
      "source": [
        "# changing the data type\n",
        "#df['Minimum Android']=df['Minimum Android'].astype(float)\n"
      ]
    },
    {
      "cell_type": "markdown",
      "metadata": {},
      "source": [
        "---"
      ]
    },
    {
      "cell_type": "markdown",
      "metadata": {},
      "source": [
        "# Rating & Rating Count"
      ]
    },
    {
      "cell_type": "code",
      "execution_count": null,
      "metadata": {},
      "outputs": [],
      "source": [
        "df['Rating']=df['Rating'].fillna(df['Rating'].mean())\n",
        "df['Rating Count']=df['Rating Count'].fillna(df['Rating Count'].mean())"
      ]
    },
    {
      "cell_type": "markdown",
      "metadata": {
        "id": "O9BbanqiEFC6"
      },
      "source": [
        "---"
      ]
    },
    {
      "cell_type": "markdown",
      "metadata": {
        "id": "Vy_N8KGTEBEZ"
      },
      "source": [
        "## Price Column"
      ]
    },
    {
      "cell_type": "markdown",
      "metadata": {
        "id": "jAKoiGLdULU3"
      },
      "source": []
    },
    {
      "cell_type": "code",
      "execution_count": null,
      "metadata": {},
      "outputs": [],
      "source": [
        "df['Price'].unique()"
      ]
    },
    {
      "cell_type": "code",
      "execution_count": null,
      "metadata": {
        "colab": {
          "base_uri": "https://localhost:8080/"
        },
        "id": "hOpeWluBEIGq",
        "outputId": "77311815-27be-401d-e5cc-3496bee1bbfc"
      },
      "outputs": [],
      "source": [
        " df['Price'].value_counts()"
      ]
    },
    {
      "cell_type": "code",
      "execution_count": null,
      "metadata": {
        "id": "TZnpAAISGDs8"
      },
      "outputs": [],
      "source": [
        " #df['Price'].astype(int64)"
      ]
    },
    {
      "cell_type": "code",
      "execution_count": null,
      "metadata": {
        "id": "Wsx2o4d3Tlu7"
      },
      "outputs": [],
      "source": [
        "#df['Price'].loc[df['Price'].str.contains('0') & (~df['Price'].str.contains('\\$'))].value_counts().sum()"
      ]
    },
    {
      "cell_type": "code",
      "execution_count": null,
      "metadata": {
        "id": "dnPuQVHLGxv_"
      },
      "outputs": [],
      "source": [
        "#df['Price'].loc[df['Price'].str.contains('\\$')].value_counts().sum()"
      ]
    },
    {
      "cell_type": "markdown",
      "metadata": {
        "id": "cyTYN08tAVCz"
      },
      "source": [
        "---\n",
        "---\n"
      ]
    },
    {
      "cell_type": "markdown",
      "metadata": {
        "id": "kdPN1J6-VkOp"
      },
      "source": [
        "# Descriptive Statistics"
      ]
    },
    {
      "cell_type": "code",
      "execution_count": null,
      "metadata": {
        "colab": {
          "base_uri": "https://localhost:8080/",
          "height": 300
        },
        "id": "iY9WfdRjSHpk",
        "outputId": "7c0fe171-fdc3-4d23-ba15-3456285021fc"
      },
      "outputs": [],
      "source": [
        "df.describe()"
      ]
    },
    {
      "cell_type": "markdown",
      "metadata": {
        "id": "nkiIR-JDXO_v"
      },
      "source": [
        "# Missing Values"
      ]
    },
    {
      "cell_type": "code",
      "execution_count": null,
      "metadata": {},
      "outputs": [],
      "source": [
        "df.head()"
      ]
    },
    {
      "cell_type": "code",
      "execution_count": null,
      "metadata": {
        "colab": {
          "base_uri": "https://localhost:8080/"
        },
        "id": "cLfrjMXEVpo9",
        "outputId": "1ecdb783-cb8c-43e3-e4b4-1929f84b14eb"
      },
      "outputs": [],
      "source": [
        "df.isnull().sum()"
      ]
    },
    {
      "cell_type": "code",
      "execution_count": null,
      "metadata": {
        "colab": {
          "base_uri": "https://localhost:8080/"
        },
        "id": "dLYlzcbzXV5d",
        "outputId": "2ec50595-117b-41d0-a365-0fbfb250dc4d"
      },
      "outputs": [],
      "source": [
        "df.isnull().sum().sort_values(ascending=False)"
      ]
    },
    {
      "cell_type": "code",
      "execution_count": null,
      "metadata": {
        "colab": {
          "base_uri": "https://localhost:8080/"
        },
        "id": "HkqEzTUSXhOg",
        "outputId": "b3876c0d-7fa8-4009-e0b9-f1c46a16ee24"
      },
      "outputs": [],
      "source": [
        "(df.isnull().sum()/len(df)*100).sort_values(ascending=False)\n",
        "#null_perc.sort_values(ascending=False)\n"
      ]
    },
    {
      "cell_type": "markdown",
      "metadata": {
        "id": "5hoFl4AYAxDc"
      },
      "source": [
        "# Data Visualization\n",
        "\n",
        "\n",
        "> Missing Values\n",
        "\n",
        "---\n",
        "\n",
        "\n",
        "\n"
      ]
    },
    {
      "cell_type": "code",
      "execution_count": null,
      "metadata": {
        "colab": {
          "base_uri": "https://localhost:8080/"
        },
        "id": "s7psBHn-AztU",
        "outputId": "f8ff8107-1530-4a3a-a5dc-b471d997a3e3"
      },
      "outputs": [],
      "source": [
        "df.isnull().sum().sum()"
      ]
    },
    {
      "cell_type": "markdown",
      "metadata": {
        "id": "yexkK4wuUhsx"
      },
      "source": [
        "### **Heatmap**"
      ]
    },
    {
      "cell_type": "code",
      "execution_count": null,
      "metadata": {
        "colab": {
          "base_uri": "https://localhost:8080/",
          "height": 656
        },
        "id": "HCJwKb4nH8ou",
        "outputId": "e339b89d-1153-4b4e-ac8c-da112e442481"
      },
      "outputs": [],
      "source": [
        "plt.figure(figsize=(16,6))\n",
        "sns.heatmap(df.isnull(),yticklabels=False,cbar=False,cmap='viridis')"
      ]
    },
    {
      "cell_type": "markdown",
      "metadata": {
        "id": "qmnC9gNMUk4H"
      },
      "source": [
        "### **Bar Plot**"
      ]
    },
    {
      "cell_type": "code",
      "execution_count": null,
      "metadata": {
        "colab": {
          "base_uri": "https://localhost:8080/",
          "height": 775
        },
        "id": "O-LZeTD7I6V-",
        "outputId": "4f4610fd-bb5f-4e00-a3da-d2b6c6f4907c"
      },
      "outputs": [],
      "source": [
        "plt.figure(figsize=(14,7))\n",
        "null_perc.plot(kind='bar')\n",
        "\n",
        "plt.xlabel('Columns')\n",
        "plt.ylabel('Percentage')\n",
        "plt.title(' Missing Values Percentage')"
      ]
    },
    {
      "cell_type": "code",
      "execution_count": null,
      "metadata": {
        "colab": {
          "base_uri": "https://localhost:8080/",
          "height": 767
        },
        "id": "k8H4wZHeJIGV",
        "outputId": "ade9a81e-c364-464e-ffee-a67548763e6c"
      },
      "outputs": [],
      "source": [
        "#with filter of <1%\n",
        "plt.figure(figsize=(14,7))\n",
        "null_perc[null_perc<1].plot(kind='bar')\n",
        "\n",
        "plt.xlabel('Columns')\n",
        "plt.ylabel('Percentage')\n",
        "plt.title(' Missing Values Percentage')"
      ]
    },
    {
      "cell_type": "markdown",
      "metadata": {
        "id": "MaR_9eaFVtE0"
      },
      "source": [
        "Now we have 3 more columns in data describe, due to change in data type"
      ]
    },
    {
      "cell_type": "markdown",
      "metadata": {
        "id": "cDDKzjpQZeQX"
      },
      "source": [
        "## Corelation Matrix"
      ]
    },
    {
      "cell_type": "code",
      "execution_count": null,
      "metadata": {
        "colab": {
          "base_uri": "https://localhost:8080/",
          "height": 300
        },
        "id": "uyktEpHIYB6R",
        "outputId": "7bf97257-c1fd-44ed-c15e-d26d61a0f8ca"
      },
      "outputs": [],
      "source": [
        "df.describe()"
      ]
    },
    {
      "cell_type": "code",
      "execution_count": null,
      "metadata": {
        "colab": {
          "base_uri": "https://localhost:8080/",
          "height": 545
        },
        "id": "0vFbRRPUYRSZ",
        "outputId": "4b9fde3e-2d2a-4060-d4c4-2a3cec9cd91e"
      },
      "outputs": [],
      "source": [
        "plt.figure(figsize=(12,6))\n",
        "num_col=['Rating','Installs','Price','Size','Rating Count']\n",
        "sns.heatmap(df[num_col].corr(), annot=True)"
      ]
    },
    {
      "cell_type": "markdown",
      "metadata": {
        "id": "EfxYTocqatIq"
      },
      "source": [
        "Only good correlation is of Installs Vs Rating, that makes sense as well.\n",
        "\n",
        "Correlation matrix in pandas\n"
      ]
    },
    {
      "cell_type": "code",
      "execution_count": null,
      "metadata": {
        "colab": {
          "base_uri": "https://localhost:8080/",
          "height": 206
        },
        "id": "-gAJJU6eaJtI",
        "outputId": "e189d4e1-6f46-47f2-a5ee-cdd7ccc42d03"
      },
      "outputs": [],
      "source": [
        "df[num_col].corr()"
      ]
    },
    {
      "cell_type": "markdown",
      "metadata": {
        "id": "uBi63QtHd-z6"
      },
      "source": [
        "Pearsons R shows strength in linear relationship."
      ]
    },
    {
      "cell_type": "code",
      "execution_count": null,
      "metadata": {
        "colab": {
          "base_uri": "https://localhost:8080/"
        },
        "id": "xnZnSRLPa3dL",
        "outputId": "4d38d9ee-6a53-4336-fba8-ea730ed013af"
      },
      "outputs": [],
      "source": [
        "df_clean=df.dropna()\n",
        "#,_ is used to ignore the 2nd value, which in this case is p value\n",
        "pearson_r,_=stats.pearsonr(df_clean['Rating Count'], df_clean['Installs'])\n",
        "print(f\" The Pearson's R value is {pearson_r:3f}\")"
      ]
    },
    {
      "cell_type": "markdown",
      "metadata": {
        "id": "rg3103QYidNL"
      },
      "source": [
        "Groupby"
      ]
    },
    {
      "cell_type": "code",
      "execution_count": null,
      "metadata": {
        "colab": {
          "base_uri": "https://localhost:8080/",
          "height": 332
        },
        "id": "XzXg8lrxbrhd",
        "outputId": "edd4d542-e82e-4d69-cc65-9ba618f84ddf"
      },
      "outputs": [],
      "source": [
        "df.groupby('Installs_Category')['Rating'].describe()"
      ]
    },
    {
      "cell_type": "code",
      "execution_count": null,
      "metadata": {
        "colab": {
          "base_uri": "https://localhost:8080/"
        },
        "id": "BAsXo8NDiolp",
        "outputId": "76a30fea-3510-4421-dc97-37cd61a0ccb9"
      },
      "outputs": [],
      "source": [
        "df.isnull().sum()"
      ]
    },
    {
      "cell_type": "code",
      "execution_count": null,
      "metadata": {
        "colab": {
          "base_uri": "https://localhost:8080/"
        },
        "id": "TtSvUmKYEFSy",
        "outputId": "f70382b9-de66-4792-a8e2-b216c1ad2534"
      },
      "outputs": [],
      "source": [
        "df['Installs_Category'].loc[df['Rating'].isnull()].value_counts()"
      ]
    },
    {
      "cell_type": "code",
      "execution_count": null,
      "metadata": {
        "colab": {
          "base_uri": "https://localhost:8080/",
          "height": 713
        },
        "id": "s-mExSdUFyaS",
        "outputId": "a6f8be5e-2e26-4313-9b4f-306223ed7121"
      },
      "outputs": [],
      "source": [
        "plt.figure(figsize=(16,8))\n",
        "sns.boxplot(x='Installs_Category',y='Rating',hue='Installs_Category',data=df)\n",
        "\n",
        "plt.text(0,3.5,'Null Values=84')\n",
        "plt.text(1,3.5,'Null Values=45')\n",
        "plt.text(2,3.5,'Null Values=28')"
      ]
    },
    {
      "cell_type": "code",
      "execution_count": null,
      "metadata": {
        "id": "R97QJKaFGdRK"
      },
      "outputs": [],
      "source": []
    }
  ],
  "metadata": {
    "colab": {
      "collapsed_sections": [
        "VW1TX6Dd-4fF"
      ],
      "provenance": [],
      "toc_visible": true
    },
    "kernelspec": {
      "display_name": "Python 3",
      "name": "python3"
    },
    "language_info": {
      "codemirror_mode": {
        "name": "ipython",
        "version": 3
      },
      "file_extension": ".py",
      "mimetype": "text/x-python",
      "name": "python",
      "nbconvert_exporter": "python",
      "pygments_lexer": "ipython3",
      "version": "3.11.5"
    }
  },
  "nbformat": 4,
  "nbformat_minor": 0
}
