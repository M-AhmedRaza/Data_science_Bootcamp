{
  "cells": [
    {
      "cell_type": "markdown",
      "metadata": {
        "id": "view-in-github",
        "colab_type": "text"
      },
      "source": [
        "<a href=\"https://colab.research.google.com/github/M-AhmedRaza/Data_science_Bootcamp/blob/main/PlayStore_EDAl.ipynb\" target=\"_parent\"><img src=\"https://colab.research.google.com/assets/colab-badge.svg\" alt=\"Open In Colab\"/></a>"
      ]
    },
    {
      "cell_type": "markdown",
      "metadata": {
        "id": "ha8rC1AYhZOM"
      },
      "source": [
        "# Google Playstore Data (Large)\n",
        "### Complete EDA Analysis\n",
        "\n",
        "**About Dataset**\\\n",
        "Google PlayStore Android App Data. (18000 App Data)\\\n",
        "\n",
        "\n",
        "This data is from Google playstore that has all necessary columns to understand the How apps are doing on the platform.\n",
        "\n",
        "**Content** The data was collected in the month of June 2021.\n",
        "\n",
        "**What you can expect from Analysis:**\n",
        "\n",
        "What is datset about\n",
        "\n",
        "what is the aim of analysis\n",
        "\n",
        "what you can expect\n",
        "\n",
        "What & how will we do with the data- Analysis Story\n",
        "\n",
        "Importing the data\n",
        "Inspecting the data\n",
        "Missing values and imputation\n",
        "Data cleaning\n",
        "EDA"
      ]
    },
    {
      "cell_type": "markdown",
      "metadata": {
        "id": "e405JeZ0ArTL"
      },
      "source": [
        "---"
      ]
    },
    {
      "cell_type": "markdown",
      "metadata": {
        "id": "N5yMqioH2JOU"
      },
      "source": [
        "# 00-Preliminaries\n",
        "\n",
        "Importing Libraries\\\n",
        "Filtering warnings\\\n",
        "Setting display options\\\n",
        "Data Loading\n"
      ]
    },
    {
      "cell_type": "markdown",
      "metadata": {
        "id": "8fhDNW3YPsPH"
      },
      "source": [
        "## Importing Libraries"
      ]
    },
    {
      "cell_type": "code",
      "execution_count": null,
      "metadata": {
        "id": "Y1RenL1hhOfM"
      },
      "outputs": [],
      "source": [
        "#Base Libraries\n",
        "import time\n",
        "import datetime\n",
        "import os\n",
        "#technical libraries\n",
        "import pandas as pd\n",
        "import numpy as np\n",
        "#visualization libraries\n",
        "import seaborn as sns\n",
        "import matplotlib.pyplot  as plt\n",
        "#data processing libraries\n",
        "from scipy import stats\n",
        "#import date time\n",
        "import datetime\n",
        "\n",
        "\n",
        "#data analysis libraries\n",
        "#machine learning libraries\n",
        "#deep learning libraries\n",
        "#nlp libraries\n",
        "\n",
        "\n",
        "\n",
        "\n",
        "\n",
        "%matplotlib inline"
      ]
    },
    {
      "cell_type": "code",
      "execution_count": null,
      "metadata": {
        "id": "mv7XZaIN2aD4"
      },
      "outputs": [],
      "source": [
        "# ignoring warnings\n",
        "import warnings\n",
        "warnings.filterwarnings('ignore')"
      ]
    },
    {
      "cell_type": "code",
      "execution_count": null,
      "metadata": {
        "id": "POr5txpG2kN_"
      },
      "outputs": [],
      "source": [
        "# setting display options\n",
        "pd.set_option('display.max_columns',None)\n",
        "pd.set_option('display.max_rows',None)"
      ]
    },
    {
      "cell_type": "markdown",
      "metadata": {
        "id": "5-PZJF-bApjD"
      },
      "source": [
        "---"
      ]
    },
    {
      "cell_type": "markdown",
      "metadata": {
        "id": "GyGbVdG-3C7x"
      },
      "source": [
        "## Data Loading"
      ]
    },
    {
      "cell_type": "code",
      "execution_count": null,
      "metadata": {
        "id": "i5M2wg4X8Rp5"
      },
      "outputs": [],
      "source": [
        "df = pd.read_csv('/content/sample_data/Google-Playstore.csv')"
      ]
    },
    {
      "cell_type": "markdown",
      "metadata": {
        "id": "d6yefi8kAnpm"
      },
      "source": [
        "---"
      ]
    },
    {
      "cell_type": "markdown",
      "metadata": {
        "id": "ljaLlmGR25Am"
      },
      "source": [
        "# 01-Data Insight\n",
        "This is the first step to get the intruduction of the data, what lies inside.\n",
        "\n",
        "Features & Enteries information.\n",
        "\n",
        "Data Types of each column.\n"
      ]
    },
    {
      "cell_type": "code",
      "execution_count": null,
      "metadata": {
        "colab": {
          "base_uri": "https://localhost:8080/",
          "height": 487
        },
        "id": "IpRFLdEx8R2Q",
        "outputId": "a747480f-2068-431d-ebe6-77b2f3cf5016"
      },
      "outputs": [
        {
          "output_type": "execute_result",
          "data": {
            "text/plain": [
              "                                            App Name  \\\n",
              "0                                            Gakondo   \n",
              "1                                Ampere Battery Info   \n",
              "2                                             Vibook   \n",
              "3  Smart City Trichy Public Service Vehicles 17UC...   \n",
              "4                                            GROW.me   \n",
              "\n",
              "                       App Id       Category  Rating  Rating Count Installs  \\\n",
              "0         com.ishakwe.gakondo      Adventure     0.0           0.0      10+   \n",
              "1  com.webserveis.batteryinfo          Tools     4.4          64.0   5,000+   \n",
              "2        com.doantiepvien.crm   Productivity     0.0           0.0      50+   \n",
              "3     cst.stJoseph.ug17ucs548  Communication     5.0           5.0      10+   \n",
              "4        com.horodyski.grower          Tools     0.0           0.0     100+   \n",
              "\n",
              "   Minimum Installs  Maximum Installs  Free  Price Currency  Size  \\\n",
              "0                10                15  True    0.0      USD   10M   \n",
              "1              5000              7662  True    0.0      USD  2.9M   \n",
              "2                50                58  True    0.0      USD  3.7M   \n",
              "3                10                19  True    0.0      USD  1.8M   \n",
              "4               100               478  True    0.0      USD  6.2M   \n",
              "\n",
              "  Minimum Android                       Developer Id  \\\n",
              "0      7.1 and up  Jean Confident Irénée NIYIZIBYOSE   \n",
              "1      5.0 and up                         Webserveis   \n",
              "2    4.0.3 and up                         Cabin Crew   \n",
              "3    4.0.3 and up                Climate Smart Tech2   \n",
              "4      4.1 and up              Rafal Milek-Horodyski   \n",
              "\n",
              "                  Developer Website              Developer Email  \\\n",
              "0       https://beniyizibyose.tk/#/       jean21101999@gmail.com   \n",
              "1   https://webserveis.netlify.app/         webserveis@gmail.com   \n",
              "2                               NaN          vnacrewit@gmail.com   \n",
              "3  http://www.climatesmarttech.com/  climatesmarttech2@gmail.com   \n",
              "4       http://www.horodyski.com.pl    rmilekhorodyski@gmail.com   \n",
              "\n",
              "       Released  Last Updated Content Rating  \\\n",
              "0  Feb 26, 2020  Feb 26, 2020       Everyone   \n",
              "1  May 21, 2020  May 06, 2021       Everyone   \n",
              "2   Aug 9, 2019  Aug 19, 2019       Everyone   \n",
              "3  Sep 10, 2018  Oct 13, 2018       Everyone   \n",
              "4  Feb 21, 2020  Nov 12, 2018       Everyone   \n",
              "\n",
              "                                      Privacy Policy  Ad Supported  \\\n",
              "0                 https://beniyizibyose.tk/projects/         False   \n",
              "1  https://dev4phones.wordpress.com/licencia-de-uso/          True   \n",
              "2  https://www.vietnamairlines.com/vn/en/terms-an...         False   \n",
              "3                                                NaN          True   \n",
              "4                        http://www.horodyski.com.pl         False   \n",
              "\n",
              "   In App Purchases Editors Choice         Scraped Time  \n",
              "0             False          False  2021-06-15 20:19:35  \n",
              "1             False          False  2021-06-15 20:19:35  \n",
              "2             False          False  2021-06-15 20:19:35  \n",
              "3             False          False  2021-06-15 20:19:35  \n",
              "4             False          False  2021-06-15 20:19:35  "
            ],
            "text/html": [
              "\n",
              "  <div id=\"df-ba3fa51b-fd8f-46b6-8649-3c54fcaac2bb\" class=\"colab-df-container\">\n",
              "    <div>\n",
              "<style scoped>\n",
              "    .dataframe tbody tr th:only-of-type {\n",
              "        vertical-align: middle;\n",
              "    }\n",
              "\n",
              "    .dataframe tbody tr th {\n",
              "        vertical-align: top;\n",
              "    }\n",
              "\n",
              "    .dataframe thead th {\n",
              "        text-align: right;\n",
              "    }\n",
              "</style>\n",
              "<table border=\"1\" class=\"dataframe\">\n",
              "  <thead>\n",
              "    <tr style=\"text-align: right;\">\n",
              "      <th></th>\n",
              "      <th>App Name</th>\n",
              "      <th>App Id</th>\n",
              "      <th>Category</th>\n",
              "      <th>Rating</th>\n",
              "      <th>Rating Count</th>\n",
              "      <th>Installs</th>\n",
              "      <th>Minimum Installs</th>\n",
              "      <th>Maximum Installs</th>\n",
              "      <th>Free</th>\n",
              "      <th>Price</th>\n",
              "      <th>Currency</th>\n",
              "      <th>Size</th>\n",
              "      <th>Minimum Android</th>\n",
              "      <th>Developer Id</th>\n",
              "      <th>Developer Website</th>\n",
              "      <th>Developer Email</th>\n",
              "      <th>Released</th>\n",
              "      <th>Last Updated</th>\n",
              "      <th>Content Rating</th>\n",
              "      <th>Privacy Policy</th>\n",
              "      <th>Ad Supported</th>\n",
              "      <th>In App Purchases</th>\n",
              "      <th>Editors Choice</th>\n",
              "      <th>Scraped Time</th>\n",
              "    </tr>\n",
              "  </thead>\n",
              "  <tbody>\n",
              "    <tr>\n",
              "      <th>0</th>\n",
              "      <td>Gakondo</td>\n",
              "      <td>com.ishakwe.gakondo</td>\n",
              "      <td>Adventure</td>\n",
              "      <td>0.0</td>\n",
              "      <td>0.0</td>\n",
              "      <td>10+</td>\n",
              "      <td>10</td>\n",
              "      <td>15</td>\n",
              "      <td>True</td>\n",
              "      <td>0.0</td>\n",
              "      <td>USD</td>\n",
              "      <td>10M</td>\n",
              "      <td>7.1 and up</td>\n",
              "      <td>Jean Confident Irénée NIYIZIBYOSE</td>\n",
              "      <td>https://beniyizibyose.tk/#/</td>\n",
              "      <td>jean21101999@gmail.com</td>\n",
              "      <td>Feb 26, 2020</td>\n",
              "      <td>Feb 26, 2020</td>\n",
              "      <td>Everyone</td>\n",
              "      <td>https://beniyizibyose.tk/projects/</td>\n",
              "      <td>False</td>\n",
              "      <td>False</td>\n",
              "      <td>False</td>\n",
              "      <td>2021-06-15 20:19:35</td>\n",
              "    </tr>\n",
              "    <tr>\n",
              "      <th>1</th>\n",
              "      <td>Ampere Battery Info</td>\n",
              "      <td>com.webserveis.batteryinfo</td>\n",
              "      <td>Tools</td>\n",
              "      <td>4.4</td>\n",
              "      <td>64.0</td>\n",
              "      <td>5,000+</td>\n",
              "      <td>5000</td>\n",
              "      <td>7662</td>\n",
              "      <td>True</td>\n",
              "      <td>0.0</td>\n",
              "      <td>USD</td>\n",
              "      <td>2.9M</td>\n",
              "      <td>5.0 and up</td>\n",
              "      <td>Webserveis</td>\n",
              "      <td>https://webserveis.netlify.app/</td>\n",
              "      <td>webserveis@gmail.com</td>\n",
              "      <td>May 21, 2020</td>\n",
              "      <td>May 06, 2021</td>\n",
              "      <td>Everyone</td>\n",
              "      <td>https://dev4phones.wordpress.com/licencia-de-uso/</td>\n",
              "      <td>True</td>\n",
              "      <td>False</td>\n",
              "      <td>False</td>\n",
              "      <td>2021-06-15 20:19:35</td>\n",
              "    </tr>\n",
              "    <tr>\n",
              "      <th>2</th>\n",
              "      <td>Vibook</td>\n",
              "      <td>com.doantiepvien.crm</td>\n",
              "      <td>Productivity</td>\n",
              "      <td>0.0</td>\n",
              "      <td>0.0</td>\n",
              "      <td>50+</td>\n",
              "      <td>50</td>\n",
              "      <td>58</td>\n",
              "      <td>True</td>\n",
              "      <td>0.0</td>\n",
              "      <td>USD</td>\n",
              "      <td>3.7M</td>\n",
              "      <td>4.0.3 and up</td>\n",
              "      <td>Cabin Crew</td>\n",
              "      <td>NaN</td>\n",
              "      <td>vnacrewit@gmail.com</td>\n",
              "      <td>Aug 9, 2019</td>\n",
              "      <td>Aug 19, 2019</td>\n",
              "      <td>Everyone</td>\n",
              "      <td>https://www.vietnamairlines.com/vn/en/terms-an...</td>\n",
              "      <td>False</td>\n",
              "      <td>False</td>\n",
              "      <td>False</td>\n",
              "      <td>2021-06-15 20:19:35</td>\n",
              "    </tr>\n",
              "    <tr>\n",
              "      <th>3</th>\n",
              "      <td>Smart City Trichy Public Service Vehicles 17UC...</td>\n",
              "      <td>cst.stJoseph.ug17ucs548</td>\n",
              "      <td>Communication</td>\n",
              "      <td>5.0</td>\n",
              "      <td>5.0</td>\n",
              "      <td>10+</td>\n",
              "      <td>10</td>\n",
              "      <td>19</td>\n",
              "      <td>True</td>\n",
              "      <td>0.0</td>\n",
              "      <td>USD</td>\n",
              "      <td>1.8M</td>\n",
              "      <td>4.0.3 and up</td>\n",
              "      <td>Climate Smart Tech2</td>\n",
              "      <td>http://www.climatesmarttech.com/</td>\n",
              "      <td>climatesmarttech2@gmail.com</td>\n",
              "      <td>Sep 10, 2018</td>\n",
              "      <td>Oct 13, 2018</td>\n",
              "      <td>Everyone</td>\n",
              "      <td>NaN</td>\n",
              "      <td>True</td>\n",
              "      <td>False</td>\n",
              "      <td>False</td>\n",
              "      <td>2021-06-15 20:19:35</td>\n",
              "    </tr>\n",
              "    <tr>\n",
              "      <th>4</th>\n",
              "      <td>GROW.me</td>\n",
              "      <td>com.horodyski.grower</td>\n",
              "      <td>Tools</td>\n",
              "      <td>0.0</td>\n",
              "      <td>0.0</td>\n",
              "      <td>100+</td>\n",
              "      <td>100</td>\n",
              "      <td>478</td>\n",
              "      <td>True</td>\n",
              "      <td>0.0</td>\n",
              "      <td>USD</td>\n",
              "      <td>6.2M</td>\n",
              "      <td>4.1 and up</td>\n",
              "      <td>Rafal Milek-Horodyski</td>\n",
              "      <td>http://www.horodyski.com.pl</td>\n",
              "      <td>rmilekhorodyski@gmail.com</td>\n",
              "      <td>Feb 21, 2020</td>\n",
              "      <td>Nov 12, 2018</td>\n",
              "      <td>Everyone</td>\n",
              "      <td>http://www.horodyski.com.pl</td>\n",
              "      <td>False</td>\n",
              "      <td>False</td>\n",
              "      <td>False</td>\n",
              "      <td>2021-06-15 20:19:35</td>\n",
              "    </tr>\n",
              "  </tbody>\n",
              "</table>\n",
              "</div>\n",
              "    <div class=\"colab-df-buttons\">\n",
              "\n",
              "  <div class=\"colab-df-container\">\n",
              "    <button class=\"colab-df-convert\" onclick=\"convertToInteractive('df-ba3fa51b-fd8f-46b6-8649-3c54fcaac2bb')\"\n",
              "            title=\"Convert this dataframe to an interactive table.\"\n",
              "            style=\"display:none;\">\n",
              "\n",
              "  <svg xmlns=\"http://www.w3.org/2000/svg\" height=\"24px\" viewBox=\"0 -960 960 960\">\n",
              "    <path d=\"M120-120v-720h720v720H120Zm60-500h600v-160H180v160Zm220 220h160v-160H400v160Zm0 220h160v-160H400v160ZM180-400h160v-160H180v160Zm440 0h160v-160H620v160ZM180-180h160v-160H180v160Zm440 0h160v-160H620v160Z\"/>\n",
              "  </svg>\n",
              "    </button>\n",
              "\n",
              "  <style>\n",
              "    .colab-df-container {\n",
              "      display:flex;\n",
              "      gap: 12px;\n",
              "    }\n",
              "\n",
              "    .colab-df-convert {\n",
              "      background-color: #E8F0FE;\n",
              "      border: none;\n",
              "      border-radius: 50%;\n",
              "      cursor: pointer;\n",
              "      display: none;\n",
              "      fill: #1967D2;\n",
              "      height: 32px;\n",
              "      padding: 0 0 0 0;\n",
              "      width: 32px;\n",
              "    }\n",
              "\n",
              "    .colab-df-convert:hover {\n",
              "      background-color: #E2EBFA;\n",
              "      box-shadow: 0px 1px 2px rgba(60, 64, 67, 0.3), 0px 1px 3px 1px rgba(60, 64, 67, 0.15);\n",
              "      fill: #174EA6;\n",
              "    }\n",
              "\n",
              "    .colab-df-buttons div {\n",
              "      margin-bottom: 4px;\n",
              "    }\n",
              "\n",
              "    [theme=dark] .colab-df-convert {\n",
              "      background-color: #3B4455;\n",
              "      fill: #D2E3FC;\n",
              "    }\n",
              "\n",
              "    [theme=dark] .colab-df-convert:hover {\n",
              "      background-color: #434B5C;\n",
              "      box-shadow: 0px 1px 3px 1px rgba(0, 0, 0, 0.15);\n",
              "      filter: drop-shadow(0px 1px 2px rgba(0, 0, 0, 0.3));\n",
              "      fill: #FFFFFF;\n",
              "    }\n",
              "  </style>\n",
              "\n",
              "    <script>\n",
              "      const buttonEl =\n",
              "        document.querySelector('#df-ba3fa51b-fd8f-46b6-8649-3c54fcaac2bb button.colab-df-convert');\n",
              "      buttonEl.style.display =\n",
              "        google.colab.kernel.accessAllowed ? 'block' : 'none';\n",
              "\n",
              "      async function convertToInteractive(key) {\n",
              "        const element = document.querySelector('#df-ba3fa51b-fd8f-46b6-8649-3c54fcaac2bb');\n",
              "        const dataTable =\n",
              "          await google.colab.kernel.invokeFunction('convertToInteractive',\n",
              "                                                    [key], {});\n",
              "        if (!dataTable) return;\n",
              "\n",
              "        const docLinkHtml = 'Like what you see? Visit the ' +\n",
              "          '<a target=\"_blank\" href=https://colab.research.google.com/notebooks/data_table.ipynb>data table notebook</a>'\n",
              "          + ' to learn more about interactive tables.';\n",
              "        element.innerHTML = '';\n",
              "        dataTable['output_type'] = 'display_data';\n",
              "        await google.colab.output.renderOutput(dataTable, element);\n",
              "        const docLink = document.createElement('div');\n",
              "        docLink.innerHTML = docLinkHtml;\n",
              "        element.appendChild(docLink);\n",
              "      }\n",
              "    </script>\n",
              "  </div>\n",
              "\n",
              "\n",
              "<div id=\"df-c145dda4-bdd8-440a-9f54-ba355b1b808a\">\n",
              "  <button class=\"colab-df-quickchart\" onclick=\"quickchart('df-c145dda4-bdd8-440a-9f54-ba355b1b808a')\"\n",
              "            title=\"Suggest charts\"\n",
              "            style=\"display:none;\">\n",
              "\n",
              "<svg xmlns=\"http://www.w3.org/2000/svg\" height=\"24px\"viewBox=\"0 0 24 24\"\n",
              "     width=\"24px\">\n",
              "    <g>\n",
              "        <path d=\"M19 3H5c-1.1 0-2 .9-2 2v14c0 1.1.9 2 2 2h14c1.1 0 2-.9 2-2V5c0-1.1-.9-2-2-2zM9 17H7v-7h2v7zm4 0h-2V7h2v10zm4 0h-2v-4h2v4z\"/>\n",
              "    </g>\n",
              "</svg>\n",
              "  </button>\n",
              "\n",
              "<style>\n",
              "  .colab-df-quickchart {\n",
              "      --bg-color: #E8F0FE;\n",
              "      --fill-color: #1967D2;\n",
              "      --hover-bg-color: #E2EBFA;\n",
              "      --hover-fill-color: #174EA6;\n",
              "      --disabled-fill-color: #AAA;\n",
              "      --disabled-bg-color: #DDD;\n",
              "  }\n",
              "\n",
              "  [theme=dark] .colab-df-quickchart {\n",
              "      --bg-color: #3B4455;\n",
              "      --fill-color: #D2E3FC;\n",
              "      --hover-bg-color: #434B5C;\n",
              "      --hover-fill-color: #FFFFFF;\n",
              "      --disabled-bg-color: #3B4455;\n",
              "      --disabled-fill-color: #666;\n",
              "  }\n",
              "\n",
              "  .colab-df-quickchart {\n",
              "    background-color: var(--bg-color);\n",
              "    border: none;\n",
              "    border-radius: 50%;\n",
              "    cursor: pointer;\n",
              "    display: none;\n",
              "    fill: var(--fill-color);\n",
              "    height: 32px;\n",
              "    padding: 0;\n",
              "    width: 32px;\n",
              "  }\n",
              "\n",
              "  .colab-df-quickchart:hover {\n",
              "    background-color: var(--hover-bg-color);\n",
              "    box-shadow: 0 1px 2px rgba(60, 64, 67, 0.3), 0 1px 3px 1px rgba(60, 64, 67, 0.15);\n",
              "    fill: var(--button-hover-fill-color);\n",
              "  }\n",
              "\n",
              "  .colab-df-quickchart-complete:disabled,\n",
              "  .colab-df-quickchart-complete:disabled:hover {\n",
              "    background-color: var(--disabled-bg-color);\n",
              "    fill: var(--disabled-fill-color);\n",
              "    box-shadow: none;\n",
              "  }\n",
              "\n",
              "  .colab-df-spinner {\n",
              "    border: 2px solid var(--fill-color);\n",
              "    border-color: transparent;\n",
              "    border-bottom-color: var(--fill-color);\n",
              "    animation:\n",
              "      spin 1s steps(1) infinite;\n",
              "  }\n",
              "\n",
              "  @keyframes spin {\n",
              "    0% {\n",
              "      border-color: transparent;\n",
              "      border-bottom-color: var(--fill-color);\n",
              "      border-left-color: var(--fill-color);\n",
              "    }\n",
              "    20% {\n",
              "      border-color: transparent;\n",
              "      border-left-color: var(--fill-color);\n",
              "      border-top-color: var(--fill-color);\n",
              "    }\n",
              "    30% {\n",
              "      border-color: transparent;\n",
              "      border-left-color: var(--fill-color);\n",
              "      border-top-color: var(--fill-color);\n",
              "      border-right-color: var(--fill-color);\n",
              "    }\n",
              "    40% {\n",
              "      border-color: transparent;\n",
              "      border-right-color: var(--fill-color);\n",
              "      border-top-color: var(--fill-color);\n",
              "    }\n",
              "    60% {\n",
              "      border-color: transparent;\n",
              "      border-right-color: var(--fill-color);\n",
              "    }\n",
              "    80% {\n",
              "      border-color: transparent;\n",
              "      border-right-color: var(--fill-color);\n",
              "      border-bottom-color: var(--fill-color);\n",
              "    }\n",
              "    90% {\n",
              "      border-color: transparent;\n",
              "      border-bottom-color: var(--fill-color);\n",
              "    }\n",
              "  }\n",
              "</style>\n",
              "\n",
              "  <script>\n",
              "    async function quickchart(key) {\n",
              "      const quickchartButtonEl =\n",
              "        document.querySelector('#' + key + ' button');\n",
              "      quickchartButtonEl.disabled = true;  // To prevent multiple clicks.\n",
              "      quickchartButtonEl.classList.add('colab-df-spinner');\n",
              "      try {\n",
              "        const charts = await google.colab.kernel.invokeFunction(\n",
              "            'suggestCharts', [key], {});\n",
              "      } catch (error) {\n",
              "        console.error('Error during call to suggestCharts:', error);\n",
              "      }\n",
              "      quickchartButtonEl.classList.remove('colab-df-spinner');\n",
              "      quickchartButtonEl.classList.add('colab-df-quickchart-complete');\n",
              "    }\n",
              "    (() => {\n",
              "      let quickchartButtonEl =\n",
              "        document.querySelector('#df-c145dda4-bdd8-440a-9f54-ba355b1b808a button');\n",
              "      quickchartButtonEl.style.display =\n",
              "        google.colab.kernel.accessAllowed ? 'block' : 'none';\n",
              "    })();\n",
              "  </script>\n",
              "</div>\n",
              "\n",
              "    </div>\n",
              "  </div>\n"
            ]
          },
          "metadata": {},
          "execution_count": 90
        }
      ],
      "source": [
        "df.head()"
      ]
    },
    {
      "cell_type": "markdown",
      "metadata": {
        "id": "wpB3pRkp8Cc8"
      },
      "source": [
        "**Some of the columns that seems not very useful like: App id, Minimum & Maximum Installs, Free, Minimum Android, Developer Id, Developer website, Developer email, privacy policy, scraped time.\\\n",
        "we will make a subset of the the data with slected columns and drop the rest to perform analysis.**"
      ]
    },
    {
      "cell_type": "code",
      "execution_count": null,
      "metadata": {
        "colab": {
          "base_uri": "https://localhost:8080/",
          "height": 301
        },
        "id": "WfhvtZMx8X0T",
        "outputId": "bf90620a-07ae-4ecb-aa56-04964c4e17bd"
      },
      "outputs": [
        {
          "output_type": "execute_result",
          "data": {
            "text/plain": [
              "            Rating  Rating Count  Minimum Installs  Maximum Installs  \\\n",
              "count  3561.000000  3.561000e+03      3.593000e+03      3.593000e+03   \n",
              "mean      2.144285  1.701534e+03      1.326698e+05      1.955325e+05   \n",
              "std       2.108493  2.957055e+04      2.447519e+06      2.939831e+06   \n",
              "min       0.000000  0.000000e+00      0.000000e+00      0.000000e+00   \n",
              "25%       0.000000  0.000000e+00      5.000000e+01      7.600000e+01   \n",
              "50%       2.700000  6.000000e+00      5.000000e+02      6.300000e+02   \n",
              "75%       4.300000  3.900000e+01      5.000000e+03      6.435000e+03   \n",
              "max       5.000000  1.264773e+06      1.000000e+08      1.254455e+08   \n",
              "\n",
              "             Price  \n",
              "count  3593.000000  \n",
              "mean      0.111336  \n",
              "std       1.949123  \n",
              "min       0.000000  \n",
              "25%       0.000000  \n",
              "50%       0.000000  \n",
              "75%       0.000000  \n",
              "max      99.990000  "
            ],
            "text/html": [
              "\n",
              "  <div id=\"df-b86feb5d-aa6c-4fd6-8b1f-8a4b0b5ead13\" class=\"colab-df-container\">\n",
              "    <div>\n",
              "<style scoped>\n",
              "    .dataframe tbody tr th:only-of-type {\n",
              "        vertical-align: middle;\n",
              "    }\n",
              "\n",
              "    .dataframe tbody tr th {\n",
              "        vertical-align: top;\n",
              "    }\n",
              "\n",
              "    .dataframe thead th {\n",
              "        text-align: right;\n",
              "    }\n",
              "</style>\n",
              "<table border=\"1\" class=\"dataframe\">\n",
              "  <thead>\n",
              "    <tr style=\"text-align: right;\">\n",
              "      <th></th>\n",
              "      <th>Rating</th>\n",
              "      <th>Rating Count</th>\n",
              "      <th>Minimum Installs</th>\n",
              "      <th>Maximum Installs</th>\n",
              "      <th>Price</th>\n",
              "    </tr>\n",
              "  </thead>\n",
              "  <tbody>\n",
              "    <tr>\n",
              "      <th>count</th>\n",
              "      <td>3561.000000</td>\n",
              "      <td>3.561000e+03</td>\n",
              "      <td>3.593000e+03</td>\n",
              "      <td>3.593000e+03</td>\n",
              "      <td>3593.000000</td>\n",
              "    </tr>\n",
              "    <tr>\n",
              "      <th>mean</th>\n",
              "      <td>2.144285</td>\n",
              "      <td>1.701534e+03</td>\n",
              "      <td>1.326698e+05</td>\n",
              "      <td>1.955325e+05</td>\n",
              "      <td>0.111336</td>\n",
              "    </tr>\n",
              "    <tr>\n",
              "      <th>std</th>\n",
              "      <td>2.108493</td>\n",
              "      <td>2.957055e+04</td>\n",
              "      <td>2.447519e+06</td>\n",
              "      <td>2.939831e+06</td>\n",
              "      <td>1.949123</td>\n",
              "    </tr>\n",
              "    <tr>\n",
              "      <th>min</th>\n",
              "      <td>0.000000</td>\n",
              "      <td>0.000000e+00</td>\n",
              "      <td>0.000000e+00</td>\n",
              "      <td>0.000000e+00</td>\n",
              "      <td>0.000000</td>\n",
              "    </tr>\n",
              "    <tr>\n",
              "      <th>25%</th>\n",
              "      <td>0.000000</td>\n",
              "      <td>0.000000e+00</td>\n",
              "      <td>5.000000e+01</td>\n",
              "      <td>7.600000e+01</td>\n",
              "      <td>0.000000</td>\n",
              "    </tr>\n",
              "    <tr>\n",
              "      <th>50%</th>\n",
              "      <td>2.700000</td>\n",
              "      <td>6.000000e+00</td>\n",
              "      <td>5.000000e+02</td>\n",
              "      <td>6.300000e+02</td>\n",
              "      <td>0.000000</td>\n",
              "    </tr>\n",
              "    <tr>\n",
              "      <th>75%</th>\n",
              "      <td>4.300000</td>\n",
              "      <td>3.900000e+01</td>\n",
              "      <td>5.000000e+03</td>\n",
              "      <td>6.435000e+03</td>\n",
              "      <td>0.000000</td>\n",
              "    </tr>\n",
              "    <tr>\n",
              "      <th>max</th>\n",
              "      <td>5.000000</td>\n",
              "      <td>1.264773e+06</td>\n",
              "      <td>1.000000e+08</td>\n",
              "      <td>1.254455e+08</td>\n",
              "      <td>99.990000</td>\n",
              "    </tr>\n",
              "  </tbody>\n",
              "</table>\n",
              "</div>\n",
              "    <div class=\"colab-df-buttons\">\n",
              "\n",
              "  <div class=\"colab-df-container\">\n",
              "    <button class=\"colab-df-convert\" onclick=\"convertToInteractive('df-b86feb5d-aa6c-4fd6-8b1f-8a4b0b5ead13')\"\n",
              "            title=\"Convert this dataframe to an interactive table.\"\n",
              "            style=\"display:none;\">\n",
              "\n",
              "  <svg xmlns=\"http://www.w3.org/2000/svg\" height=\"24px\" viewBox=\"0 -960 960 960\">\n",
              "    <path d=\"M120-120v-720h720v720H120Zm60-500h600v-160H180v160Zm220 220h160v-160H400v160Zm0 220h160v-160H400v160ZM180-400h160v-160H180v160Zm440 0h160v-160H620v160ZM180-180h160v-160H180v160Zm440 0h160v-160H620v160Z\"/>\n",
              "  </svg>\n",
              "    </button>\n",
              "\n",
              "  <style>\n",
              "    .colab-df-container {\n",
              "      display:flex;\n",
              "      gap: 12px;\n",
              "    }\n",
              "\n",
              "    .colab-df-convert {\n",
              "      background-color: #E8F0FE;\n",
              "      border: none;\n",
              "      border-radius: 50%;\n",
              "      cursor: pointer;\n",
              "      display: none;\n",
              "      fill: #1967D2;\n",
              "      height: 32px;\n",
              "      padding: 0 0 0 0;\n",
              "      width: 32px;\n",
              "    }\n",
              "\n",
              "    .colab-df-convert:hover {\n",
              "      background-color: #E2EBFA;\n",
              "      box-shadow: 0px 1px 2px rgba(60, 64, 67, 0.3), 0px 1px 3px 1px rgba(60, 64, 67, 0.15);\n",
              "      fill: #174EA6;\n",
              "    }\n",
              "\n",
              "    .colab-df-buttons div {\n",
              "      margin-bottom: 4px;\n",
              "    }\n",
              "\n",
              "    [theme=dark] .colab-df-convert {\n",
              "      background-color: #3B4455;\n",
              "      fill: #D2E3FC;\n",
              "    }\n",
              "\n",
              "    [theme=dark] .colab-df-convert:hover {\n",
              "      background-color: #434B5C;\n",
              "      box-shadow: 0px 1px 3px 1px rgba(0, 0, 0, 0.15);\n",
              "      filter: drop-shadow(0px 1px 2px rgba(0, 0, 0, 0.3));\n",
              "      fill: #FFFFFF;\n",
              "    }\n",
              "  </style>\n",
              "\n",
              "    <script>\n",
              "      const buttonEl =\n",
              "        document.querySelector('#df-b86feb5d-aa6c-4fd6-8b1f-8a4b0b5ead13 button.colab-df-convert');\n",
              "      buttonEl.style.display =\n",
              "        google.colab.kernel.accessAllowed ? 'block' : 'none';\n",
              "\n",
              "      async function convertToInteractive(key) {\n",
              "        const element = document.querySelector('#df-b86feb5d-aa6c-4fd6-8b1f-8a4b0b5ead13');\n",
              "        const dataTable =\n",
              "          await google.colab.kernel.invokeFunction('convertToInteractive',\n",
              "                                                    [key], {});\n",
              "        if (!dataTable) return;\n",
              "\n",
              "        const docLinkHtml = 'Like what you see? Visit the ' +\n",
              "          '<a target=\"_blank\" href=https://colab.research.google.com/notebooks/data_table.ipynb>data table notebook</a>'\n",
              "          + ' to learn more about interactive tables.';\n",
              "        element.innerHTML = '';\n",
              "        dataTable['output_type'] = 'display_data';\n",
              "        await google.colab.output.renderOutput(dataTable, element);\n",
              "        const docLink = document.createElement('div');\n",
              "        docLink.innerHTML = docLinkHtml;\n",
              "        element.appendChild(docLink);\n",
              "      }\n",
              "    </script>\n",
              "  </div>\n",
              "\n",
              "\n",
              "<div id=\"df-5971a678-e292-4b12-b088-9cec9a9ebae3\">\n",
              "  <button class=\"colab-df-quickchart\" onclick=\"quickchart('df-5971a678-e292-4b12-b088-9cec9a9ebae3')\"\n",
              "            title=\"Suggest charts\"\n",
              "            style=\"display:none;\">\n",
              "\n",
              "<svg xmlns=\"http://www.w3.org/2000/svg\" height=\"24px\"viewBox=\"0 0 24 24\"\n",
              "     width=\"24px\">\n",
              "    <g>\n",
              "        <path d=\"M19 3H5c-1.1 0-2 .9-2 2v14c0 1.1.9 2 2 2h14c1.1 0 2-.9 2-2V5c0-1.1-.9-2-2-2zM9 17H7v-7h2v7zm4 0h-2V7h2v10zm4 0h-2v-4h2v4z\"/>\n",
              "    </g>\n",
              "</svg>\n",
              "  </button>\n",
              "\n",
              "<style>\n",
              "  .colab-df-quickchart {\n",
              "      --bg-color: #E8F0FE;\n",
              "      --fill-color: #1967D2;\n",
              "      --hover-bg-color: #E2EBFA;\n",
              "      --hover-fill-color: #174EA6;\n",
              "      --disabled-fill-color: #AAA;\n",
              "      --disabled-bg-color: #DDD;\n",
              "  }\n",
              "\n",
              "  [theme=dark] .colab-df-quickchart {\n",
              "      --bg-color: #3B4455;\n",
              "      --fill-color: #D2E3FC;\n",
              "      --hover-bg-color: #434B5C;\n",
              "      --hover-fill-color: #FFFFFF;\n",
              "      --disabled-bg-color: #3B4455;\n",
              "      --disabled-fill-color: #666;\n",
              "  }\n",
              "\n",
              "  .colab-df-quickchart {\n",
              "    background-color: var(--bg-color);\n",
              "    border: none;\n",
              "    border-radius: 50%;\n",
              "    cursor: pointer;\n",
              "    display: none;\n",
              "    fill: var(--fill-color);\n",
              "    height: 32px;\n",
              "    padding: 0;\n",
              "    width: 32px;\n",
              "  }\n",
              "\n",
              "  .colab-df-quickchart:hover {\n",
              "    background-color: var(--hover-bg-color);\n",
              "    box-shadow: 0 1px 2px rgba(60, 64, 67, 0.3), 0 1px 3px 1px rgba(60, 64, 67, 0.15);\n",
              "    fill: var(--button-hover-fill-color);\n",
              "  }\n",
              "\n",
              "  .colab-df-quickchart-complete:disabled,\n",
              "  .colab-df-quickchart-complete:disabled:hover {\n",
              "    background-color: var(--disabled-bg-color);\n",
              "    fill: var(--disabled-fill-color);\n",
              "    box-shadow: none;\n",
              "  }\n",
              "\n",
              "  .colab-df-spinner {\n",
              "    border: 2px solid var(--fill-color);\n",
              "    border-color: transparent;\n",
              "    border-bottom-color: var(--fill-color);\n",
              "    animation:\n",
              "      spin 1s steps(1) infinite;\n",
              "  }\n",
              "\n",
              "  @keyframes spin {\n",
              "    0% {\n",
              "      border-color: transparent;\n",
              "      border-bottom-color: var(--fill-color);\n",
              "      border-left-color: var(--fill-color);\n",
              "    }\n",
              "    20% {\n",
              "      border-color: transparent;\n",
              "      border-left-color: var(--fill-color);\n",
              "      border-top-color: var(--fill-color);\n",
              "    }\n",
              "    30% {\n",
              "      border-color: transparent;\n",
              "      border-left-color: var(--fill-color);\n",
              "      border-top-color: var(--fill-color);\n",
              "      border-right-color: var(--fill-color);\n",
              "    }\n",
              "    40% {\n",
              "      border-color: transparent;\n",
              "      border-right-color: var(--fill-color);\n",
              "      border-top-color: var(--fill-color);\n",
              "    }\n",
              "    60% {\n",
              "      border-color: transparent;\n",
              "      border-right-color: var(--fill-color);\n",
              "    }\n",
              "    80% {\n",
              "      border-color: transparent;\n",
              "      border-right-color: var(--fill-color);\n",
              "      border-bottom-color: var(--fill-color);\n",
              "    }\n",
              "    90% {\n",
              "      border-color: transparent;\n",
              "      border-bottom-color: var(--fill-color);\n",
              "    }\n",
              "  }\n",
              "</style>\n",
              "\n",
              "  <script>\n",
              "    async function quickchart(key) {\n",
              "      const quickchartButtonEl =\n",
              "        document.querySelector('#' + key + ' button');\n",
              "      quickchartButtonEl.disabled = true;  // To prevent multiple clicks.\n",
              "      quickchartButtonEl.classList.add('colab-df-spinner');\n",
              "      try {\n",
              "        const charts = await google.colab.kernel.invokeFunction(\n",
              "            'suggestCharts', [key], {});\n",
              "      } catch (error) {\n",
              "        console.error('Error during call to suggestCharts:', error);\n",
              "      }\n",
              "      quickchartButtonEl.classList.remove('colab-df-spinner');\n",
              "      quickchartButtonEl.classList.add('colab-df-quickchart-complete');\n",
              "    }\n",
              "    (() => {\n",
              "      let quickchartButtonEl =\n",
              "        document.querySelector('#df-5971a678-e292-4b12-b088-9cec9a9ebae3 button');\n",
              "      quickchartButtonEl.style.display =\n",
              "        google.colab.kernel.accessAllowed ? 'block' : 'none';\n",
              "    })();\n",
              "  </script>\n",
              "</div>\n",
              "\n",
              "    </div>\n",
              "  </div>\n"
            ]
          },
          "metadata": {},
          "execution_count": 91
        }
      ],
      "source": [
        "df.describe()"
      ]
    },
    {
      "cell_type": "markdown",
      "metadata": {
        "id": "1K86S1xhN5CT"
      },
      "source": [
        "**This is the description of the data. It only includes the nuemerical data. However, we can observe there is more data which should be nuemerical but it is not yet. So we can address this issue.(Changing data type)**"
      ]
    },
    {
      "cell_type": "code",
      "execution_count": null,
      "metadata": {
        "colab": {
          "base_uri": "https://localhost:8080/"
        },
        "id": "FA11dqhO8b9i",
        "outputId": "32bdd904-2ecf-4f15-e941-312e6ac3155d"
      },
      "outputs": [
        {
          "output_type": "stream",
          "name": "stdout",
          "text": [
            "<class 'pandas.core.frame.DataFrame'>\n",
            "RangeIndex: 3593 entries, 0 to 3592\n",
            "Data columns (total 24 columns):\n",
            " #   Column             Non-Null Count  Dtype  \n",
            "---  ------             --------------  -----  \n",
            " 0   App Name           3593 non-null   object \n",
            " 1   App Id             3593 non-null   object \n",
            " 2   Category           3593 non-null   object \n",
            " 3   Rating             3561 non-null   float64\n",
            " 4   Rating Count       3561 non-null   float64\n",
            " 5   Installs           3593 non-null   object \n",
            " 6   Minimum Installs   3593 non-null   int64  \n",
            " 7   Maximum Installs   3593 non-null   int64  \n",
            " 8   Free               3593 non-null   bool   \n",
            " 9   Price              3593 non-null   float64\n",
            " 10  Currency           3593 non-null   object \n",
            " 11  Size               3593 non-null   object \n",
            " 12  Minimum Android    3583 non-null   object \n",
            " 13  Developer Id       3593 non-null   object \n",
            " 14  Developer Website  2379 non-null   object \n",
            " 15  Developer Email    3593 non-null   object \n",
            " 16  Released           3485 non-null   object \n",
            " 17  Last Updated       3593 non-null   object \n",
            " 18  Content Rating     3593 non-null   object \n",
            " 19  Privacy Policy     2935 non-null   object \n",
            " 20  Ad Supported       3593 non-null   bool   \n",
            " 21  In App Purchases   3593 non-null   bool   \n",
            " 22  Editors Choice     3592 non-null   object \n",
            " 23  Scraped Time       3592 non-null   object \n",
            "dtypes: bool(3), float64(3), int64(2), object(16)\n",
            "memory usage: 600.1+ KB\n"
          ]
        }
      ],
      "source": [
        "df.info()"
      ]
    },
    {
      "cell_type": "code",
      "execution_count": null,
      "metadata": {
        "colab": {
          "base_uri": "https://localhost:8080/"
        },
        "id": "Ee9asL8fOkAx",
        "outputId": "4d7afbaa-f928-458e-f8a7-ea95daa41c2a"
      },
      "outputs": [
        {
          "output_type": "stream",
          "name": "stdout",
          "text": [
            "No of rows in the dataset are 3593 and no of columns in the dataset are 24\n"
          ]
        }
      ],
      "source": [
        "#print no of rows and columns\n",
        "print(f\"No of rows in the dataset are {df.shape[0]} and no of columns in the dataset are {df.shape[1]}\")"
      ]
    },
    {
      "cell_type": "markdown",
      "metadata": {
        "id": "0Ht8NenESa_V"
      },
      "source": [
        "**No of rows in the dataset are 415,755 and no of columns in the dataset are 24**"
      ]
    },
    {
      "cell_type": "code",
      "execution_count": null,
      "metadata": {
        "colab": {
          "base_uri": "https://localhost:8080/"
        },
        "id": "6onU1VlDERlH",
        "outputId": "f9357a92-46e0-4ed7-c73b-616b710403be"
      },
      "outputs": [
        {
          "output_type": "execute_result",
          "data": {
            "text/plain": [
              "Education                  381\n",
              "Music & Audio              263\n",
              "Business                   224\n",
              "Tools                      218\n",
              "Books & Reference          200\n",
              "Lifestyle                  196\n",
              "Entertainment              193\n",
              "Productivity               139\n",
              "Personalization            126\n",
              "Finance                    117\n",
              "Shopping                   117\n",
              "Food & Drink               115\n",
              "Health & Fitness           115\n",
              "Travel & Local             111\n",
              "Sports                      93\n",
              "Arcade                      77\n",
              "Puzzle                      69\n",
              "Casual                      64\n",
              "News & Magazines            61\n",
              "Communication               60\n",
              "Social                      60\n",
              "Photography                 58\n",
              "Maps & Navigation           57\n",
              "Medical                     47\n",
              "Simulation                  38\n",
              "Adventure                   38\n",
              "Action                      33\n",
              "Educational                 31\n",
              "Art & Design                27\n",
              "Auto & Vehicles             26\n",
              "House & Home                26\n",
              "Beauty                      22\n",
              "Video Players & Editors     21\n",
              "Strategy                    21\n",
              "Racing                      21\n",
              "Events                      19\n",
              "Trivia                      18\n",
              "Role Playing                12\n",
              "Music                       11\n",
              "Weather                     10\n",
              "Card                        10\n",
              "Board                       10\n",
              "Dating                      10\n",
              "Libraries & Demo             8\n",
              "Parenting                    7\n",
              "Word                         6\n",
              "Comics                       4\n",
              "Casino                       3\n",
              "Name: Category, dtype: int64"
            ]
          },
          "metadata": {},
          "execution_count": 94
        }
      ],
      "source": [
        "df['Category'].value_counts()"
      ]
    },
    {
      "cell_type": "markdown",
      "metadata": {
        "id": "s8H11V95Em7f"
      },
      "source": [
        "**This is providing good insight what categories data belong to which will be pivotal for analysis. Music has two entries.\\\n",
        "Few of the categories are repeated with different name like Education hand Educational, music and music & audio.\n",
        "Need to merge these two entries.**"
      ]
    },
    {
      "cell_type": "markdown",
      "metadata": {
        "id": "Ol8iDZTs817Q"
      },
      "source": [
        "---"
      ]
    },
    {
      "cell_type": "markdown",
      "metadata": {
        "id": "oFo_CjPW8rAa"
      },
      "source": [
        "# 02-Overall Observations from Data Introduction\n",
        "\n",
        "This is the set of initial observations of the data, to keep the track which issues need to be addressed. There are 24 columns and 17917 rows.\n",
        "Data is of multiple data types\n",
        "\n",
        "**A quick overview of the data shows folowing are the issues that need to be addressed.**\n",
        "\n",
        "1. Installs column  is datatype:object with +,NaN symbols and abbreviations\n",
        "2. Price colmn $ sign and datatype:object\n",
        "3. Minimum Android is object\n",
        "4. Size Column is object with symbols\n",
        "5. Ad supported is boolean\n",
        "6. Dropping column\n",
        "7. Changing case of column\n",
        "8. **Size, Installs and Price** needs to be converted to nuemeric data type\n",
        "9. Merging categories\n",
        "\n",
        "**What we are going to do, Can be summarized as**\n",
        "\n",
        "*   Adjusting data types\n",
        "*   Changing case\n",
        "*   Dropping columns\n",
        "*   Merging categories\n",
        "*   Removing symbols\n",
        "\n",
        "**Data Cleaning and EDA Storyline**\n",
        "\n",
        "\n",
        "1.   changing column names to snake case\n",
        "2.   Dropping columns\n",
        "3.   Removing symbols and Changing data types\n",
        "4.   Merging categories\n",
        "5.   Creating subset of only columns necessory for analysis\n",
        "\n",
        "\n",
        "\n",
        "\n",
        "\n",
        "\n"
      ]
    },
    {
      "cell_type": "markdown",
      "metadata": {
        "id": "gChK0Bn2AjJ2"
      },
      "source": [
        "---"
      ]
    },
    {
      "cell_type": "markdown",
      "metadata": {
        "id": "gV5_ZWfzG9ht"
      },
      "source": [
        "# 2.5 Data Cleaning\n",
        "\n",
        "Column Names\\\n",
        "Slected columns\\\n",
        "Snake case column names\n"
      ]
    },
    {
      "cell_type": "markdown",
      "metadata": {
        "id": "E1MQMsodGVct"
      },
      "source": [
        "It is a good practice to start cleaning from the easiest issues."
      ]
    },
    {
      "cell_type": "code",
      "execution_count": null,
      "metadata": {
        "id": "bnn1HYatGoYO",
        "colab": {
          "base_uri": "https://localhost:8080/"
        },
        "outputId": "1963b266-7578-436f-ca0d-0ec51ebb94cc"
      },
      "outputs": [
        {
          "output_type": "execute_result",
          "data": {
            "text/plain": [
              "Index(['app_name', 'app_id', 'category', 'rating', 'rating_count', 'installs',\n",
              "       'minimum_installs', 'maximum_installs', 'free', 'price', 'currency',\n",
              "       'size', 'minimum_android', 'developer_id', 'developer_website',\n",
              "       'developer_email', 'released', 'last_updated', 'content_rating',\n",
              "       'privacy_policy', 'ad_supported', 'in_app_purchases', 'editors_choice',\n",
              "       'scraped_time'],\n",
              "      dtype='object')"
            ]
          },
          "metadata": {},
          "execution_count": 95
        }
      ],
      "source": [
        "# converting all column names to snake case\n",
        "df.columns = df.columns.str.replace(' ','_')\n",
        "df.columns = df.columns.str.replace('-','_')\n",
        "df.columns = df.columns.str.lower()\n",
        "df.columns"
      ]
    },
    {
      "cell_type": "code",
      "execution_count": null,
      "metadata": {
        "id": "8FifE5Gh61_P",
        "colab": {
          "base_uri": "https://localhost:8080/"
        },
        "outputId": "dc614bdf-c99f-43ed-a995-832a33cea243"
      },
      "outputs": [
        {
          "output_type": "execute_result",
          "data": {
            "text/plain": [
              "Index(['app_name', 'app_id', 'category', 'rating', 'rating_count', 'installs',\n",
              "       'minimum_installs', 'maximum_installs', 'free', 'price', 'currency',\n",
              "       'size', 'minimum_android', 'developer_id', 'developer_website',\n",
              "       'developer_email', 'released', 'last_updated', 'content_rating',\n",
              "       'privacy_policy', 'ad_supported', 'in_app_purchases', 'editors_choice',\n",
              "       'scraped_time'],\n",
              "      dtype='object')"
            ]
          },
          "metadata": {},
          "execution_count": 96
        }
      ],
      "source": [
        "# column names\n",
        "column_names = df.columns\n",
        "column_names\n"
      ]
    },
    {
      "cell_type": "code",
      "execution_count": null,
      "metadata": {
        "colab": {
          "base_uri": "https://localhost:8080/"
        },
        "id": "7o_rstlSOrmy",
        "outputId": "9145c3b9-2f4a-4726-e175-982178f4504b"
      },
      "outputs": [
        {
          "output_type": "execute_result",
          "data": {
            "text/plain": [
              "   ad_supported                                           app_name  \\\n",
              "0         False                                            Gakondo   \n",
              "1          True                                Ampere Battery Info   \n",
              "2         False                                             Vibook   \n",
              "3          True  Smart City Trichy Public Service Vehicles 17UC...   \n",
              "4         False                                            GROW.me   \n",
              "\n",
              "        category content_rating currency editors_choice  in_app_purchases  \\\n",
              "0      Adventure       Everyone      USD          False             False   \n",
              "1          Tools       Everyone      USD          False             False   \n",
              "2   Productivity       Everyone      USD          False             False   \n",
              "3  Communication       Everyone      USD          False             False   \n",
              "4          Tools       Everyone      USD          False             False   \n",
              "\n",
              "  installs  last_updated  price  rating  rating_count      released  size  \n",
              "0      10+  Feb 26, 2020    0.0     0.0           0.0  Feb 26, 2020   10M  \n",
              "1   5,000+  May 06, 2021    0.0     4.4          64.0  May 21, 2020  2.9M  \n",
              "2      50+  Aug 19, 2019    0.0     0.0           0.0   Aug 9, 2019  3.7M  \n",
              "3      10+  Oct 13, 2018    0.0     5.0           5.0  Sep 10, 2018  1.8M  \n",
              "4     100+  Nov 12, 2018    0.0     0.0           0.0  Feb 21, 2020  6.2M  "
            ],
            "text/html": [
              "\n",
              "  <div id=\"df-94500d1c-d5b0-492a-b884-0bdaa5ed3f57\" class=\"colab-df-container\">\n",
              "    <div>\n",
              "<style scoped>\n",
              "    .dataframe tbody tr th:only-of-type {\n",
              "        vertical-align: middle;\n",
              "    }\n",
              "\n",
              "    .dataframe tbody tr th {\n",
              "        vertical-align: top;\n",
              "    }\n",
              "\n",
              "    .dataframe thead th {\n",
              "        text-align: right;\n",
              "    }\n",
              "</style>\n",
              "<table border=\"1\" class=\"dataframe\">\n",
              "  <thead>\n",
              "    <tr style=\"text-align: right;\">\n",
              "      <th></th>\n",
              "      <th>ad_supported</th>\n",
              "      <th>app_name</th>\n",
              "      <th>category</th>\n",
              "      <th>content_rating</th>\n",
              "      <th>currency</th>\n",
              "      <th>editors_choice</th>\n",
              "      <th>in_app_purchases</th>\n",
              "      <th>installs</th>\n",
              "      <th>last_updated</th>\n",
              "      <th>price</th>\n",
              "      <th>rating</th>\n",
              "      <th>rating_count</th>\n",
              "      <th>released</th>\n",
              "      <th>size</th>\n",
              "    </tr>\n",
              "  </thead>\n",
              "  <tbody>\n",
              "    <tr>\n",
              "      <th>0</th>\n",
              "      <td>False</td>\n",
              "      <td>Gakondo</td>\n",
              "      <td>Adventure</td>\n",
              "      <td>Everyone</td>\n",
              "      <td>USD</td>\n",
              "      <td>False</td>\n",
              "      <td>False</td>\n",
              "      <td>10+</td>\n",
              "      <td>Feb 26, 2020</td>\n",
              "      <td>0.0</td>\n",
              "      <td>0.0</td>\n",
              "      <td>0.0</td>\n",
              "      <td>Feb 26, 2020</td>\n",
              "      <td>10M</td>\n",
              "    </tr>\n",
              "    <tr>\n",
              "      <th>1</th>\n",
              "      <td>True</td>\n",
              "      <td>Ampere Battery Info</td>\n",
              "      <td>Tools</td>\n",
              "      <td>Everyone</td>\n",
              "      <td>USD</td>\n",
              "      <td>False</td>\n",
              "      <td>False</td>\n",
              "      <td>5,000+</td>\n",
              "      <td>May 06, 2021</td>\n",
              "      <td>0.0</td>\n",
              "      <td>4.4</td>\n",
              "      <td>64.0</td>\n",
              "      <td>May 21, 2020</td>\n",
              "      <td>2.9M</td>\n",
              "    </tr>\n",
              "    <tr>\n",
              "      <th>2</th>\n",
              "      <td>False</td>\n",
              "      <td>Vibook</td>\n",
              "      <td>Productivity</td>\n",
              "      <td>Everyone</td>\n",
              "      <td>USD</td>\n",
              "      <td>False</td>\n",
              "      <td>False</td>\n",
              "      <td>50+</td>\n",
              "      <td>Aug 19, 2019</td>\n",
              "      <td>0.0</td>\n",
              "      <td>0.0</td>\n",
              "      <td>0.0</td>\n",
              "      <td>Aug 9, 2019</td>\n",
              "      <td>3.7M</td>\n",
              "    </tr>\n",
              "    <tr>\n",
              "      <th>3</th>\n",
              "      <td>True</td>\n",
              "      <td>Smart City Trichy Public Service Vehicles 17UC...</td>\n",
              "      <td>Communication</td>\n",
              "      <td>Everyone</td>\n",
              "      <td>USD</td>\n",
              "      <td>False</td>\n",
              "      <td>False</td>\n",
              "      <td>10+</td>\n",
              "      <td>Oct 13, 2018</td>\n",
              "      <td>0.0</td>\n",
              "      <td>5.0</td>\n",
              "      <td>5.0</td>\n",
              "      <td>Sep 10, 2018</td>\n",
              "      <td>1.8M</td>\n",
              "    </tr>\n",
              "    <tr>\n",
              "      <th>4</th>\n",
              "      <td>False</td>\n",
              "      <td>GROW.me</td>\n",
              "      <td>Tools</td>\n",
              "      <td>Everyone</td>\n",
              "      <td>USD</td>\n",
              "      <td>False</td>\n",
              "      <td>False</td>\n",
              "      <td>100+</td>\n",
              "      <td>Nov 12, 2018</td>\n",
              "      <td>0.0</td>\n",
              "      <td>0.0</td>\n",
              "      <td>0.0</td>\n",
              "      <td>Feb 21, 2020</td>\n",
              "      <td>6.2M</td>\n",
              "    </tr>\n",
              "  </tbody>\n",
              "</table>\n",
              "</div>\n",
              "    <div class=\"colab-df-buttons\">\n",
              "\n",
              "  <div class=\"colab-df-container\">\n",
              "    <button class=\"colab-df-convert\" onclick=\"convertToInteractive('df-94500d1c-d5b0-492a-b884-0bdaa5ed3f57')\"\n",
              "            title=\"Convert this dataframe to an interactive table.\"\n",
              "            style=\"display:none;\">\n",
              "\n",
              "  <svg xmlns=\"http://www.w3.org/2000/svg\" height=\"24px\" viewBox=\"0 -960 960 960\">\n",
              "    <path d=\"M120-120v-720h720v720H120Zm60-500h600v-160H180v160Zm220 220h160v-160H400v160Zm0 220h160v-160H400v160ZM180-400h160v-160H180v160Zm440 0h160v-160H620v160ZM180-180h160v-160H180v160Zm440 0h160v-160H620v160Z\"/>\n",
              "  </svg>\n",
              "    </button>\n",
              "\n",
              "  <style>\n",
              "    .colab-df-container {\n",
              "      display:flex;\n",
              "      gap: 12px;\n",
              "    }\n",
              "\n",
              "    .colab-df-convert {\n",
              "      background-color: #E8F0FE;\n",
              "      border: none;\n",
              "      border-radius: 50%;\n",
              "      cursor: pointer;\n",
              "      display: none;\n",
              "      fill: #1967D2;\n",
              "      height: 32px;\n",
              "      padding: 0 0 0 0;\n",
              "      width: 32px;\n",
              "    }\n",
              "\n",
              "    .colab-df-convert:hover {\n",
              "      background-color: #E2EBFA;\n",
              "      box-shadow: 0px 1px 2px rgba(60, 64, 67, 0.3), 0px 1px 3px 1px rgba(60, 64, 67, 0.15);\n",
              "      fill: #174EA6;\n",
              "    }\n",
              "\n",
              "    .colab-df-buttons div {\n",
              "      margin-bottom: 4px;\n",
              "    }\n",
              "\n",
              "    [theme=dark] .colab-df-convert {\n",
              "      background-color: #3B4455;\n",
              "      fill: #D2E3FC;\n",
              "    }\n",
              "\n",
              "    [theme=dark] .colab-df-convert:hover {\n",
              "      background-color: #434B5C;\n",
              "      box-shadow: 0px 1px 3px 1px rgba(0, 0, 0, 0.15);\n",
              "      filter: drop-shadow(0px 1px 2px rgba(0, 0, 0, 0.3));\n",
              "      fill: #FFFFFF;\n",
              "    }\n",
              "  </style>\n",
              "\n",
              "    <script>\n",
              "      const buttonEl =\n",
              "        document.querySelector('#df-94500d1c-d5b0-492a-b884-0bdaa5ed3f57 button.colab-df-convert');\n",
              "      buttonEl.style.display =\n",
              "        google.colab.kernel.accessAllowed ? 'block' : 'none';\n",
              "\n",
              "      async function convertToInteractive(key) {\n",
              "        const element = document.querySelector('#df-94500d1c-d5b0-492a-b884-0bdaa5ed3f57');\n",
              "        const dataTable =\n",
              "          await google.colab.kernel.invokeFunction('convertToInteractive',\n",
              "                                                    [key], {});\n",
              "        if (!dataTable) return;\n",
              "\n",
              "        const docLinkHtml = 'Like what you see? Visit the ' +\n",
              "          '<a target=\"_blank\" href=https://colab.research.google.com/notebooks/data_table.ipynb>data table notebook</a>'\n",
              "          + ' to learn more about interactive tables.';\n",
              "        element.innerHTML = '';\n",
              "        dataTable['output_type'] = 'display_data';\n",
              "        await google.colab.output.renderOutput(dataTable, element);\n",
              "        const docLink = document.createElement('div');\n",
              "        docLink.innerHTML = docLinkHtml;\n",
              "        element.appendChild(docLink);\n",
              "      }\n",
              "    </script>\n",
              "  </div>\n",
              "\n",
              "\n",
              "<div id=\"df-ceeef9e2-204e-4349-9499-5e73a42ea2b3\">\n",
              "  <button class=\"colab-df-quickchart\" onclick=\"quickchart('df-ceeef9e2-204e-4349-9499-5e73a42ea2b3')\"\n",
              "            title=\"Suggest charts\"\n",
              "            style=\"display:none;\">\n",
              "\n",
              "<svg xmlns=\"http://www.w3.org/2000/svg\" height=\"24px\"viewBox=\"0 0 24 24\"\n",
              "     width=\"24px\">\n",
              "    <g>\n",
              "        <path d=\"M19 3H5c-1.1 0-2 .9-2 2v14c0 1.1.9 2 2 2h14c1.1 0 2-.9 2-2V5c0-1.1-.9-2-2-2zM9 17H7v-7h2v7zm4 0h-2V7h2v10zm4 0h-2v-4h2v4z\"/>\n",
              "    </g>\n",
              "</svg>\n",
              "  </button>\n",
              "\n",
              "<style>\n",
              "  .colab-df-quickchart {\n",
              "      --bg-color: #E8F0FE;\n",
              "      --fill-color: #1967D2;\n",
              "      --hover-bg-color: #E2EBFA;\n",
              "      --hover-fill-color: #174EA6;\n",
              "      --disabled-fill-color: #AAA;\n",
              "      --disabled-bg-color: #DDD;\n",
              "  }\n",
              "\n",
              "  [theme=dark] .colab-df-quickchart {\n",
              "      --bg-color: #3B4455;\n",
              "      --fill-color: #D2E3FC;\n",
              "      --hover-bg-color: #434B5C;\n",
              "      --hover-fill-color: #FFFFFF;\n",
              "      --disabled-bg-color: #3B4455;\n",
              "      --disabled-fill-color: #666;\n",
              "  }\n",
              "\n",
              "  .colab-df-quickchart {\n",
              "    background-color: var(--bg-color);\n",
              "    border: none;\n",
              "    border-radius: 50%;\n",
              "    cursor: pointer;\n",
              "    display: none;\n",
              "    fill: var(--fill-color);\n",
              "    height: 32px;\n",
              "    padding: 0;\n",
              "    width: 32px;\n",
              "  }\n",
              "\n",
              "  .colab-df-quickchart:hover {\n",
              "    background-color: var(--hover-bg-color);\n",
              "    box-shadow: 0 1px 2px rgba(60, 64, 67, 0.3), 0 1px 3px 1px rgba(60, 64, 67, 0.15);\n",
              "    fill: var(--button-hover-fill-color);\n",
              "  }\n",
              "\n",
              "  .colab-df-quickchart-complete:disabled,\n",
              "  .colab-df-quickchart-complete:disabled:hover {\n",
              "    background-color: var(--disabled-bg-color);\n",
              "    fill: var(--disabled-fill-color);\n",
              "    box-shadow: none;\n",
              "  }\n",
              "\n",
              "  .colab-df-spinner {\n",
              "    border: 2px solid var(--fill-color);\n",
              "    border-color: transparent;\n",
              "    border-bottom-color: var(--fill-color);\n",
              "    animation:\n",
              "      spin 1s steps(1) infinite;\n",
              "  }\n",
              "\n",
              "  @keyframes spin {\n",
              "    0% {\n",
              "      border-color: transparent;\n",
              "      border-bottom-color: var(--fill-color);\n",
              "      border-left-color: var(--fill-color);\n",
              "    }\n",
              "    20% {\n",
              "      border-color: transparent;\n",
              "      border-left-color: var(--fill-color);\n",
              "      border-top-color: var(--fill-color);\n",
              "    }\n",
              "    30% {\n",
              "      border-color: transparent;\n",
              "      border-left-color: var(--fill-color);\n",
              "      border-top-color: var(--fill-color);\n",
              "      border-right-color: var(--fill-color);\n",
              "    }\n",
              "    40% {\n",
              "      border-color: transparent;\n",
              "      border-right-color: var(--fill-color);\n",
              "      border-top-color: var(--fill-color);\n",
              "    }\n",
              "    60% {\n",
              "      border-color: transparent;\n",
              "      border-right-color: var(--fill-color);\n",
              "    }\n",
              "    80% {\n",
              "      border-color: transparent;\n",
              "      border-right-color: var(--fill-color);\n",
              "      border-bottom-color: var(--fill-color);\n",
              "    }\n",
              "    90% {\n",
              "      border-color: transparent;\n",
              "      border-bottom-color: var(--fill-color);\n",
              "    }\n",
              "  }\n",
              "</style>\n",
              "\n",
              "  <script>\n",
              "    async function quickchart(key) {\n",
              "      const quickchartButtonEl =\n",
              "        document.querySelector('#' + key + ' button');\n",
              "      quickchartButtonEl.disabled = true;  // To prevent multiple clicks.\n",
              "      quickchartButtonEl.classList.add('colab-df-spinner');\n",
              "      try {\n",
              "        const charts = await google.colab.kernel.invokeFunction(\n",
              "            'suggestCharts', [key], {});\n",
              "      } catch (error) {\n",
              "        console.error('Error during call to suggestCharts:', error);\n",
              "      }\n",
              "      quickchartButtonEl.classList.remove('colab-df-spinner');\n",
              "      quickchartButtonEl.classList.add('colab-df-quickchart-complete');\n",
              "    }\n",
              "    (() => {\n",
              "      let quickchartButtonEl =\n",
              "        document.querySelector('#df-ceeef9e2-204e-4349-9499-5e73a42ea2b3 button');\n",
              "      quickchartButtonEl.style.display =\n",
              "        google.colab.kernel.accessAllowed ? 'block' : 'none';\n",
              "    })();\n",
              "  </script>\n",
              "</div>\n",
              "\n",
              "    </div>\n",
              "  </div>\n"
            ]
          },
          "metadata": {},
          "execution_count": 97
        }
      ],
      "source": [
        "# creating subset from column names excluding App id, Minimum & Maximum Installs, Free, Minimum Android, Developer Id, Developer website, Developer email, privacy policy, scraped time\n",
        "df_sel = df[column_names.difference(['app_id','minimum_installs','maximum_installs','free','minimum_android','developer_id','developer_website','developer_email','privacy_policy','scraped_time'])]\n",
        "df_sel.head()"
      ]
    },
    {
      "cell_type": "code",
      "source": [
        "df_sel.info()"
      ],
      "metadata": {
        "colab": {
          "base_uri": "https://localhost:8080/"
        },
        "id": "eGPhuycsDN6b",
        "outputId": "0b32443b-c7d7-4867-f1f5-60241185be9a"
      },
      "execution_count": null,
      "outputs": [
        {
          "output_type": "stream",
          "name": "stdout",
          "text": [
            "<class 'pandas.core.frame.DataFrame'>\n",
            "RangeIndex: 3593 entries, 0 to 3592\n",
            "Data columns (total 14 columns):\n",
            " #   Column            Non-Null Count  Dtype  \n",
            "---  ------            --------------  -----  \n",
            " 0   ad_supported      3593 non-null   bool   \n",
            " 1   app_name          3593 non-null   object \n",
            " 2   category          3593 non-null   object \n",
            " 3   content_rating    3593 non-null   object \n",
            " 4   currency          3593 non-null   object \n",
            " 5   editors_choice    3592 non-null   object \n",
            " 6   in_app_purchases  3593 non-null   bool   \n",
            " 7   installs          3593 non-null   object \n",
            " 8   last_updated      3593 non-null   object \n",
            " 9   price             3593 non-null   float64\n",
            " 10  rating            3561 non-null   float64\n",
            " 11  rating_count      3561 non-null   float64\n",
            " 12  released          3485 non-null   object \n",
            " 13  size              3593 non-null   object \n",
            "dtypes: bool(2), float64(3), object(9)\n",
            "memory usage: 344.0+ KB\n"
          ]
        }
      ]
    },
    {
      "cell_type": "code",
      "source": [
        "#change relased to datetime\n",
        "df_sel['released']=pd.to_datetime(df_sel['released'])\n"
      ],
      "metadata": {
        "id": "liyMLWXgqSea"
      },
      "execution_count": null,
      "outputs": []
    },
    {
      "cell_type": "code",
      "source": [
        "df_sel['last_updated']=pd.to_datetime(df_sel['last_updated'])"
      ],
      "metadata": {
        "id": "Rgq-HWNjKLNM"
      },
      "execution_count": null,
      "outputs": []
    },
    {
      "cell_type": "code",
      "source": [
        "#check data type of released\n",
        "df_sel['released'].dtype"
      ],
      "metadata": {
        "colab": {
          "base_uri": "https://localhost:8080/"
        },
        "id": "gLpa5yK5qZd6",
        "outputId": "f5225dd0-00b6-46fb-a1c0-50bbc265f6b2"
      },
      "execution_count": null,
      "outputs": [
        {
          "output_type": "execute_result",
          "data": {
            "text/plain": [
              "dtype('<M8[ns]')"
            ]
          },
          "metadata": {},
          "execution_count": 101
        }
      ]
    },
    {
      "cell_type": "markdown",
      "source": [
        "**Now we are dealing with only 15 columns.**"
      ],
      "metadata": {
        "id": "4IhGRiU7DZwC"
      }
    },
    {
      "cell_type": "markdown",
      "metadata": {
        "id": "rUtbBRqb_Zfp"
      },
      "source": [
        "# 03-Null data\n",
        "**This should be first and foremost operation to be performed.\n",
        "as it is an important part of data cleaning, data analysis and machine learning.**"
      ]
    },
    {
      "cell_type": "code",
      "execution_count": null,
      "metadata": {
        "id": "-J8lvRCH_Yrv",
        "colab": {
          "base_uri": "https://localhost:8080/"
        },
        "outputId": "04d68d7e-2593-4772-fd8b-f56e3c5ec662"
      },
      "outputs": [
        {
          "output_type": "execute_result",
          "data": {
            "text/plain": [
              "released            108\n",
              "rating               32\n",
              "rating_count         32\n",
              "editors_choice        1\n",
              "ad_supported          0\n",
              "app_name              0\n",
              "category              0\n",
              "content_rating        0\n",
              "currency              0\n",
              "in_app_purchases      0\n",
              "installs              0\n",
              "last_updated          0\n",
              "price                 0\n",
              "size                  0\n",
              "dtype: int64"
            ]
          },
          "metadata": {},
          "execution_count": 102
        }
      ],
      "source": [
        "df_sel.isnull().sum().sort_values(ascending=False)"
      ]
    },
    {
      "cell_type": "code",
      "execution_count": null,
      "metadata": {
        "id": "0i7BVMQP_Yh4",
        "colab": {
          "base_uri": "https://localhost:8080/"
        },
        "outputId": "1fdf6cbc-c8e5-44bb-e120-d8bf1ec0bcfa"
      },
      "outputs": [
        {
          "output_type": "execute_result",
          "data": {
            "text/plain": [
              "released            3.005845\n",
              "rating              0.890621\n",
              "rating_count        0.890621\n",
              "editors_choice      0.027832\n",
              "ad_supported        0.000000\n",
              "app_name            0.000000\n",
              "category            0.000000\n",
              "content_rating      0.000000\n",
              "currency            0.000000\n",
              "in_app_purchases    0.000000\n",
              "installs            0.000000\n",
              "last_updated        0.000000\n",
              "price               0.000000\n",
              "size                0.000000\n",
              "dtype: float64"
            ]
          },
          "metadata": {},
          "execution_count": 103
        }
      ],
      "source": [
        "null_perc=(df_sel.isnull().sum()/len(df_sel))*100\n",
        "null_perc.sort_values(ascending=False)"
      ]
    },
    {
      "cell_type": "code",
      "execution_count": null,
      "metadata": {
        "colab": {
          "base_uri": "https://localhost:8080/"
        },
        "id": "AITRtW4wWqR8",
        "outputId": "23039711-a107-4b48-9f95-000a0cbff415"
      },
      "outputs": [
        {
          "output_type": "display_data",
          "data": {
            "text/plain": [
              "<Figure size 640x480 with 1 Axes>"
            ],
            "image/png": "[encoded data removed]"
          },
          "metadata": {}
        }
      ],
      "source": [
        "#plot null values\n",
        "sns.barplot(x=null_perc.index,y=null_perc)\n",
        "#label x axis with -- degree rotation\n",
        "plt.xticks(rotation=75);\n",
        "plt.yticks(np.arange(0,5,1))\n",
        "#label x axis\n",
        "plt.xlabel('Columns')\n",
        "#label y axis\n",
        "plt.ylabel('Percentage of null values')\n",
        "#title\n",
        "plt.title('Percentage of null values in each column')\n",
        "#add grid\n",
        "plt.grid()\n",
        "#show plot\n",
        "plt.show()\n"
      ]
    },
    {
      "cell_type": "markdown",
      "metadata": {
        "id": "X1-WafW3Rfxw"
      },
      "source": [
        "**From Here we can see that there are 3 columns with siginificant null values i-e rating, rating_count and released.**"
      ]
    },
    {
      "cell_type": "code",
      "execution_count": null,
      "metadata": {
        "colab": {
          "base_uri": "https://localhost:8080/"
        },
        "id": "7QsezBNMDGky",
        "outputId": "f996e71a-c053-4d82-c977-a0b7d72a6a87"
      },
      "outputs": [
        {
          "output_type": "stream",
          "name": "stdout",
          "text": [
            " There are 0.000 % null values in ad_supported\n",
            " There are 0.000 % null values in app_name\n",
            " There are 0.000 % null values in category\n",
            " There are 0.000 % null values in content_rating\n",
            " There are 0.000 % null values in currency\n",
            " There are 0.028 % null values in editors_choice\n",
            " There are 0.000 % null values in in_app_purchases\n",
            " There are 0.000 % null values in installs\n",
            " There are 0.000 % null values in last_updated\n",
            " There are 0.000 % null values in price\n",
            " There are 0.891 % null values in rating\n",
            " There are 0.891 % null values in rating_count\n",
            " There are 3.006 % null values in released\n",
            " There are 0.000 % null values in size\n"
          ]
        }
      ],
      "source": [
        "#percentage of null values reporting\n",
        "for column in df_sel:\n",
        "  print(f\" There are {(df_sel[column].isnull().sum()/len(df_sel[column]))*100:.3f} % null values in {column}\" )\n"
      ]
    },
    {
      "cell_type": "markdown",
      "metadata": {
        "id": "ymvMKD3zRRQb"
      },
      "source": [
        "**Observations:**\n",
        "\n",
        "\n",
        "*   Largest percentage of missing values is in realesed column (date & time type)\n",
        "*   2nd largest percentage of missing values rating & rating count (numerical)\n",
        "\n"
      ]
    },
    {
      "cell_type": "markdown",
      "metadata": {
        "id": "hU4SMxAfMDYy"
      },
      "source": [
        "**Imputing Nulls**"
      ]
    },
    {
      "cell_type": "code",
      "source": [
        "#release date\n",
        "df_sel['released'].unique()"
      ],
      "metadata": {
        "colab": {
          "base_uri": "https://localhost:8080/"
        },
        "id": "-bZzhFulp_An",
        "outputId": "e388611b-3884-4ab0-a907-a8756d608489"
      },
      "execution_count": null,
      "outputs": [
        {
          "output_type": "execute_result",
          "data": {
            "text/plain": [
              "array(['2020-02-26T00:00:00.000000000', '2020-05-21T00:00:00.000000000',\n",
              "       '2019-08-09T00:00:00.000000000', ...,\n",
              "       '2013-08-27T00:00:00.000000000', '2014-12-12T00:00:00.000000000',\n",
              "       '2019-07-13T00:00:00.000000000'], dtype='datetime64[ns]')"
            ]
          },
          "metadata": {},
          "execution_count": 106
        }
      ]
    },
    {
      "cell_type": "code",
      "source": [
        "#fillna with mean released\n",
        "df_sel['released']=df_sel['released'].fillna(df_sel['released'].mean())\n"
      ],
      "metadata": {
        "id": "MXVc9dDzqwgZ"
      },
      "execution_count": null,
      "outputs": []
    },
    {
      "cell_type": "code",
      "execution_count": null,
      "metadata": {
        "id": "TRhmyCG6MDYz"
      },
      "outputs": [],
      "source": [
        "df_sel['rating']=df['rating'].fillna(df['rating'].mean())\n",
        "df_sel['rating_count']=df['rating_count'].fillna(df['rating_count'].mean())"
      ]
    },
    {
      "cell_type": "code",
      "execution_count": null,
      "metadata": {
        "colab": {
          "base_uri": "https://localhost:8080/"
        },
        "id": "ATfjhF1AngPE",
        "outputId": "4f80b163-e2a1-49dd-acdb-41e08ccada73"
      },
      "outputs": [
        {
          "output_type": "execute_result",
          "data": {
            "text/plain": [
              "0"
            ]
          },
          "metadata": {},
          "execution_count": 109
        }
      ],
      "source": [
        "df_sel['rating_count'].isnull().sum()"
      ]
    },
    {
      "cell_type": "code",
      "execution_count": null,
      "metadata": {
        "colab": {
          "base_uri": "https://localhost:8080/"
        },
        "id": "DyWKNi21noos",
        "outputId": "42afb1ff-699e-43d7-deb6-8031084d1154"
      },
      "outputs": [
        {
          "output_type": "execute_result",
          "data": {
            "text/plain": [
              "0"
            ]
          },
          "metadata": {},
          "execution_count": 110
        }
      ],
      "source": [
        "df_sel['rating'].isnull().sum()"
      ]
    },
    {
      "cell_type": "code",
      "source": [
        "#fillna with mode of ad_supported, category, content_rating, currency, editor_choice, in_app_purchases, last_updated, price\n",
        "df_sel['ad_supported']=df_sel['ad_supported'].fillna(df_sel['ad_supported'].mode()[0])\n",
        "df_sel['category']=df_sel['category'].fillna(df_sel['category'].mode()[0])\n",
        "df_sel['content_rating']=df_sel['content_rating'].fillna(df_sel['content_rating'].mode()[0])\n",
        "df_sel['currency']=df_sel['currency'].fillna(df_sel['currency'].mode()[0])\n",
        "df_sel['editors_choice']=df_sel['editors_choice'].fillna(df_sel['editors_choice'].mode()[0])\n",
        "df_sel['in_app_purchases']=df_sel['in_app_purchases'].fillna(df_sel['in_app_purchases'].mode()[0])\n",
        "df_sel['last_updated']=df_sel['last_updated'].fillna(df_sel['last_updated'].mode()[0])\n",
        "df_sel['price']=df_sel['price'].fillna(df_sel['price'].mode()[0])\n"
      ],
      "metadata": {
        "id": "hjQs9Y1CE53s"
      },
      "execution_count": null,
      "outputs": []
    },
    {
      "cell_type": "markdown",
      "source": [
        "**we have imputed all the null values, at once using mode fuction because the null data was negligible <1% of total data and we dont want to drop the data.**"
      ],
      "metadata": {
        "id": "ZUhuoLePF0Kg"
      }
    },
    {
      "cell_type": "code",
      "source": [
        "df_sel.isnull().sum()"
      ],
      "metadata": {
        "colab": {
          "base_uri": "https://localhost:8080/"
        },
        "id": "u_lxcsZAEuoL",
        "outputId": "863c841f-0663-4f14-b59a-d33f73bb1dfe"
      },
      "execution_count": null,
      "outputs": [
        {
          "output_type": "execute_result",
          "data": {
            "text/plain": [
              "ad_supported        0\n",
              "app_name            0\n",
              "category            0\n",
              "content_rating      0\n",
              "currency            0\n",
              "editors_choice      0\n",
              "in_app_purchases    0\n",
              "installs            0\n",
              "last_updated        0\n",
              "price               0\n",
              "rating              0\n",
              "rating_count        0\n",
              "released            0\n",
              "size                0\n",
              "dtype: int64"
            ]
          },
          "metadata": {},
          "execution_count": 112
        }
      ]
    },
    {
      "cell_type": "markdown",
      "source": [
        "**Now there is no null data in any column. So we are good to perform any anlysis**"
      ],
      "metadata": {
        "id": "9A35XifhFim9"
      }
    },
    {
      "cell_type": "markdown",
      "metadata": {
        "id": "cyTYN08tAVCz"
      },
      "source": [
        "---\n",
        "---\n"
      ]
    },
    {
      "cell_type": "markdown",
      "metadata": {
        "id": "qa-kbXZMVPRV"
      },
      "source": [
        "# 04-Fixing issues with columns data\n"
      ]
    },
    {
      "cell_type": "markdown",
      "metadata": {
        "id": "Vy_N8KGTEBEZ"
      },
      "source": [
        "## Price Column"
      ]
    },
    {
      "cell_type": "code",
      "execution_count": null,
      "metadata": {
        "colab": {
          "base_uri": "https://localhost:8080/"
        },
        "id": "WkCi30zaMDYz",
        "outputId": "0b242253-0e0c-4870-ae89-3253a1459778"
      },
      "outputs": [
        {
          "output_type": "execute_result",
          "data": {
            "text/plain": [
              "array([ 0.  ,  1.99,  4.99,  0.99,  2.99,  3.49, 24.99,  4.49,  3.99,\n",
              "       99.99,  1.49,  5.49,  2.49, 41.99,  6.49,  5.29, 19.99,  5.99,\n",
              "        9.99])"
            ]
          },
          "metadata": {},
          "execution_count": 113
        }
      ],
      "source": [
        "df_sel['price'].unique()"
      ]
    },
    {
      "cell_type": "code",
      "execution_count": null,
      "metadata": {
        "colab": {
          "base_uri": "https://localhost:8080/"
        },
        "id": "hOpeWluBEIGq",
        "outputId": "867d45dd-3174-4944-cdda-9ae7dc5c75c4"
      },
      "outputs": [
        {
          "output_type": "execute_result",
          "data": {
            "text/plain": [
              "0.00     3516\n",
              "0.99       21\n",
              "1.99       13\n",
              "3.99        9\n",
              "4.99        6\n",
              "2.99        5\n",
              "2.49        5\n",
              "5.49        3\n",
              "4.49        2\n",
              "9.99        2\n",
              "3.49        2\n",
              "1.49        2\n",
              "6.49        1\n",
              "5.99        1\n",
              "5.29        1\n",
              "41.99       1\n",
              "19.99       1\n",
              "24.99       1\n",
              "99.99       1\n",
              "Name: price, dtype: int64"
            ]
          },
          "metadata": {},
          "execution_count": 114
        }
      ],
      "source": [
        " df_sel['price'].sort_values(ascending=False).value_counts()"
      ]
    },
    {
      "cell_type": "markdown",
      "metadata": {
        "id": "EleCDTUyV5Zy"
      },
      "source": [
        "**Out of 17,917 apps 17,548 apps are free. Therefore now look at apps with price**"
      ]
    },
    {
      "cell_type": "code",
      "execution_count": null,
      "metadata": {
        "colab": {
          "base_uri": "https://localhost:8080/"
        },
        "id": "IRQbqP5pVK9h",
        "outputId": "ad7a0833-8883-4dc3-ff04-fae70eeac000"
      },
      "outputs": [
        {
          "output_type": "execute_result",
          "data": {
            "text/plain": [
              "<Axes: >"
            ]
          },
          "metadata": {},
          "execution_count": 115
        },
        {
          "output_type": "display_data",
          "data": {
            "text/plain": [
              "<Figure size 640x480 with 1 Axes>"
            ],
            "image/png": "[encoded data removed]"
          },
          "metadata": {}
        }
      ],
      "source": [
        "# price greater than 0\n",
        "filtered_df = df_sel[df_sel['price'] > 0]\n",
        "#histogram of price\n",
        "filtered_df['price'].hist()\n",
        "\n",
        "\n",
        "\n"
      ]
    },
    {
      "cell_type": "markdown",
      "metadata": {
        "id": "zaFjpAwmU42d"
      },
      "source": [
        "Most of the price values are less than 43 $ only"
      ]
    },
    {
      "cell_type": "code",
      "execution_count": null,
      "metadata": {
        "colab": {
          "base_uri": "https://localhost:8080/"
        },
        "id": "PSuBrIVzZiwj",
        "outputId": "f9a6c7a3-4d38-4eff-a314-787951d8f341"
      },
      "outputs": [
        {
          "output_type": "execute_result",
          "data": {
            "text/plain": [
              "0"
            ]
          },
          "metadata": {},
          "execution_count": 116
        }
      ],
      "source": [
        "# null values in price\n",
        "df_sel['price'].isnull().sum()"
      ]
    },
    {
      "cell_type": "markdown",
      "metadata": {
        "id": "-mcIv0jsXT7b"
      },
      "source": [
        "**we have to identify outliers in price, comback to this later**"
      ]
    },
    {
      "cell_type": "markdown",
      "metadata": {
        "id": "J1zk-7DG-onY"
      },
      "source": [
        "## Installs\n",
        "1. Symbols replacement\n",
        "2. Changing Data Type to float\n",
        "3. Removing Nulls Statistically\n",
        "4. Binning"
      ]
    },
    {
      "cell_type": "code",
      "execution_count": null,
      "metadata": {
        "colab": {
          "base_uri": "https://localhost:8080/"
        },
        "id": "8R0LWk5eTZ3V",
        "outputId": "e31e0d22-7a04-46cc-e811-b6d31b67119e"
      },
      "outputs": [
        {
          "output_type": "execute_result",
          "data": {
            "text/plain": [
              "array(['10+', '5,000+', '50+', '100+', '1,000+', '500+', '50,000+',\n",
              "       '10,000+', '1+', '500,000+', '100,000+', '5+', '10,000,000+',\n",
              "       '1,000,000+', '5,000,000+', '0+', '100,000,000+'], dtype=object)"
            ]
          },
          "metadata": {},
          "execution_count": 117
        }
      ],
      "source": [
        "df_sel['installs'].unique()"
      ]
    },
    {
      "cell_type": "code",
      "execution_count": null,
      "metadata": {
        "colab": {
          "base_uri": "https://localhost:8080/"
        },
        "id": "jaTAaRW8UxGO",
        "outputId": "2352fba1-6c58-45d4-b174-93fdf58f3d79"
      },
      "outputs": [
        {
          "output_type": "execute_result",
          "data": {
            "text/plain": [
              "100+            704\n",
              "1,000+          612\n",
              "10+             480\n",
              "10,000+         377\n",
              "500+            302\n",
              "50+             276\n",
              "5,000+          212\n",
              "100,000+        175\n",
              "5+              119\n",
              "50,000+         110\n",
              "1+              105\n",
              "1,000,000+       44\n",
              "500,000+         38\n",
              "5,000,000+       13\n",
              "10,000,000+      12\n",
              "0+               12\n",
              "100,000,000+      2\n",
              "Name: installs, dtype: int64"
            ]
          },
          "metadata": {},
          "execution_count": 118
        }
      ],
      "source": [
        "df_sel['installs'].value_counts()"
      ]
    },
    {
      "cell_type": "markdown",
      "metadata": {
        "id": "MiTuvWSBMDYf"
      },
      "source": [
        "**Symbols of , and + needs to be removed.**"
      ]
    },
    {
      "cell_type": "code",
      "execution_count": null,
      "metadata": {
        "id": "lzetadLY-0vE"
      },
      "outputs": [],
      "source": [
        "#symbols replacement using labda function\n",
        "df_sel['installs']=df_sel['installs'].apply(lambda x:x.replace(\"+\",\"\") if \"+\" in str(x) else x)\n",
        "df_sel['installs']=df_sel['installs'].apply(lambda x:x.replace(\",\",\"\") if \",\" in str(x) else x)\n",
        "\n"
      ]
    },
    {
      "cell_type": "code",
      "execution_count": null,
      "metadata": {
        "id": "O_lUpp-LaTv-"
      },
      "outputs": [],
      "source": [
        "df_sel['installs']=df_sel['installs'].apply(lambda x:float(x))"
      ]
    },
    {
      "cell_type": "code",
      "execution_count": null,
      "metadata": {
        "colab": {
          "base_uri": "https://localhost:8080/"
        },
        "id": "0S1wTCilU_Te",
        "outputId": "7d7b709d-5440-4982-f201-44df9c82c85e"
      },
      "outputs": [
        {
          "output_type": "execute_result",
          "data": {
            "text/plain": [
              "array([       10,      5000,        50,       100,      1000,       500,\n",
              "           50000,     10000,         1,    500000,    100000,         5,\n",
              "        10000000,   1000000,   5000000,         0, 100000000])"
            ]
          },
          "metadata": {},
          "execution_count": 121
        }
      ],
      "source": [
        "#checking unique values without scientific notation\n",
        "df_sel['installs'].unique().astype('int64')"
      ]
    },
    {
      "cell_type": "code",
      "execution_count": null,
      "metadata": {
        "colab": {
          "base_uri": "https://localhost:8080/"
        },
        "id": "3Qh080uxVHcM",
        "outputId": "713596e5-3af1-424f-da2f-a847b93c1d23"
      },
      "outputs": [
        {
          "output_type": "execute_result",
          "data": {
            "text/plain": [
              "100.0          704\n",
              "1000.0         612\n",
              "10.0           480\n",
              "10000.0        377\n",
              "500.0          302\n",
              "50.0           276\n",
              "5000.0         212\n",
              "100000.0       175\n",
              "5.0            119\n",
              "50000.0        110\n",
              "1.0            105\n",
              "1000000.0       44\n",
              "500000.0        38\n",
              "5000000.0       13\n",
              "10000000.0      12\n",
              "0.0             12\n",
              "100000000.0      2\n",
              "Name: installs, dtype: int64"
            ]
          },
          "metadata": {},
          "execution_count": 122
        }
      ],
      "source": [
        "#confirming the changes\n",
        "df_sel['installs'].value_counts()"
      ]
    },
    {
      "cell_type": "code",
      "execution_count": null,
      "metadata": {
        "colab": {
          "base_uri": "https://localhost:8080/"
        },
        "id": "4au3xXphWJhV",
        "outputId": "3dfe4196-5175-4811-905a-31ca88a5bde2"
      },
      "outputs": [
        {
          "output_type": "execute_result",
          "data": {
            "text/plain": [
              "0"
            ]
          },
          "metadata": {},
          "execution_count": 123
        }
      ],
      "source": [
        "df_sel['installs'].isnull().sum()"
      ]
    },
    {
      "cell_type": "code",
      "execution_count": null,
      "metadata": {
        "id": "WXnMKLa0b9uX"
      },
      "outputs": [],
      "source": [
        "#filling null values with mean\n",
        "df_sel['installs']=df_sel['installs'].fillna(df_sel['installs'].mean())"
      ]
    },
    {
      "cell_type": "code",
      "execution_count": null,
      "metadata": {
        "colab": {
          "base_uri": "https://localhost:8080/"
        },
        "id": "aVH1QezpcB2E",
        "outputId": "10f09ec5-53f0-4d56-e544-69a31d467772"
      },
      "outputs": [
        {
          "output_type": "execute_result",
          "data": {
            "text/plain": [
              "0"
            ]
          },
          "metadata": {},
          "execution_count": 125
        }
      ],
      "source": [
        "df_sel['installs'].isnull().sum()"
      ]
    },
    {
      "cell_type": "markdown",
      "metadata": {
        "id": "NUF8TymSVw4s"
      },
      "source": [
        "**Observation: Now the desired changes are done successfully. we are good to perform statistical analysis.There is no null values in this column.**"
      ]
    },
    {
      "cell_type": "markdown",
      "metadata": {
        "id": "vS3IwjYyf36H"
      },
      "source": [
        "\n",
        "\n",
        "```\n",
        "Binning\n",
        "\n",
        "It is complex to understand which app is installed the most by remebering the number of installs. So we will generalize it by binning.\n",
        "\n",
        "Binning 'Installs' in to 8 Bins, to perform analysis fluently.\n",
        "\n",
        "We wan to label no of installs to understand the data in a meaningful way.\n",
        "```\n",
        "\n",
        "\n",
        "\n"
      ]
    },
    {
      "cell_type": "code",
      "execution_count": null,
      "metadata": {
        "colab": {
          "base_uri": "https://localhost:8080/"
        },
        "id": "I0JMJa-Uf2vC",
        "outputId": "fe48a07a-3115-4c7c-be60-604c7a167189"
      },
      "outputs": [
        {
          "output_type": "execute_result",
          "data": {
            "text/plain": [
              "Negligible            716\n",
              "Very Low <100         980\n",
              "Low <1000             914\n",
              "Below Average <10k    589\n",
              "Moderate <100k        285\n",
              "High <1M               82\n",
              "Very High <10M         25\n",
              "Amazing <100M           2\n",
              "Name: installs_bin, dtype: int64"
            ]
          },
          "metadata": {},
          "execution_count": 126
        }
      ],
      "source": [
        "#Introducing new column of Installs_Category\n",
        "df_sel['installs_bin']=df_sel['installs']\n",
        "bins=[-10,10,100,1000,10000,100000,1000000,10000000,100000000]\n",
        "labels=['Negligible','Very Low <100','Low <1000','Below Average <10k','Moderate <100k','High <1M','Very High <10M','Amazing <100M']\n",
        "df_sel['installs_bin']=pd.cut(df_sel['installs'],bins=bins,labels=labels)\n",
        "df_sel['installs_bin'].value_counts().sort_index()"
      ]
    },
    {
      "cell_type": "code",
      "execution_count": null,
      "metadata": {
        "colab": {
          "base_uri": "https://localhost:8080/"
        },
        "id": "fxwYaBRzYI-F",
        "outputId": "1763e9f3-4ec7-4781-ce92-1b1a3f941c76"
      },
      "outputs": [
        {
          "output_type": "execute_result",
          "data": {
            "text/plain": [
              "0"
            ]
          },
          "metadata": {},
          "execution_count": 127
        }
      ],
      "source": [
        "df_sel['installs'].isnull().sum()"
      ]
    },
    {
      "cell_type": "code",
      "execution_count": null,
      "metadata": {
        "colab": {
          "base_uri": "https://localhost:8080/"
        },
        "id": "j_C2Rsp-YBIk",
        "outputId": "4532c53c-ff2f-4887-8e9f-7e9f84ab7c5f"
      },
      "outputs": [
        {
          "output_type": "execute_result",
          "data": {
            "text/plain": [
              "0"
            ]
          },
          "metadata": {},
          "execution_count": 128
        }
      ],
      "source": [
        "df_sel['installs_bin'].isnull().sum()"
      ]
    },
    {
      "cell_type": "markdown",
      "metadata": {
        "id": "5kEb1lwhAe_F"
      },
      "source": [
        "---"
      ]
    },
    {
      "cell_type": "markdown",
      "metadata": {
        "id": "eQSv785X1GT1"
      },
      "source": [
        "## Size Column\n",
        "\n",
        "1. Removal of symbols +'',varies with device M k\n",
        "2. Imputing Null Values\n",
        "3. Changing data type\n",
        "4. Coverting data into nuemeric million,thousand etc\n",
        "\n"
      ]
    },
    {
      "cell_type": "code",
      "execution_count": null,
      "metadata": {
        "colab": {
          "base_uri": "https://localhost:8080/"
        },
        "id": "qdU7_24G1bPe",
        "outputId": "185de0a2-b4f3-446a-f7df-b1520deff580"
      },
      "outputs": [
        {
          "output_type": "execute_result",
          "data": {
            "text/plain": [
              "array(['10M', '2.9M', '3.7M', '1.8M', '6.2M', '46M', '2.5M', '16M',\n",
              "       '1.3M', '3.5M', '51M', '2.7M', '7.6M', '15M', '29M', '12M', '2.0M',\n",
              "       '70M', '11M', '24M', '1.4M', '20M', '2.4M', '25M', '21M', '36M',\n",
              "       '6.1M', '2.6M', '8.9M', '3.9M', '30M', '26M', '4.9M', '4.3M',\n",
              "       '4.8M', '4.6M', '2.8M', '38M', '5.1M', '147M', '33M', '2.2M',\n",
              "       '7.1M', '27M', '18M', '7.7M', '32M', '19M', '39M', '31M', '1.2M',\n",
              "       '3.1M', '3.2M', '42M', '22M', '4.1M', '50M', '5.5M', '127k',\n",
              "       '8.4M', '41M', '49M', '7.0M', '4.7M', '43M', '5.4M', '3.0M',\n",
              "       '1.6M', '2.1M', '37M', '3.6M', '9.0M', '9.9M', '67M', '28M',\n",
              "       'Varies with device', '7.9M', '3.3M', '6.0M', '5.7M', '9.8M',\n",
              "       '5.0M', '1.7M', '7.4M', '1.9M', '3.8M', '6.4M', '8.1M', '6.5M',\n",
              "       '4.4M', '45M', '7.2M', '13M', '6.9M', '60M', '6.6M', '4.0M', '17M',\n",
              "       '4.2M', '58M', '93M', '9.7M', '23M', '52M', '5.6M', '48M', '1.5M',\n",
              "       '8.5M', '54M', '62M', '133M', '64M', '152M', '136M', '9.5M',\n",
              "       '4.5M', '40M', '531k', '8.0M', '2.3M', '35M', '83M', '7.3M',\n",
              "       '6.7M', '9.4M', '69M', '7.5M', '343k', '84M', '5.9M', '6.3M',\n",
              "       '1,018k', '34M', '63M', '3.4M', '57M', '14M', '86M', '9.2M',\n",
              "       '142M', '6.8M', '9.1M', '9.6M', '44M', '1.0M', '886k', '53M',\n",
              "       '91M', '61M', '5.2M', '188k', '5.3M', '8.3M', '8.2M', '79M',\n",
              "       '9.3M', '47M', '107M', '8.6M', '95M', '56M', '5.8M', '71M', '78M',\n",
              "       '7.8M', '59M', '72M', '8.7M', '200k', '92k', '75M', '966k', '844k',\n",
              "       '963k', '151M', '274k', '145M', '8.8M', '82M', '10.0M', '66M',\n",
              "       '240k', '101M', '76M', '96M', '139M', '212k', '101k', '125M',\n",
              "       '111M', '1.1M', '116M', '94M', '99M', '194k', '89M', '55M', '506k',\n",
              "       '85M', '98M', '122M', '88M', '77M', '138k', '659k', '880k', '106M',\n",
              "       '87M', '230k', '97M', '989k', '453k', '201M', '28k', '562k',\n",
              "       '745k', '68M', '118M', '357k', '74M', '600k', '22k', '73M', '144M',\n",
              "       '33k', '250M', '359k', '81M', '112M', '298k', '351k', '1,007k',\n",
              "       '145k', '936k', '65M', '25k', '986k', '512k', '102M', '842k',\n",
              "       '962k', '497k', '321k', '565k', '946k', '222k', '998k', '82k',\n",
              "       '105M', '257k', '390k', '18k', '100M', '727k', '176k', '113M',\n",
              "       '531M', '120M', '229k'], dtype=object)"
            ]
          },
          "metadata": {},
          "execution_count": 129
        }
      ],
      "source": [
        "df_sel['size'].unique()"
      ]
    },
    {
      "cell_type": "code",
      "execution_count": null,
      "metadata": {
        "id": "Tp6NSB4Z1eBo"
      },
      "outputs": [],
      "source": [
        "df_sel['size'] = df_sel['size'].apply(lambda x: x.replace(\",\", \"\") if \",\" in str(x) else x)\n",
        "df_sel['size'] = df_sel['size'].apply(lambda x: x.replace(\"Varies with device\", \"nan\") if \"Varies with device\" in str(x) else x)\n",
        "df_sel['size'] = df_sel['size'].apply(lambda x: x.replace(\"Varieswithdevice\", \"nan\") if \"Varieswithdevice\" in str(x) else x)\n",
        "#df_sel['size'] = df['Size'].apply(lambda x: x.replace(\",\", \"\") if \"'\" in str(x) else x)"
      ]
    },
    {
      "cell_type": "code",
      "execution_count": null,
      "metadata": {
        "colab": {
          "base_uri": "https://localhost:8080/"
        },
        "id": "tdkYvupz3mOQ",
        "outputId": "7ffb4ca2-9d92-451e-e746-b23e2f1f8d96"
      },
      "outputs": [
        {
          "output_type": "execute_result",
          "data": {
            "text/plain": [
              "array(['10M', '2.9M', '3.7M', '1.8M', '6.2M', '46M', '2.5M', '16M',\n",
              "       '1.3M', '3.5M', '51M', '2.7M', '7.6M', '15M', '29M', '12M', '2.0M',\n",
              "       '70M', '11M', '24M', '1.4M', '20M', '2.4M', '25M', '21M', '36M',\n",
              "       '6.1M', '2.6M', '8.9M', '3.9M', '30M', '26M', '4.9M', '4.3M',\n",
              "       '4.8M', '4.6M', '2.8M', '38M', '5.1M', '147M', '33M', '2.2M',\n",
              "       '7.1M', '27M', '18M', '7.7M', '32M', '19M', '39M', '31M', '1.2M',\n",
              "       '3.1M', '3.2M', '42M', '22M', '4.1M', '50M', '5.5M', '127k',\n",
              "       '8.4M', '41M', '49M', '7.0M', '4.7M', '43M', '5.4M', '3.0M',\n",
              "       '1.6M', '2.1M', '37M', '3.6M', '9.0M', '9.9M', '67M', '28M', 'nan',\n",
              "       '7.9M', '3.3M', '6.0M', '5.7M', '9.8M', '5.0M', '1.7M', '7.4M',\n",
              "       '1.9M', '3.8M', '6.4M', '8.1M', '6.5M', '4.4M', '45M', '7.2M',\n",
              "       '13M', '6.9M', '60M', '6.6M', '4.0M', '17M', '4.2M', '58M', '93M',\n",
              "       '9.7M', '23M', '52M', '5.6M', '48M', '1.5M', '8.5M', '54M', '62M',\n",
              "       '133M', '64M', '152M', '136M', '9.5M', '4.5M', '40M', '531k',\n",
              "       '8.0M', '2.3M', '35M', '83M', '7.3M', '6.7M', '9.4M', '69M',\n",
              "       '7.5M', '343k', '84M', '5.9M', '6.3M', '1018k', '34M', '63M',\n",
              "       '3.4M', '57M', '14M', '86M', '9.2M', '142M', '6.8M', '9.1M',\n",
              "       '9.6M', '44M', '1.0M', '886k', '53M', '91M', '61M', '5.2M', '188k',\n",
              "       '5.3M', '8.3M', '8.2M', '79M', '9.3M', '47M', '107M', '8.6M',\n",
              "       '95M', '56M', '5.8M', '71M', '78M', '7.8M', '59M', '72M', '8.7M',\n",
              "       '200k', '92k', '75M', '966k', '844k', '963k', '151M', '274k',\n",
              "       '145M', '8.8M', '82M', '10.0M', '66M', '240k', '101M', '76M',\n",
              "       '96M', '139M', '212k', '101k', '125M', '111M', '1.1M', '116M',\n",
              "       '94M', '99M', '194k', '89M', '55M', '506k', '85M', '98M', '122M',\n",
              "       '88M', '77M', '138k', '659k', '880k', '106M', '87M', '230k', '97M',\n",
              "       '989k', '453k', '201M', '28k', '562k', '745k', '68M', '118M',\n",
              "       '357k', '74M', '600k', '22k', '73M', '144M', '33k', '250M', '359k',\n",
              "       '81M', '112M', '298k', '351k', '1007k', '145k', '936k', '65M',\n",
              "       '25k', '986k', '512k', '102M', '842k', '962k', '497k', '321k',\n",
              "       '565k', '946k', '222k', '998k', '82k', '105M', '257k', '390k',\n",
              "       '18k', '100M', '727k', '176k', '113M', '531M', '120M', '229k'],\n",
              "      dtype=object)"
            ]
          },
          "metadata": {},
          "execution_count": 131
        }
      ],
      "source": [
        "#checking unique values\n",
        "df_sel['size'].unique()"
      ]
    },
    {
      "cell_type": "code",
      "execution_count": null,
      "metadata": {
        "id": "gfGDKnoY4oqV"
      },
      "outputs": [],
      "source": [
        "#converts a string representation of a file size to its corresponding numeric value in bytes\n",
        "def convert_size(size):\n",
        "  if isinstance(size,str) and size != '':\n",
        "    if 'k' in size:\n",
        "      return float(size.replace('k',''))*1024\n",
        "    elif 'M' in size:\n",
        "      return float(size.replace('M',''))*1024*1024\n",
        "    elif 'G' in size:\n",
        "      return float(size.replace('G',''))*1024*1024*1024\n",
        "  return size\n"
      ]
    },
    {
      "cell_type": "code",
      "execution_count": null,
      "metadata": {
        "colab": {
          "base_uri": "https://localhost:8080/"
        },
        "id": "wGKVNADI46LD",
        "outputId": "c608695e-ac42-419f-8e7b-4bf6300aac0d"
      },
      "outputs": [
        {
          "output_type": "execute_result",
          "data": {
            "text/plain": [
              "array([10485760.0, 3040870.4, 3879731.2, 1887436.8, 6501171.2, 48234496.0,\n",
              "       2621440.0, 16777216.0, 1363148.8, 3670016.0, 53477376.0, 2831155.2,\n",
              "       7969177.6, 15728640.0, 30408704.0, 12582912.0, 2097152.0,\n",
              "       73400320.0, 11534336.0, 25165824.0, 1468006.4, 20971520.0,\n",
              "       2516582.4, 26214400.0, 22020096.0, 37748736.0, 6396313.6,\n",
              "       2726297.6, 9332326.4, 4089446.4, 31457280.0, 27262976.0, 5138022.4,\n",
              "       4508876.8, 5033164.8, 4823449.6, 2936012.8, 39845888.0, 5347737.6,\n",
              "       154140672.0, 34603008.0, 2306867.2, 7444889.6, 28311552.0,\n",
              "       18874368.0, 8074035.2, 33554432.0, 19922944.0, 40894464.0,\n",
              "       32505856.0, 1258291.2, 3250585.6, 3355443.2, 44040192.0,\n",
              "       23068672.0, 4299161.6, 52428800.0, 5767168.0, 130048.0, 8808038.4,\n",
              "       42991616.0, 51380224.0, 7340032.0, 4928307.2, 45088768.0,\n",
              "       5662310.4, 3145728.0, 1677721.6, 2202009.6, 38797312.0, 3774873.6,\n",
              "       9437184.0, 10380902.4, 70254592.0, 29360128.0, 'nan', 8283750.4,\n",
              "       3460300.8, 6291456.0, 5976883.2, 10276044.8, 5242880.0, 1782579.2,\n",
              "       7759462.4, 1992294.4, 3984588.8, 6710886.4, 8493465.6, 6815744.0,\n",
              "       4613734.4, 47185920.0, 7549747.2, 13631488.0, 7235174.4,\n",
              "       62914560.0, 6920601.6, 4194304.0, 17825792.0, 4404019.2,\n",
              "       60817408.0, 97517568.0, 10171187.2, 24117248.0, 54525952.0,\n",
              "       5872025.6, 50331648.0, 1572864.0, 8912896.0, 56623104.0,\n",
              "       65011712.0, 139460608.0, 67108864.0, 159383552.0, 142606336.0,\n",
              "       9961472.0, 4718592.0, 41943040.0, 543744.0, 8388608.0, 2411724.8,\n",
              "       36700160.0, 87031808.0, 7654604.8, 7025459.2, 9856614.4,\n",
              "       72351744.0, 7864320.0, 351232.0, 88080384.0, 6186598.4, 6606028.8,\n",
              "       1042432.0, 35651584.0, 66060288.0, 3565158.4, 59768832.0,\n",
              "       14680064.0, 90177536.0, 9646899.2, 148897792.0, 7130316.8,\n",
              "       9542041.6, 10066329.6, 46137344.0, 1048576.0, 907264.0, 55574528.0,\n",
              "       95420416.0, 63963136.0, 5452595.2, 192512.0, 5557452.8, 8703180.8,\n",
              "       8598323.2, 82837504.0, 9751756.8, 49283072.0, 112197632.0,\n",
              "       9017753.6, 99614720.0, 58720256.0, 6081740.8, 74448896.0,\n",
              "       81788928.0, 8178892.8, 61865984.0, 75497472.0, 9122611.2, 204800.0,\n",
              "       94208.0, 78643200.0, 989184.0, 864256.0, 986112.0, 158334976.0,\n",
              "       280576.0, 152043520.0, 9227468.8, 85983232.0, 69206016.0, 245760.0,\n",
              "       105906176.0, 79691776.0, 100663296.0, 145752064.0, 217088.0,\n",
              "       103424.0, 131072000.0, 116391936.0, 1153433.6, 121634816.0,\n",
              "       98566144.0, 103809024.0, 198656.0, 93323264.0, 57671680.0,\n",
              "       518144.0, 89128960.0, 102760448.0, 127926272.0, 92274688.0,\n",
              "       80740352.0, 141312.0, 674816.0, 901120.0, 111149056.0, 91226112.0,\n",
              "       235520.0, 101711872.0, 1012736.0, 463872.0, 210763776.0, 28672.0,\n",
              "       575488.0, 762880.0, 71303168.0, 123731968.0, 365568.0, 77594624.0,\n",
              "       614400.0, 22528.0, 76546048.0, 150994944.0, 33792.0, 262144000.0,\n",
              "       367616.0, 84934656.0, 117440512.0, 305152.0, 359424.0, 1031168.0,\n",
              "       148480.0, 958464.0, 68157440.0, 25600.0, 1009664.0, 524288.0,\n",
              "       106954752.0, 862208.0, 985088.0, 508928.0, 328704.0, 578560.0,\n",
              "       968704.0, 227328.0, 1021952.0, 83968.0, 110100480.0, 263168.0,\n",
              "       399360.0, 18432.0, 104857600.0, 744448.0, 180224.0, 118489088.0,\n",
              "       556793856.0, 125829120.0, 234496.0], dtype=object)"
            ]
          },
          "metadata": {},
          "execution_count": 133
        }
      ],
      "source": [
        "df_sel['size']=df_sel['size'].apply(convert_size)\n",
        "df_sel['size'].unique()"
      ]
    },
    {
      "cell_type": "code",
      "execution_count": null,
      "metadata": {
        "colab": {
          "base_uri": "https://localhost:8080/"
        },
        "id": "pa1BzcNuDTQ2",
        "outputId": "690b4ff4-28d8-482a-abae-22e62f70b61e"
      },
      "outputs": [
        {
          "output_type": "stream",
          "name": "stdout",
          "text": [
            "There are ' 0 ' null values in Size Column\n"
          ]
        }
      ],
      "source": [
        "#impute null values\n",
        "size_null=df_sel['size'].isnull().sum()\n",
        "print(f\"There are ' {size_null} ' null values in Size Column\")"
      ]
    },
    {
      "cell_type": "code",
      "execution_count": null,
      "metadata": {
        "colab": {
          "base_uri": "https://localhost:8080/"
        },
        "id": "oCHIGdrmCn_3",
        "outputId": "31c64bd7-2471-4a57-e3e8-8a46ebbe366f"
      },
      "outputs": [
        {
          "output_type": "execute_result",
          "data": {
            "text/plain": [
              "nan            107\n",
              "11534336.0      87\n",
              "12582912.0      77\n",
              "16777216.0      76\n",
              "10485760.0      68\n",
              "13631488.0      67\n",
              "17825792.0      66\n",
              "15728640.0      65\n",
              "14680064.0      58\n",
              "19922944.0      48\n",
              "28311552.0      47\n",
              "27262976.0      46\n",
              "18874368.0      44\n",
              "22020096.0      44\n",
              "20971520.0      43\n",
              "25165824.0      40\n",
              "26214400.0      40\n",
              "23068672.0      36\n",
              "2936012.8       35\n",
              "30408704.0      35\n",
              "3774873.6       34\n",
              "32505856.0      34\n",
              "24117248.0      34\n",
              "3984588.8       34\n",
              "39845888.0      33\n",
              "5662310.4       32\n",
              "38797312.0      31\n",
              "34603008.0      31\n",
              "5138022.4       30\n",
              "31457280.0      30\n",
              "5872025.6       29\n",
              "4299161.6       28\n",
              "3670016.0       28\n",
              "3355443.2       27\n",
              "4823449.6       27\n",
              "4718592.0       27\n",
              "33554432.0      26\n",
              "4089446.4       26\n",
              "5033164.8       26\n",
              "4404019.2       26\n",
              "4928307.2       26\n",
              "6291456.0       26\n",
              "6501171.2       26\n",
              "4508876.8       25\n",
              "29360128.0      25\n",
              "5557452.8       25\n",
              "3460300.8       25\n",
              "54525952.0      24\n",
              "3040870.4       24\n",
              "40894464.0      24\n",
              "5976883.2       23\n",
              "5242880.0       23\n",
              "2621440.0       23\n",
              "7025459.2       23\n",
              "6606028.8       23\n",
              "1468006.4       23\n",
              "5347737.6       22\n",
              "7864320.0       22\n",
              "2726297.6       22\n",
              "6920601.6       22\n",
              "2831155.2       22\n",
              "8493465.6       21\n",
              "4613734.4       21\n",
              "1677721.6       20\n",
              "3145728.0       20\n",
              "3879731.2       20\n",
              "7654604.8       20\n",
              "35651584.0      19\n",
              "2097152.0       19\n",
              "7235174.4       19\n",
              "4194304.0       19\n",
              "37748736.0      19\n",
              "8598323.2       19\n",
              "8283750.4       19\n",
              "3250585.6       19\n",
              "8912896.0       18\n",
              "6815744.0       18\n",
              "36700160.0      18\n",
              "1258291.2       18\n",
              "6710886.4       18\n",
              "9017753.6       17\n",
              "6081740.8       17\n",
              "6186598.4       17\n",
              "2306867.2       17\n",
              "7444889.6       17\n",
              "7969177.6       17\n",
              "51380224.0      17\n",
              "2202009.6       17\n",
              "9542041.6       16\n",
              "8178892.8       16\n",
              "8074035.2       16\n",
              "46137344.0      16\n",
              "1887436.8       16\n",
              "9751756.8       16\n",
              "6396313.6       16\n",
              "1992294.4       16\n",
              "7549747.2       15\n",
              "8703180.8       15\n",
              "9646899.2       15\n",
              "3565158.4       15\n",
              "41943040.0      15\n",
              "5767168.0       14\n",
              "53477376.0      14\n",
              "2411724.8       14\n",
              "45088768.0      14\n",
              "10380902.4      14\n",
              "1782579.2       14\n",
              "5452595.2       14\n",
              "10066329.6      13\n",
              "7130316.8       13\n",
              "8388608.0       13\n",
              "1572864.0       13\n",
              "50331648.0      13\n",
              "1363148.8       13\n",
              "48234496.0      13\n",
              "8808038.4       13\n",
              "42991616.0      13\n",
              "9437184.0       13\n",
              "10171187.2      13\n",
              "59768832.0      12\n",
              "7759462.4       12\n",
              "47185920.0      12\n",
              "65011712.0      11\n",
              "60817408.0      11\n",
              "9856614.4       11\n",
              "9332326.4       11\n",
              "9961472.0       10\n",
              "1153433.6       10\n",
              "9227468.8        9\n",
              "2516582.4        9\n",
              "52428800.0       9\n",
              "10276044.8       8\n",
              "56623104.0       8\n",
              "44040192.0       8\n",
              "9122611.2        8\n",
              "57671680.0       8\n",
              "58720256.0       8\n",
              "77594624.0       7\n",
              "7340032.0        7\n",
              "67108864.0       7\n",
              "81788928.0       7\n",
              "55574528.0       7\n",
              "49283072.0       7\n",
              "87031808.0       6\n",
              "63963136.0       6\n",
              "74448896.0       6\n",
              "75497472.0       5\n",
              "82837504.0       5\n",
              "62914560.0       5\n",
              "89128960.0       5\n",
              "76546048.0       5\n",
              "92274688.0       5\n",
              "66060288.0       5\n",
              "69206016.0       5\n",
              "61865984.0       4\n",
              "84934656.0       4\n",
              "93323264.0       4\n",
              "90177536.0       4\n",
              "99614720.0       4\n",
              "72351744.0       4\n",
              "95420416.0       4\n",
              "103809024.0      3\n",
              "98566144.0       3\n",
              "70254592.0       3\n",
              "79691776.0       3\n",
              "88080384.0       3\n",
              "68157440.0       3\n",
              "111149056.0      3\n",
              "102760448.0      3\n",
              "159383552.0      3\n",
              "367616.0         2\n",
              "71303168.0       2\n",
              "116391936.0      2\n",
              "145752064.0      2\n",
              "463872.0         2\n",
              "141312.0         2\n",
              "85983232.0       2\n",
              "78643200.0       2\n",
              "73400320.0       2\n",
              "154140672.0      2\n",
              "112197632.0      2\n",
              "152043520.0      1\n",
              "1031168.0        1\n",
              "524288.0         1\n",
              "1009664.0        1\n",
              "25600.0          1\n",
              "97517568.0       1\n",
              "958464.0         1\n",
              "148480.0         1\n",
              "359424.0         1\n",
              "862208.0         1\n",
              "305152.0         1\n",
              "117440512.0      1\n",
              "130048.0         1\n",
              "139460608.0      1\n",
              "262144000.0      1\n",
              "33792.0          1\n",
              "150994944.0      1\n",
              "106954752.0      1\n",
              "985088.0         1\n",
              "22528.0          1\n",
              "399360.0         1\n",
              "125829120.0      1\n",
              "556793856.0      1\n",
              "118489088.0      1\n",
              "180224.0         1\n",
              "744448.0         1\n",
              "104857600.0      1\n",
              "18432.0          1\n",
              "263168.0         1\n",
              "508928.0         1\n",
              "110100480.0      1\n",
              "83968.0          1\n",
              "1021952.0        1\n",
              "227328.0         1\n",
              "968704.0         1\n",
              "578560.0         1\n",
              "328704.0         1\n",
              "142606336.0      1\n",
              "543744.0         1\n",
              "614400.0         1\n",
              "864256.0         1\n",
              "518144.0         1\n",
              "192512.0         1\n",
              "198656.0         1\n",
              "204800.0         1\n",
              "94208.0          1\n",
              "121634816.0      1\n",
              "989184.0         1\n",
              "131072000.0      1\n",
              "280576.0         1\n",
              "103424.0         1\n",
              "217088.0         1\n",
              "986112.0         1\n",
              "100663296.0      1\n",
              "158334976.0      1\n",
              "105906176.0      1\n",
              "245760.0         1\n",
              "907264.0         1\n",
              "1048576.0        1\n",
              "127926272.0      1\n",
              "148897792.0      1\n",
              "365568.0         1\n",
              "123731968.0      1\n",
              "762880.0         1\n",
              "575488.0         1\n",
              "28672.0          1\n",
              "210763776.0      1\n",
              "351232.0         1\n",
              "1012736.0        1\n",
              "101711872.0      1\n",
              "235520.0         1\n",
              "91226112.0       1\n",
              "1042432.0        1\n",
              "901120.0         1\n",
              "674816.0         1\n",
              "80740352.0       1\n",
              "234496.0         1\n",
              "Name: size, dtype: int64"
            ]
          },
          "metadata": {},
          "execution_count": 135
        }
      ],
      "source": [
        "df_sel['size'].value_counts()"
      ]
    },
    {
      "cell_type": "markdown",
      "metadata": {
        "id": "AGD7bVosMDYw"
      },
      "source": [
        "**Data is in nuemeric form now.**"
      ]
    },
    {
      "cell_type": "code",
      "execution_count": null,
      "metadata": {
        "colab": {
          "base_uri": "https://localhost:8080/"
        },
        "id": "llas5ml7DkmC",
        "outputId": "36525492-beab-4ab2-d3a4-b72db1f33697"
      },
      "outputs": [
        {
          "output_type": "execute_result",
          "data": {
            "text/plain": [
              "Int64Index([], dtype='int64')"
            ]
          },
          "metadata": {},
          "execution_count": 136
        }
      ],
      "source": [
        "#find value index of certain string\n",
        "df[df_sel['size']==''].index"
      ]
    },
    {
      "cell_type": "code",
      "execution_count": null,
      "metadata": {
        "id": "25eBba0S9-6z"
      },
      "outputs": [],
      "source": [
        "df_sel['size']=df_sel['size'].astype(float)"
      ]
    },
    {
      "cell_type": "markdown",
      "metadata": {
        "id": "fNklRTDKMDYw"
      },
      "source": [
        "Missing Data Imputations"
      ]
    },
    {
      "cell_type": "code",
      "execution_count": null,
      "metadata": {
        "colab": {
          "base_uri": "https://localhost:8080/"
        },
        "id": "LCdsQXowcO7W",
        "outputId": "17e82413-484d-42d2-892c-ddb8861067d7"
      },
      "outputs": [
        {
          "output_type": "execute_result",
          "data": {
            "text/plain": [
              "107"
            ]
          },
          "metadata": {},
          "execution_count": 138
        }
      ],
      "source": [
        "df_sel['size'].isnull().sum()"
      ]
    },
    {
      "cell_type": "code",
      "execution_count": null,
      "metadata": {
        "id": "J15Cm3zr9MvD"
      },
      "outputs": [],
      "source": [
        "df_sel['size']=df_sel['size'].fillna(df_sel['size'].mean())"
      ]
    },
    {
      "cell_type": "markdown",
      "metadata": {
        "id": "yexkK4wuUhsx"
      },
      "source": [
        "**Heatmap**"
      ]
    },
    {
      "cell_type": "code",
      "execution_count": null,
      "metadata": {
        "colab": {
          "base_uri": "https://localhost:8080/"
        },
        "id": "HCJwKb4nH8ou",
        "outputId": "eb054fb3-3aba-4f50-bfe6-ca040927e885"
      },
      "outputs": [
        {
          "output_type": "execute_result",
          "data": {
            "text/plain": [
              "<Axes: >"
            ]
          },
          "metadata": {},
          "execution_count": 140
        },
        {
          "output_type": "display_data",
          "data": {
            "text/plain": [
              "<Figure size 1600x600 with 1 Axes>"
            ],
            "image/png": "[encoded data removed]"
          },
          "metadata": {}
        }
      ],
      "source": [
        "plt.figure(figsize=(16,6))\n",
        "sns.heatmap(df_sel.isnull(),yticklabels=False,cbar=False,cmap='viridis')"
      ]
    },
    {
      "cell_type": "markdown",
      "metadata": {
        "id": "qmnC9gNMUk4H"
      },
      "source": [
        "**Bar Plot**"
      ]
    },
    {
      "cell_type": "code",
      "execution_count": null,
      "metadata": {
        "colab": {
          "base_uri": "https://localhost:8080/"
        },
        "id": "O-LZeTD7I6V-",
        "outputId": "219741bb-bc84-4a83-de70-a8d9b91337cc"
      },
      "outputs": [
        {
          "output_type": "execute_result",
          "data": {
            "text/plain": [
              "Text(0.5, 1.0, ' Missing Values Percentage')"
            ]
          },
          "metadata": {},
          "execution_count": 141
        },
        {
          "output_type": "display_data",
          "data": {
            "text/plain": [
              "<Figure size 1400x700 with 1 Axes>"
            ],
            "image/png": "[encoded data removed]"
          },
          "metadata": {}
        }
      ],
      "source": [
        "plt.figure(figsize=(14,7))\n",
        "null_perc.plot(kind='bar')\n",
        "\n",
        "plt.xlabel('Columns')\n",
        "plt.ylabel('Percentage')\n",
        "plt.title(' Missing Values Percentage')"
      ]
    },
    {
      "cell_type": "code",
      "execution_count": null,
      "metadata": {
        "colab": {
          "base_uri": "https://localhost:8080/"
        },
        "id": "k8H4wZHeJIGV",
        "outputId": "42c78d68-4e69-4342-ac7e-178a58ab2aab"
      },
      "outputs": [
        {
          "output_type": "execute_result",
          "data": {
            "text/plain": [
              "Text(0.5, 1.0, ' Missing Values Percentage')"
            ]
          },
          "metadata": {},
          "execution_count": 142
        },
        {
          "output_type": "display_data",
          "data": {
            "text/plain": [
              "<Figure size 1400x700 with 1 Axes>"
            ],
            "image/png": "[encoded data removed]"
          },
          "metadata": {}
        }
      ],
      "source": [
        "#with filter of <1%\n",
        "plt.figure(figsize=(14,7))\n",
        "null_perc[null_perc<1].plot(kind='bar')\n",
        "\n",
        "plt.xlabel('Columns')\n",
        "plt.ylabel('Percentage')\n",
        "plt.title(' Missing Values Percentage')"
      ]
    },
    {
      "cell_type": "markdown",
      "metadata": {
        "id": "MaR_9eaFVtE0"
      },
      "source": [
        "Now we have 3 more columns in data describe, due to change in data type"
      ]
    },
    {
      "cell_type": "code",
      "execution_count": null,
      "metadata": {
        "colab": {
          "base_uri": "https://localhost:8080/"
        },
        "id": "a-8259cu98Jc",
        "outputId": "db5e94e1-2269-4107-d9c4-028782553557"
      },
      "outputs": [
        {
          "output_type": "stream",
          "name": "stdout",
          "text": [
            "There are ' 0 ' null values in Size Column now\n"
          ]
        }
      ],
      "source": [
        "size_null=df_sel['size'].isnull().sum()\n",
        "print(f\"There are ' {size_null} ' null values in Size Column now\")"
      ]
    },
    {
      "cell_type": "markdown",
      "metadata": {
        "id": "BEkHrrTNms27"
      },
      "source": [
        "**Size Column is ready.\n",
        "Symbols are removed.\n",
        "Data type is float now.\n",
        "Now we can perform statistical analysis.**"
      ]
    },
    {
      "cell_type": "markdown",
      "metadata": {
        "id": "hC67ZxeoAb5T"
      },
      "source": [
        "---"
      ]
    },
    {
      "cell_type": "markdown",
      "metadata": {
        "id": "VbXOtx5TMDYy"
      },
      "source": [
        "---"
      ]
    },
    {
      "cell_type": "markdown",
      "metadata": {
        "id": "kdPN1J6-VkOp"
      },
      "source": [
        "# 05-Descriptive Statistics\n",
        "Performing statistical analysis on the data."
      ]
    },
    {
      "cell_type": "code",
      "source": [
        "df_sel.head()"
      ],
      "metadata": {
        "colab": {
          "base_uri": "https://localhost:8080/"
        },
        "id": "ElmTQ4xuJdWn",
        "outputId": "cd2c5ff4-a37b-4e87-b799-0d4fe73da968"
      },
      "execution_count": null,
      "outputs": [
        {
          "output_type": "execute_result",
          "data": {
            "text/plain": [
              "   ad_supported                                           app_name  \\\n",
              "0         False                                            Gakondo   \n",
              "1          True                                Ampere Battery Info   \n",
              "2         False                                             Vibook   \n",
              "3          True  Smart City Trichy Public Service Vehicles 17UC...   \n",
              "4         False                                            GROW.me   \n",
              "\n",
              "        category content_rating currency  editors_choice  in_app_purchases  \\\n",
              "0      Adventure       Everyone      USD           False             False   \n",
              "1          Tools       Everyone      USD           False             False   \n",
              "2   Productivity       Everyone      USD           False             False   \n",
              "3  Communication       Everyone      USD           False             False   \n",
              "4          Tools       Everyone      USD           False             False   \n",
              "\n",
              "   installs last_updated  price  rating  rating_count   released        size  \\\n",
              "0      10.0   2020-02-26    0.0     0.0           0.0 2020-02-26  10485760.0   \n",
              "1    5000.0   2021-05-06    0.0     4.4          64.0 2020-05-21   3040870.4   \n",
              "2      50.0   2019-08-19    0.0     0.0           0.0 2019-08-09   3879731.2   \n",
              "3      10.0   2018-10-13    0.0     5.0           5.0 2018-09-10   1887436.8   \n",
              "4     100.0   2018-11-12    0.0     0.0           0.0 2020-02-21   6501171.2   \n",
              "\n",
              "         installs_bin  \n",
              "0          Negligible  \n",
              "1  Below Average <10k  \n",
              "2       Very Low <100  \n",
              "3          Negligible  \n",
              "4       Very Low <100  "
            ],
            "text/html": [
              "\n",
              "  <div id=\"df-7850e606-503b-4e39-8686-c28a99a12338\" class=\"colab-df-container\">\n",
              "    <div>\n",
              "<style scoped>\n",
              "    .dataframe tbody tr th:only-of-type {\n",
              "        vertical-align: middle;\n",
              "    }\n",
              "\n",
              "    .dataframe tbody tr th {\n",
              "        vertical-align: top;\n",
              "    }\n",
              "\n",
              "    .dataframe thead th {\n",
              "        text-align: right;\n",
              "    }\n",
              "</style>\n",
              "<table border=\"1\" class=\"dataframe\">\n",
              "  <thead>\n",
              "    <tr style=\"text-align: right;\">\n",
              "      <th></th>\n",
              "      <th>ad_supported</th>\n",
              "      <th>app_name</th>\n",
              "      <th>category</th>\n",
              "      <th>content_rating</th>\n",
              "      <th>currency</th>\n",
              "      <th>editors_choice</th>\n",
              "      <th>in_app_purchases</th>\n",
              "      <th>installs</th>\n",
              "      <th>last_updated</th>\n",
              "      <th>price</th>\n",
              "      <th>rating</th>\n",
              "      <th>rating_count</th>\n",
              "      <th>released</th>\n",
              "      <th>size</th>\n",
              "      <th>installs_bin</th>\n",
              "    </tr>\n",
              "  </thead>\n",
              "  <tbody>\n",
              "    <tr>\n",
              "      <th>0</th>\n",
              "      <td>False</td>\n",
              "      <td>Gakondo</td>\n",
              "      <td>Adventure</td>\n",
              "      <td>Everyone</td>\n",
              "      <td>USD</td>\n",
              "      <td>False</td>\n",
              "      <td>False</td>\n",
              "      <td>10.0</td>\n",
              "      <td>2020-02-26</td>\n",
              "      <td>0.0</td>\n",
              "      <td>0.0</td>\n",
              "      <td>0.0</td>\n",
              "      <td>2020-02-26</td>\n",
              "      <td>10485760.0</td>\n",
              "      <td>Negligible</td>\n",
              "    </tr>\n",
              "    <tr>\n",
              "      <th>1</th>\n",
              "      <td>True</td>\n",
              "      <td>Ampere Battery Info</td>\n",
              "      <td>Tools</td>\n",
              "      <td>Everyone</td>\n",
              "      <td>USD</td>\n",
              "      <td>False</td>\n",
              "      <td>False</td>\n",
              "      <td>5000.0</td>\n",
              "      <td>2021-05-06</td>\n",
              "      <td>0.0</td>\n",
              "      <td>4.4</td>\n",
              "      <td>64.0</td>\n",
              "      <td>2020-05-21</td>\n",
              "      <td>3040870.4</td>\n",
              "      <td>Below Average &lt;10k</td>\n",
              "    </tr>\n",
              "    <tr>\n",
              "      <th>2</th>\n",
              "      <td>False</td>\n",
              "      <td>Vibook</td>\n",
              "      <td>Productivity</td>\n",
              "      <td>Everyone</td>\n",
              "      <td>USD</td>\n",
              "      <td>False</td>\n",
              "      <td>False</td>\n",
              "      <td>50.0</td>\n",
              "      <td>2019-08-19</td>\n",
              "      <td>0.0</td>\n",
              "      <td>0.0</td>\n",
              "      <td>0.0</td>\n",
              "      <td>2019-08-09</td>\n",
              "      <td>3879731.2</td>\n",
              "      <td>Very Low &lt;100</td>\n",
              "    </tr>\n",
              "    <tr>\n",
              "      <th>3</th>\n",
              "      <td>True</td>\n",
              "      <td>Smart City Trichy Public Service Vehicles 17UC...</td>\n",
              "      <td>Communication</td>\n",
              "      <td>Everyone</td>\n",
              "      <td>USD</td>\n",
              "      <td>False</td>\n",
              "      <td>False</td>\n",
              "      <td>10.0</td>\n",
              "      <td>2018-10-13</td>\n",
              "      <td>0.0</td>\n",
              "      <td>5.0</td>\n",
              "      <td>5.0</td>\n",
              "      <td>2018-09-10</td>\n",
              "      <td>1887436.8</td>\n",
              "      <td>Negligible</td>\n",
              "    </tr>\n",
              "    <tr>\n",
              "      <th>4</th>\n",
              "      <td>False</td>\n",
              "      <td>GROW.me</td>\n",
              "      <td>Tools</td>\n",
              "      <td>Everyone</td>\n",
              "      <td>USD</td>\n",
              "      <td>False</td>\n",
              "      <td>False</td>\n",
              "      <td>100.0</td>\n",
              "      <td>2018-11-12</td>\n",
              "      <td>0.0</td>\n",
              "      <td>0.0</td>\n",
              "      <td>0.0</td>\n",
              "      <td>2020-02-21</td>\n",
              "      <td>6501171.2</td>\n",
              "      <td>Very Low &lt;100</td>\n",
              "    </tr>\n",
              "  </tbody>\n",
              "</table>\n",
              "</div>\n",
              "    <div class=\"colab-df-buttons\">\n",
              "\n",
              "  <div class=\"colab-df-container\">\n",
              "    <button class=\"colab-df-convert\" onclick=\"convertToInteractive('df-7850e606-503b-4e39-8686-c28a99a12338')\"\n",
              "            title=\"Convert this dataframe to an interactive table.\"\n",
              "            style=\"display:none;\">\n",
              "\n",
              "  <svg xmlns=\"http://www.w3.org/2000/svg\" height=\"24px\" viewBox=\"0 -960 960 960\">\n",
              "    <path d=\"M120-120v-720h720v720H120Zm60-500h600v-160H180v160Zm220 220h160v-160H400v160Zm0 220h160v-160H400v160ZM180-400h160v-160H180v160Zm440 0h160v-160H620v160ZM180-180h160v-160H180v160Zm440 0h160v-160H620v160Z\"/>\n",
              "  </svg>\n",
              "    </button>\n",
              "\n",
              "  <style>\n",
              "    .colab-df-container {\n",
              "      display:flex;\n",
              "      gap: 12px;\n",
              "    }\n",
              "\n",
              "    .colab-df-convert {\n",
              "      background-color: #E8F0FE;\n",
              "      border: none;\n",
              "      border-radius: 50%;\n",
              "      cursor: pointer;\n",
              "      display: none;\n",
              "      fill: #1967D2;\n",
              "      height: 32px;\n",
              "      padding: 0 0 0 0;\n",
              "      width: 32px;\n",
              "    }\n",
              "\n",
              "    .colab-df-convert:hover {\n",
              "      background-color: #E2EBFA;\n",
              "      box-shadow: 0px 1px 2px rgba(60, 64, 67, 0.3), 0px 1px 3px 1px rgba(60, 64, 67, 0.15);\n",
              "      fill: #174EA6;\n",
              "    }\n",
              "\n",
              "    .colab-df-buttons div {\n",
              "      margin-bottom: 4px;\n",
              "    }\n",
              "\n",
              "    [theme=dark] .colab-df-convert {\n",
              "      background-color: #3B4455;\n",
              "      fill: #D2E3FC;\n",
              "    }\n",
              "\n",
              "    [theme=dark] .colab-df-convert:hover {\n",
              "      background-color: #434B5C;\n",
              "      box-shadow: 0px 1px 3px 1px rgba(0, 0, 0, 0.15);\n",
              "      filter: drop-shadow(0px 1px 2px rgba(0, 0, 0, 0.3));\n",
              "      fill: #FFFFFF;\n",
              "    }\n",
              "  </style>\n",
              "\n",
              "    <script>\n",
              "      const buttonEl =\n",
              "        document.querySelector('#df-7850e606-503b-4e39-8686-c28a99a12338 button.colab-df-convert');\n",
              "      buttonEl.style.display =\n",
              "        google.colab.kernel.accessAllowed ? 'block' : 'none';\n",
              "\n",
              "      async function convertToInteractive(key) {\n",
              "        const element = document.querySelector('#df-7850e606-503b-4e39-8686-c28a99a12338');\n",
              "        const dataTable =\n",
              "          await google.colab.kernel.invokeFunction('convertToInteractive',\n",
              "                                                    [key], {});\n",
              "        if (!dataTable) return;\n",
              "\n",
              "        const docLinkHtml = 'Like what you see? Visit the ' +\n",
              "          '<a target=\"_blank\" href=https://colab.research.google.com/notebooks/data_table.ipynb>data table notebook</a>'\n",
              "          + ' to learn more about interactive tables.';\n",
              "        element.innerHTML = '';\n",
              "        dataTable['output_type'] = 'display_data';\n",
              "        await google.colab.output.renderOutput(dataTable, element);\n",
              "        const docLink = document.createElement('div');\n",
              "        docLink.innerHTML = docLinkHtml;\n",
              "        element.appendChild(docLink);\n",
              "      }\n",
              "    </script>\n",
              "  </div>\n",
              "\n",
              "\n",
              "<div id=\"df-032af188-45e1-4795-8d5d-7ed0d08ae01f\">\n",
              "  <button class=\"colab-df-quickchart\" onclick=\"quickchart('df-032af188-45e1-4795-8d5d-7ed0d08ae01f')\"\n",
              "            title=\"Suggest charts\"\n",
              "            style=\"display:none;\">\n",
              "\n",
              "<svg xmlns=\"http://www.w3.org/2000/svg\" height=\"24px\"viewBox=\"0 0 24 24\"\n",
              "     width=\"24px\">\n",
              "    <g>\n",
              "        <path d=\"M19 3H5c-1.1 0-2 .9-2 2v14c0 1.1.9 2 2 2h14c1.1 0 2-.9 2-2V5c0-1.1-.9-2-2-2zM9 17H7v-7h2v7zm4 0h-2V7h2v10zm4 0h-2v-4h2v4z\"/>\n",
              "    </g>\n",
              "</svg>\n",
              "  </button>\n",
              "\n",
              "<style>\n",
              "  .colab-df-quickchart {\n",
              "      --bg-color: #E8F0FE;\n",
              "      --fill-color: #1967D2;\n",
              "      --hover-bg-color: #E2EBFA;\n",
              "      --hover-fill-color: #174EA6;\n",
              "      --disabled-fill-color: #AAA;\n",
              "      --disabled-bg-color: #DDD;\n",
              "  }\n",
              "\n",
              "  [theme=dark] .colab-df-quickchart {\n",
              "      --bg-color: #3B4455;\n",
              "      --fill-color: #D2E3FC;\n",
              "      --hover-bg-color: #434B5C;\n",
              "      --hover-fill-color: #FFFFFF;\n",
              "      --disabled-bg-color: #3B4455;\n",
              "      --disabled-fill-color: #666;\n",
              "  }\n",
              "\n",
              "  .colab-df-quickchart {\n",
              "    background-color: var(--bg-color);\n",
              "    border: none;\n",
              "    border-radius: 50%;\n",
              "    cursor: pointer;\n",
              "    display: none;\n",
              "    fill: var(--fill-color);\n",
              "    height: 32px;\n",
              "    padding: 0;\n",
              "    width: 32px;\n",
              "  }\n",
              "\n",
              "  .colab-df-quickchart:hover {\n",
              "    background-color: var(--hover-bg-color);\n",
              "    box-shadow: 0 1px 2px rgba(60, 64, 67, 0.3), 0 1px 3px 1px rgba(60, 64, 67, 0.15);\n",
              "    fill: var(--button-hover-fill-color);\n",
              "  }\n",
              "\n",
              "  .colab-df-quickchart-complete:disabled,\n",
              "  .colab-df-quickchart-complete:disabled:hover {\n",
              "    background-color: var(--disabled-bg-color);\n",
              "    fill: var(--disabled-fill-color);\n",
              "    box-shadow: none;\n",
              "  }\n",
              "\n",
              "  .colab-df-spinner {\n",
              "    border: 2px solid var(--fill-color);\n",
              "    border-color: transparent;\n",
              "    border-bottom-color: var(--fill-color);\n",
              "    animation:\n",
              "      spin 1s steps(1) infinite;\n",
              "  }\n",
              "\n",
              "  @keyframes spin {\n",
              "    0% {\n",
              "      border-color: transparent;\n",
              "      border-bottom-color: var(--fill-color);\n",
              "      border-left-color: var(--fill-color);\n",
              "    }\n",
              "    20% {\n",
              "      border-color: transparent;\n",
              "      border-left-color: var(--fill-color);\n",
              "      border-top-color: var(--fill-color);\n",
              "    }\n",
              "    30% {\n",
              "      border-color: transparent;\n",
              "      border-left-color: var(--fill-color);\n",
              "      border-top-color: var(--fill-color);\n",
              "      border-right-color: var(--fill-color);\n",
              "    }\n",
              "    40% {\n",
              "      border-color: transparent;\n",
              "      border-right-color: var(--fill-color);\n",
              "      border-top-color: var(--fill-color);\n",
              "    }\n",
              "    60% {\n",
              "      border-color: transparent;\n",
              "      border-right-color: var(--fill-color);\n",
              "    }\n",
              "    80% {\n",
              "      border-color: transparent;\n",
              "      border-right-color: var(--fill-color);\n",
              "      border-bottom-color: var(--fill-color);\n",
              "    }\n",
              "    90% {\n",
              "      border-color: transparent;\n",
              "      border-bottom-color: var(--fill-color);\n",
              "    }\n",
              "  }\n",
              "</style>\n",
              "\n",
              "  <script>\n",
              "    async function quickchart(key) {\n",
              "      const quickchartButtonEl =\n",
              "        document.querySelector('#' + key + ' button');\n",
              "      quickchartButtonEl.disabled = true;  // To prevent multiple clicks.\n",
              "      quickchartButtonEl.classList.add('colab-df-spinner');\n",
              "      try {\n",
              "        const charts = await google.colab.kernel.invokeFunction(\n",
              "            'suggestCharts', [key], {});\n",
              "      } catch (error) {\n",
              "        console.error('Error during call to suggestCharts:', error);\n",
              "      }\n",
              "      quickchartButtonEl.classList.remove('colab-df-spinner');\n",
              "      quickchartButtonEl.classList.add('colab-df-quickchart-complete');\n",
              "    }\n",
              "    (() => {\n",
              "      let quickchartButtonEl =\n",
              "        document.querySelector('#df-032af188-45e1-4795-8d5d-7ed0d08ae01f button');\n",
              "      quickchartButtonEl.style.display =\n",
              "        google.colab.kernel.accessAllowed ? 'block' : 'none';\n",
              "    })();\n",
              "  </script>\n",
              "</div>\n",
              "\n",
              "    </div>\n",
              "  </div>\n"
            ]
          },
          "metadata": {},
          "execution_count": 144
        }
      ]
    },
    {
      "cell_type": "code",
      "execution_count": null,
      "metadata": {
        "colab": {
          "base_uri": "https://localhost:8080/"
        },
        "id": "iY9WfdRjSHpk",
        "outputId": "673f90a2-1cd0-4c97-8864-66189a7cee44"
      },
      "outputs": [
        {
          "output_type": "execute_result",
          "data": {
            "text/plain": [
              "           installs        price       rating  rating_count          size\n",
              "count  3.593000e+03  3593.000000  3593.000000  3.593000e+03  3.593000e+03\n",
              "mean   1.326698e+05     0.111336     2.144285  1.701534e+03  1.930787e+07\n",
              "std    2.447519e+06     1.949123     2.099080  2.943854e+04  2.393086e+07\n",
              "min    0.000000e+00     0.000000     0.000000  0.000000e+00  1.843200e+04\n",
              "25%    5.000000e+01     0.000000     0.000000  0.000000e+00  5.138022e+06\n",
              "50%    5.000000e+02     0.000000     2.600000  6.000000e+00  1.048576e+07\n",
              "75%    5.000000e+03     0.000000     4.300000  4.100000e+01  2.516582e+07\n",
              "max    1.000000e+08    99.990000     5.000000  1.264773e+06  5.567939e+08"
            ],
            "text/html": [
              "\n",
              "  <div id=\"df-401b8bf6-ad02-4776-9562-f430957ab1fd\" class=\"colab-df-container\">\n",
              "    <div>\n",
              "<style scoped>\n",
              "    .dataframe tbody tr th:only-of-type {\n",
              "        vertical-align: middle;\n",
              "    }\n",
              "\n",
              "    .dataframe tbody tr th {\n",
              "        vertical-align: top;\n",
              "    }\n",
              "\n",
              "    .dataframe thead th {\n",
              "        text-align: right;\n",
              "    }\n",
              "</style>\n",
              "<table border=\"1\" class=\"dataframe\">\n",
              "  <thead>\n",
              "    <tr style=\"text-align: right;\">\n",
              "      <th></th>\n",
              "      <th>installs</th>\n",
              "      <th>price</th>\n",
              "      <th>rating</th>\n",
              "      <th>rating_count</th>\n",
              "      <th>size</th>\n",
              "    </tr>\n",
              "  </thead>\n",
              "  <tbody>\n",
              "    <tr>\n",
              "      <th>count</th>\n",
              "      <td>3.593000e+03</td>\n",
              "      <td>3593.000000</td>\n",
              "      <td>3593.000000</td>\n",
              "      <td>3.593000e+03</td>\n",
              "      <td>3.593000e+03</td>\n",
              "    </tr>\n",
              "    <tr>\n",
              "      <th>mean</th>\n",
              "      <td>1.326698e+05</td>\n",
              "      <td>0.111336</td>\n",
              "      <td>2.144285</td>\n",
              "      <td>1.701534e+03</td>\n",
              "      <td>1.930787e+07</td>\n",
              "    </tr>\n",
              "    <tr>\n",
              "      <th>std</th>\n",
              "      <td>2.447519e+06</td>\n",
              "      <td>1.949123</td>\n",
              "      <td>2.099080</td>\n",
              "      <td>2.943854e+04</td>\n",
              "      <td>2.393086e+07</td>\n",
              "    </tr>\n",
              "    <tr>\n",
              "      <th>min</th>\n",
              "      <td>0.000000e+00</td>\n",
              "      <td>0.000000</td>\n",
              "      <td>0.000000</td>\n",
              "      <td>0.000000e+00</td>\n",
              "      <td>1.843200e+04</td>\n",
              "    </tr>\n",
              "    <tr>\n",
              "      <th>25%</th>\n",
              "      <td>5.000000e+01</td>\n",
              "      <td>0.000000</td>\n",
              "      <td>0.000000</td>\n",
              "      <td>0.000000e+00</td>\n",
              "      <td>5.138022e+06</td>\n",
              "    </tr>\n",
              "    <tr>\n",
              "      <th>50%</th>\n",
              "      <td>5.000000e+02</td>\n",
              "      <td>0.000000</td>\n",
              "      <td>2.600000</td>\n",
              "      <td>6.000000e+00</td>\n",
              "      <td>1.048576e+07</td>\n",
              "    </tr>\n",
              "    <tr>\n",
              "      <th>75%</th>\n",
              "      <td>5.000000e+03</td>\n",
              "      <td>0.000000</td>\n",
              "      <td>4.300000</td>\n",
              "      <td>4.100000e+01</td>\n",
              "      <td>2.516582e+07</td>\n",
              "    </tr>\n",
              "    <tr>\n",
              "      <th>max</th>\n",
              "      <td>1.000000e+08</td>\n",
              "      <td>99.990000</td>\n",
              "      <td>5.000000</td>\n",
              "      <td>1.264773e+06</td>\n",
              "      <td>5.567939e+08</td>\n",
              "    </tr>\n",
              "  </tbody>\n",
              "</table>\n",
              "</div>\n",
              "    <div class=\"colab-df-buttons\">\n",
              "\n",
              "  <div class=\"colab-df-container\">\n",
              "    <button class=\"colab-df-convert\" onclick=\"convertToInteractive('df-401b8bf6-ad02-4776-9562-f430957ab1fd')\"\n",
              "            title=\"Convert this dataframe to an interactive table.\"\n",
              "            style=\"display:none;\">\n",
              "\n",
              "  <svg xmlns=\"http://www.w3.org/2000/svg\" height=\"24px\" viewBox=\"0 -960 960 960\">\n",
              "    <path d=\"M120-120v-720h720v720H120Zm60-500h600v-160H180v160Zm220 220h160v-160H400v160Zm0 220h160v-160H400v160ZM180-400h160v-160H180v160Zm440 0h160v-160H620v160ZM180-180h160v-160H180v160Zm440 0h160v-160H620v160Z\"/>\n",
              "  </svg>\n",
              "    </button>\n",
              "\n",
              "  <style>\n",
              "    .colab-df-container {\n",
              "      display:flex;\n",
              "      gap: 12px;\n",
              "    }\n",
              "\n",
              "    .colab-df-convert {\n",
              "      background-color: #E8F0FE;\n",
              "      border: none;\n",
              "      border-radius: 50%;\n",
              "      cursor: pointer;\n",
              "      display: none;\n",
              "      fill: #1967D2;\n",
              "      height: 32px;\n",
              "      padding: 0 0 0 0;\n",
              "      width: 32px;\n",
              "    }\n",
              "\n",
              "    .colab-df-convert:hover {\n",
              "      background-color: #E2EBFA;\n",
              "      box-shadow: 0px 1px 2px rgba(60, 64, 67, 0.3), 0px 1px 3px 1px rgba(60, 64, 67, 0.15);\n",
              "      fill: #174EA6;\n",
              "    }\n",
              "\n",
              "    .colab-df-buttons div {\n",
              "      margin-bottom: 4px;\n",
              "    }\n",
              "\n",
              "    [theme=dark] .colab-df-convert {\n",
              "      background-color: #3B4455;\n",
              "      fill: #D2E3FC;\n",
              "    }\n",
              "\n",
              "    [theme=dark] .colab-df-convert:hover {\n",
              "      background-color: #434B5C;\n",
              "      box-shadow: 0px 1px 3px 1px rgba(0, 0, 0, 0.15);\n",
              "      filter: drop-shadow(0px 1px 2px rgba(0, 0, 0, 0.3));\n",
              "      fill: #FFFFFF;\n",
              "    }\n",
              "  </style>\n",
              "\n",
              "    <script>\n",
              "      const buttonEl =\n",
              "        document.querySelector('#df-401b8bf6-ad02-4776-9562-f430957ab1fd button.colab-df-convert');\n",
              "      buttonEl.style.display =\n",
              "        google.colab.kernel.accessAllowed ? 'block' : 'none';\n",
              "\n",
              "      async function convertToInteractive(key) {\n",
              "        const element = document.querySelector('#df-401b8bf6-ad02-4776-9562-f430957ab1fd');\n",
              "        const dataTable =\n",
              "          await google.colab.kernel.invokeFunction('convertToInteractive',\n",
              "                                                    [key], {});\n",
              "        if (!dataTable) return;\n",
              "\n",
              "        const docLinkHtml = 'Like what you see? Visit the ' +\n",
              "          '<a target=\"_blank\" href=https://colab.research.google.com/notebooks/data_table.ipynb>data table notebook</a>'\n",
              "          + ' to learn more about interactive tables.';\n",
              "        element.innerHTML = '';\n",
              "        dataTable['output_type'] = 'display_data';\n",
              "        await google.colab.output.renderOutput(dataTable, element);\n",
              "        const docLink = document.createElement('div');\n",
              "        docLink.innerHTML = docLinkHtml;\n",
              "        element.appendChild(docLink);\n",
              "      }\n",
              "    </script>\n",
              "  </div>\n",
              "\n",
              "\n",
              "<div id=\"df-543ed1a6-e881-47a4-9a90-abbca6ae37f5\">\n",
              "  <button class=\"colab-df-quickchart\" onclick=\"quickchart('df-543ed1a6-e881-47a4-9a90-abbca6ae37f5')\"\n",
              "            title=\"Suggest charts\"\n",
              "            style=\"display:none;\">\n",
              "\n",
              "<svg xmlns=\"http://www.w3.org/2000/svg\" height=\"24px\"viewBox=\"0 0 24 24\"\n",
              "     width=\"24px\">\n",
              "    <g>\n",
              "        <path d=\"M19 3H5c-1.1 0-2 .9-2 2v14c0 1.1.9 2 2 2h14c1.1 0 2-.9 2-2V5c0-1.1-.9-2-2-2zM9 17H7v-7h2v7zm4 0h-2V7h2v10zm4 0h-2v-4h2v4z\"/>\n",
              "    </g>\n",
              "</svg>\n",
              "  </button>\n",
              "\n",
              "<style>\n",
              "  .colab-df-quickchart {\n",
              "      --bg-color: #E8F0FE;\n",
              "      --fill-color: #1967D2;\n",
              "      --hover-bg-color: #E2EBFA;\n",
              "      --hover-fill-color: #174EA6;\n",
              "      --disabled-fill-color: #AAA;\n",
              "      --disabled-bg-color: #DDD;\n",
              "  }\n",
              "\n",
              "  [theme=dark] .colab-df-quickchart {\n",
              "      --bg-color: #3B4455;\n",
              "      --fill-color: #D2E3FC;\n",
              "      --hover-bg-color: #434B5C;\n",
              "      --hover-fill-color: #FFFFFF;\n",
              "      --disabled-bg-color: #3B4455;\n",
              "      --disabled-fill-color: #666;\n",
              "  }\n",
              "\n",
              "  .colab-df-quickchart {\n",
              "    background-color: var(--bg-color);\n",
              "    border: none;\n",
              "    border-radius: 50%;\n",
              "    cursor: pointer;\n",
              "    display: none;\n",
              "    fill: var(--fill-color);\n",
              "    height: 32px;\n",
              "    padding: 0;\n",
              "    width: 32px;\n",
              "  }\n",
              "\n",
              "  .colab-df-quickchart:hover {\n",
              "    background-color: var(--hover-bg-color);\n",
              "    box-shadow: 0 1px 2px rgba(60, 64, 67, 0.3), 0 1px 3px 1px rgba(60, 64, 67, 0.15);\n",
              "    fill: var(--button-hover-fill-color);\n",
              "  }\n",
              "\n",
              "  .colab-df-quickchart-complete:disabled,\n",
              "  .colab-df-quickchart-complete:disabled:hover {\n",
              "    background-color: var(--disabled-bg-color);\n",
              "    fill: var(--disabled-fill-color);\n",
              "    box-shadow: none;\n",
              "  }\n",
              "\n",
              "  .colab-df-spinner {\n",
              "    border: 2px solid var(--fill-color);\n",
              "    border-color: transparent;\n",
              "    border-bottom-color: var(--fill-color);\n",
              "    animation:\n",
              "      spin 1s steps(1) infinite;\n",
              "  }\n",
              "\n",
              "  @keyframes spin {\n",
              "    0% {\n",
              "      border-color: transparent;\n",
              "      border-bottom-color: var(--fill-color);\n",
              "      border-left-color: var(--fill-color);\n",
              "    }\n",
              "    20% {\n",
              "      border-color: transparent;\n",
              "      border-left-color: var(--fill-color);\n",
              "      border-top-color: var(--fill-color);\n",
              "    }\n",
              "    30% {\n",
              "      border-color: transparent;\n",
              "      border-left-color: var(--fill-color);\n",
              "      border-top-color: var(--fill-color);\n",
              "      border-right-color: var(--fill-color);\n",
              "    }\n",
              "    40% {\n",
              "      border-color: transparent;\n",
              "      border-right-color: var(--fill-color);\n",
              "      border-top-color: var(--fill-color);\n",
              "    }\n",
              "    60% {\n",
              "      border-color: transparent;\n",
              "      border-right-color: var(--fill-color);\n",
              "    }\n",
              "    80% {\n",
              "      border-color: transparent;\n",
              "      border-right-color: var(--fill-color);\n",
              "      border-bottom-color: var(--fill-color);\n",
              "    }\n",
              "    90% {\n",
              "      border-color: transparent;\n",
              "      border-bottom-color: var(--fill-color);\n",
              "    }\n",
              "  }\n",
              "</style>\n",
              "\n",
              "  <script>\n",
              "    async function quickchart(key) {\n",
              "      const quickchartButtonEl =\n",
              "        document.querySelector('#' + key + ' button');\n",
              "      quickchartButtonEl.disabled = true;  // To prevent multiple clicks.\n",
              "      quickchartButtonEl.classList.add('colab-df-spinner');\n",
              "      try {\n",
              "        const charts = await google.colab.kernel.invokeFunction(\n",
              "            'suggestCharts', [key], {});\n",
              "      } catch (error) {\n",
              "        console.error('Error during call to suggestCharts:', error);\n",
              "      }\n",
              "      quickchartButtonEl.classList.remove('colab-df-spinner');\n",
              "      quickchartButtonEl.classList.add('colab-df-quickchart-complete');\n",
              "    }\n",
              "    (() => {\n",
              "      let quickchartButtonEl =\n",
              "        document.querySelector('#df-543ed1a6-e881-47a4-9a90-abbca6ae37f5 button');\n",
              "      quickchartButtonEl.style.display =\n",
              "        google.colab.kernel.accessAllowed ? 'block' : 'none';\n",
              "    })();\n",
              "  </script>\n",
              "</div>\n",
              "\n",
              "    </div>\n",
              "  </div>\n"
            ]
          },
          "metadata": {},
          "execution_count": 145
        }
      ],
      "source": [
        "df_sel.describe()"
      ]
    },
    {
      "cell_type": "code",
      "source": [
        "df_sel.info()"
      ],
      "metadata": {
        "colab": {
          "base_uri": "https://localhost:8080/"
        },
        "id": "t6yXlPn2JwvU",
        "outputId": "9f39c276-6808-44d7-c845-524fe0a043bc"
      },
      "execution_count": null,
      "outputs": [
        {
          "output_type": "stream",
          "name": "stdout",
          "text": [
            "<class 'pandas.core.frame.DataFrame'>\n",
            "RangeIndex: 3593 entries, 0 to 3592\n",
            "Data columns (total 15 columns):\n",
            " #   Column            Non-Null Count  Dtype         \n",
            "---  ------            --------------  -----         \n",
            " 0   ad_supported      3593 non-null   bool          \n",
            " 1   app_name          3593 non-null   object        \n",
            " 2   category          3593 non-null   object        \n",
            " 3   content_rating    3593 non-null   object        \n",
            " 4   currency          3593 non-null   object        \n",
            " 5   editors_choice    3593 non-null   bool          \n",
            " 6   in_app_purchases  3593 non-null   bool          \n",
            " 7   installs          3593 non-null   float64       \n",
            " 8   last_updated      3593 non-null   datetime64[ns]\n",
            " 9   price             3593 non-null   float64       \n",
            " 10  rating            3593 non-null   float64       \n",
            " 11  rating_count      3593 non-null   float64       \n",
            " 12  released          3593 non-null   datetime64[ns]\n",
            " 13  size              3593 non-null   float64       \n",
            " 14  installs_bin      3593 non-null   category      \n",
            "dtypes: bool(3), category(1), datetime64[ns](2), float64(5), object(4)\n",
            "memory usage: 323.3+ KB\n"
          ]
        }
      ]
    },
    {
      "cell_type": "markdown",
      "source": [
        "# **Exploring Distributions**\n",
        "\n",
        "only for nuemeric columns."
      ],
      "metadata": {
        "id": "b5NhyiJILxjY"
      }
    },
    {
      "cell_type": "markdown",
      "source": [
        "** lets scale the data **"
      ],
      "metadata": {
        "id": "mcAb2IAMI7E5"
      }
    },
    {
      "cell_type": "code",
      "source": [
        "#calculate zscore of installs\n",
        "from scipy import stats\n",
        "#calulate z score\n",
        "median = np.median(df_sel['installs'])\n",
        "median_absolute_deviation = np.median(np.abs(df_sel['installs'] - median))\n",
        "modified_z_scores = 0.6745 * (df_sel['installs'] - median) / median_absolute_deviation\n",
        "#plot modified z scores\n",
        "plt.figure(figsize=(12,6))\n",
        "sns.kdeplot(modified_z_scores)\n",
        "plt.show()\n",
        "\n"
      ],
      "metadata": {
        "colab": {
          "base_uri": "https://localhost:8080/",
          "height": 542
        },
        "id": "G54VXMwxc_06",
        "outputId": "f5db2373-7292-4dd5-f32c-6db2db93df0b"
      },
      "execution_count": null,
      "outputs": [
        {
          "output_type": "display_data",
          "data": {
            "text/plain": [
              "<Figure size 1200x600 with 1 Axes>"
            ],
            "image/png": "[encoded data removed]"
          },
          "metadata": {}
        }
      ]
    },
    {
      "cell_type": "code",
      "source": [
        "#show count of values in installs greater than 100000\n",
        "drop_ins=df_sel['installs'][df_sel['installs']>10000000].count()\n",
        "#drop drop_ins from installs\n",
        "df_sel.drop(df_sel[df_sel['installs']>10000000].index,inplace=True)"
      ],
      "metadata": {
        "id": "h6S6fZV8UwET"
      },
      "execution_count": null,
      "outputs": []
    },
    {
      "cell_type": "markdown",
      "source": [
        "**we have removed ' {drop_ins} ' values from installs greater than 10,000,000**"
      ],
      "metadata": {
        "id": "l4PPI8uObJWa"
      }
    },
    {
      "cell_type": "code",
      "source": [
        "#drop column installs_mm\n",
        "df_sel.drop('installs_mm',axis=1,inplace=True)"
      ],
      "metadata": {
        "id": "3MocpACeV-CZ"
      },
      "execution_count": null,
      "outputs": []
    },
    {
      "cell_type": "code",
      "source": [
        "#create kernel density estimation plot\n",
        "plt.figure(figsize=(12,6))\n",
        "#df_sel['installs'].plot(kind='kde')\n",
        "#creat KDE plot in a range\n",
        "sns.kdeplot(data=df_sel['installs'])\n",
        "#setting limit to view more\n",
        "#plt.xlim(-1000000, 1000000)\n",
        "plt.show()\n",
        "\n",
        "\n"
      ],
      "metadata": {
        "colab": {
          "base_uri": "https://localhost:8080/",
          "height": 557
        },
        "id": "VM8g1grsWjqx",
        "outputId": "6e925030-23c1-4840-a6a6-d603c0aafa78"
      },
      "execution_count": null,
      "outputs": [
        {
          "output_type": "display_data",
          "data": {
            "text/plain": [
              "<Figure size 1200x600 with 1 Axes>"
            ],
            "image/png": "[encoded data removed]"
          },
          "metadata": {}
        }
      ]
    },
    {
      "cell_type": "code",
      "source": [
        "#creating violin plot\n",
        "sns.violinplot(data=df_sel, y='installs')\n"
      ],
      "metadata": {
        "colab": {
          "base_uri": "https://localhost:8080/",
          "height": 443
        },
        "id": "en6PDgh-IZ2D",
        "outputId": "e756241b-08c3-4c38-86e5-4dabc67f085e"
      },
      "execution_count": null,
      "outputs": [
        {
          "output_type": "execute_result",
          "data": {
            "text/plain": [
              "<Axes: ylabel='installs'>"
            ]
          },
          "metadata": {},
          "execution_count": 182
        },
        {
          "output_type": "display_data",
          "data": {
            "text/plain": [
              "<Figure size 640x480 with 1 Axes>"
            ],
            "image/png": "[encoded data removed]"
          },
          "metadata": {}
        }
      ]
    },
    {
      "cell_type": "code",
      "source": [
        "#creating q-q plot\n",
        "plt.figure(figsize=(12,6))\n",
        "stats.probplot(df_sel['installs'],dist='norm',plot=plt)\n",
        "plt.show()"
      ],
      "metadata": {
        "colab": {
          "base_uri": "https://localhost:8080/",
          "height": 564
        },
        "id": "umQODGulIIa1",
        "outputId": "71f1ce4b-110e-490f-bbcf-0c8261469bd8"
      },
      "execution_count": null,
      "outputs": [
        {
          "output_type": "display_data",
          "data": {
            "text/plain": [
              "<Figure size 1200x600 with 1 Axes>"
            ],
            "image/png": "[encoded data removed]"
          },
          "metadata": {}
        }
      ]
    },
    {
      "cell_type": "code",
      "source": [
        "#create box plot of installs\n",
        "plt.figure(figsize=(12,6))\n",
        "df_sel.boxplot(column=['installs'])\n",
        "#setting limit to view more\n",
        "#plt.ylim(0, 10000)\n",
        "\n"
      ],
      "metadata": {
        "colab": {
          "base_uri": "https://localhost:8080/",
          "height": 554
        },
        "id": "c99SbjCvHXup",
        "outputId": "1d762488-51e3-4490-e755-044d94753ff7"
      },
      "execution_count": null,
      "outputs": [
        {
          "output_type": "execute_result",
          "data": {
            "text/plain": [
              "<Axes: >"
            ]
          },
          "metadata": {},
          "execution_count": 206
        },
        {
          "output_type": "display_data",
          "data": {
            "text/plain": [
              "<Figure size 1200x600 with 1 Axes>"
            ],
            "image/png": "[encoded data removed]"
          },
          "metadata": {}
        }
      ]
    },
    {
      "cell_type": "code",
      "source": [
        "#bar plot of installs\n",
        "plt.figure(figsize=(12,6))\n",
        "df_sel['installs'].value_counts().plot(kind='bar')"
      ],
      "metadata": {
        "colab": {
          "base_uri": "https://localhost:8080/",
          "height": 608
        },
        "id": "pRNSJX7cELdK",
        "outputId": "e52202b8-16b9-4ce7-be68-f6bd84066137"
      },
      "execution_count": null,
      "outputs": [
        {
          "output_type": "execute_result",
          "data": {
            "text/plain": [
              "<Axes: >"
            ]
          },
          "metadata": {},
          "execution_count": 177
        },
        {
          "output_type": "display_data",
          "data": {
            "text/plain": [
              "<Figure size 1200x600 with 1 Axes>"
            ],
            "image/png": "[encoded data removed]"
          },
          "metadata": {}
        }
      ]
    },
    {
      "cell_type": "code",
      "source": [
        "#histogtram of installs\n",
        "plt.figure(figsize=(12,6))\n",
        "df_sel['installs'].hist()"
      ],
      "metadata": {
        "colab": {
          "base_uri": "https://localhost:8080/",
          "height": 557
        },
        "id": "wLdvofgfEuTE",
        "outputId": "e8d33e19-2245-4ffa-aed4-ced8e704882f"
      },
      "execution_count": null,
      "outputs": [
        {
          "output_type": "execute_result",
          "data": {
            "text/plain": [
              "<Axes: >"
            ]
          },
          "metadata": {},
          "execution_count": 179
        },
        {
          "output_type": "display_data",
          "data": {
            "text/plain": [
              "<Figure size 1200x600 with 1 Axes>"
            ],
            "image/png": "[encoded data removed]"
          },
          "metadata": {}
        }
      ]
    },
    {
      "cell_type": "code",
      "source": [
        "#calculate mean of each column\n",
        "df_sel.mean().astype('int64')"
      ],
      "metadata": {
        "colab": {
          "base_uri": "https://localhost:8080/"
        },
        "id": "RIbylVhfOjVp",
        "outputId": "73d88cd8-4fc1-4af9-fad0-d264f17e2b2a"
      },
      "execution_count": null,
      "outputs": [
        {
          "output_type": "execute_result",
          "data": {
            "text/plain": [
              "ad_supported               0\n",
              "editors_choice             0\n",
              "in_app_purchases           0\n",
              "installs              132669\n",
              "price                      0\n",
              "rating                     2\n",
              "rating_count            1701\n",
              "size                19307866\n",
              "dtype: int64"
            ]
          },
          "metadata": {},
          "execution_count": 152
        }
      ]
    },
    {
      "cell_type": "code",
      "source": [
        "#calculate variance of each column\n",
        "df_sel.var().astype('int64')"
      ],
      "metadata": {
        "colab": {
          "base_uri": "https://localhost:8080/"
        },
        "id": "IpPk3ejzO_Av",
        "outputId": "d17f3faf-70ae-4b8e-e1d8-974a1b4f001e"
      },
      "execution_count": null,
      "outputs": [
        {
          "output_type": "execute_result",
          "data": {
            "text/plain": [
              "ad_supported                      0\n",
              "editors_choice                    0\n",
              "in_app_purchases                  0\n",
              "installs              5990347238975\n",
              "price                             3\n",
              "rating                            4\n",
              "rating_count              866627500\n",
              "size                572686269230596\n",
              "dtype: int64"
            ]
          },
          "metadata": {},
          "execution_count": 153
        }
      ]
    },
    {
      "cell_type": "markdown",
      "source": [
        "The standard deviation is the square root of the variance. The variance is the average of the squared differences from the mean.\n",
        "The standard deviation is used to measure the spread of the data.\n",
        "The standard deviation measures how far the data points are spread out from the mean.\n",
        "The standard deviation is widely used in statistics, data science, and machine learning."
      ],
      "metadata": {
        "id": "GnpZPOg2NsRC"
      }
    },
    {
      "cell_type": "code",
      "source": [
        "#checking standard deviation of each column\n",
        "df_sel.std()"
      ],
      "metadata": {
        "colab": {
          "base_uri": "https://localhost:8080/"
        },
        "id": "yGPgOuNFMTKz",
        "outputId": "ba99b63e-b225-4b45-eebb-1ef85818fd38"
      },
      "execution_count": null,
      "outputs": [
        {
          "output_type": "execute_result",
          "data": {
            "text/plain": [
              "ad_supported                           0.499864\n",
              "editors_choice                          0.02359\n",
              "in_app_purchases                        0.26545\n",
              "installs                         2447518.588076\n",
              "last_updated        559 days 16:40:32.588525032\n",
              "price                                  1.949123\n",
              "rating                                  2.09908\n",
              "rating_count                       29438.537683\n",
              "released            750 days 23:42:22.680379424\n",
              "size                            23930864.364469\n",
              "dtype: object"
            ]
          },
          "metadata": {},
          "execution_count": 154
        }
      ]
    },
    {
      "cell_type": "code",
      "source": [
        "#standard deviation of installs\n",
        "df_sel['installs'].std()\n",
        "#interpret the result\n",
        "#the higher the standard deviation, the higher the number of outliers\n"
      ],
      "metadata": {
        "colab": {
          "base_uri": "https://localhost:8080/"
        },
        "id": "6jORqsljNY1T",
        "outputId": "fff21127-9bef-41fc-bb3a-fe8c0e5c460c"
      },
      "execution_count": null,
      "outputs": [
        {
          "output_type": "execute_result",
          "data": {
            "text/plain": [
              "2447518.588075623"
            ]
          },
          "metadata": {},
          "execution_count": 155
        }
      ]
    },
    {
      "cell_type": "markdown",
      "metadata": {
        "id": "5hoFl4AYAxDc"
      },
      "source": [
        "# Data Visualization\n",
        "\n",
        "---\n",
        "\n",
        "\n",
        "\n"
      ]
    },
    {
      "cell_type": "code",
      "execution_count": null,
      "metadata": {
        "colab": {
          "base_uri": "https://localhost:8080/"
        },
        "id": "s7psBHn-AztU",
        "outputId": "91761793-c89f-443e-e7e7-4325ebfd376f"
      },
      "outputs": [
        {
          "output_type": "execute_result",
          "data": {
            "text/plain": [
              "0"
            ]
          },
          "metadata": {},
          "execution_count": 156
        }
      ],
      "source": [
        "df_sel.isnull().sum().sum()"
      ]
    },
    {
      "cell_type": "markdown",
      "metadata": {
        "id": "cDDKzjpQZeQX"
      },
      "source": [
        "**Corelation Matrix**"
      ]
    },
    {
      "cell_type": "code",
      "execution_count": null,
      "metadata": {
        "colab": {
          "base_uri": "https://localhost:8080/",
          "height": 301
        },
        "id": "uyktEpHIYB6R",
        "outputId": "311848e3-49e0-4134-c9af-97984e6bd02e"
      },
      "outputs": [
        {
          "output_type": "execute_result",
          "data": {
            "text/plain": [
              "           installs        price       rating  rating_count          size\n",
              "count  3.593000e+03  3593.000000  3593.000000  3.593000e+03  3.593000e+03\n",
              "mean   1.326698e+05     0.111336     2.144285  1.701534e+03  1.930787e+07\n",
              "std    2.447519e+06     1.949123     2.099080  2.943854e+04  2.393086e+07\n",
              "min    0.000000e+00     0.000000     0.000000  0.000000e+00  1.843200e+04\n",
              "25%    5.000000e+01     0.000000     0.000000  0.000000e+00  5.138022e+06\n",
              "50%    5.000000e+02     0.000000     2.600000  6.000000e+00  1.048576e+07\n",
              "75%    5.000000e+03     0.000000     4.300000  4.100000e+01  2.516582e+07\n",
              "max    1.000000e+08    99.990000     5.000000  1.264773e+06  5.567939e+08"
            ],
            "text/html": [
              "\n",
              "  <div id=\"df-feb6ad54-e3c2-46de-b17d-b07b1eb0ea99\" class=\"colab-df-container\">\n",
              "    <div>\n",
              "<style scoped>\n",
              "    .dataframe tbody tr th:only-of-type {\n",
              "        vertical-align: middle;\n",
              "    }\n",
              "\n",
              "    .dataframe tbody tr th {\n",
              "        vertical-align: top;\n",
              "    }\n",
              "\n",
              "    .dataframe thead th {\n",
              "        text-align: right;\n",
              "    }\n",
              "</style>\n",
              "<table border=\"1\" class=\"dataframe\">\n",
              "  <thead>\n",
              "    <tr style=\"text-align: right;\">\n",
              "      <th></th>\n",
              "      <th>installs</th>\n",
              "      <th>price</th>\n",
              "      <th>rating</th>\n",
              "      <th>rating_count</th>\n",
              "      <th>size</th>\n",
              "    </tr>\n",
              "  </thead>\n",
              "  <tbody>\n",
              "    <tr>\n",
              "      <th>count</th>\n",
              "      <td>3.593000e+03</td>\n",
              "      <td>3593.000000</td>\n",
              "      <td>3593.000000</td>\n",
              "      <td>3.593000e+03</td>\n",
              "      <td>3.593000e+03</td>\n",
              "    </tr>\n",
              "    <tr>\n",
              "      <th>mean</th>\n",
              "      <td>1.326698e+05</td>\n",
              "      <td>0.111336</td>\n",
              "      <td>2.144285</td>\n",
              "      <td>1.701534e+03</td>\n",
              "      <td>1.930787e+07</td>\n",
              "    </tr>\n",
              "    <tr>\n",
              "      <th>std</th>\n",
              "      <td>2.447519e+06</td>\n",
              "      <td>1.949123</td>\n",
              "      <td>2.099080</td>\n",
              "      <td>2.943854e+04</td>\n",
              "      <td>2.393086e+07</td>\n",
              "    </tr>\n",
              "    <tr>\n",
              "      <th>min</th>\n",
              "      <td>0.000000e+00</td>\n",
              "      <td>0.000000</td>\n",
              "      <td>0.000000</td>\n",
              "      <td>0.000000e+00</td>\n",
              "      <td>1.843200e+04</td>\n",
              "    </tr>\n",
              "    <tr>\n",
              "      <th>25%</th>\n",
              "      <td>5.000000e+01</td>\n",
              "      <td>0.000000</td>\n",
              "      <td>0.000000</td>\n",
              "      <td>0.000000e+00</td>\n",
              "      <td>5.138022e+06</td>\n",
              "    </tr>\n",
              "    <tr>\n",
              "      <th>50%</th>\n",
              "      <td>5.000000e+02</td>\n",
              "      <td>0.000000</td>\n",
              "      <td>2.600000</td>\n",
              "      <td>6.000000e+00</td>\n",
              "      <td>1.048576e+07</td>\n",
              "    </tr>\n",
              "    <tr>\n",
              "      <th>75%</th>\n",
              "      <td>5.000000e+03</td>\n",
              "      <td>0.000000</td>\n",
              "      <td>4.300000</td>\n",
              "      <td>4.100000e+01</td>\n",
              "      <td>2.516582e+07</td>\n",
              "    </tr>\n",
              "    <tr>\n",
              "      <th>max</th>\n",
              "      <td>1.000000e+08</td>\n",
              "      <td>99.990000</td>\n",
              "      <td>5.000000</td>\n",
              "      <td>1.264773e+06</td>\n",
              "      <td>5.567939e+08</td>\n",
              "    </tr>\n",
              "  </tbody>\n",
              "</table>\n",
              "</div>\n",
              "    <div class=\"colab-df-buttons\">\n",
              "\n",
              "  <div class=\"colab-df-container\">\n",
              "    <button class=\"colab-df-convert\" onclick=\"convertToInteractive('df-feb6ad54-e3c2-46de-b17d-b07b1eb0ea99')\"\n",
              "            title=\"Convert this dataframe to an interactive table.\"\n",
              "            style=\"display:none;\">\n",
              "\n",
              "  <svg xmlns=\"http://www.w3.org/2000/svg\" height=\"24px\" viewBox=\"0 -960 960 960\">\n",
              "    <path d=\"M120-120v-720h720v720H120Zm60-500h600v-160H180v160Zm220 220h160v-160H400v160Zm0 220h160v-160H400v160ZM180-400h160v-160H180v160Zm440 0h160v-160H620v160ZM180-180h160v-160H180v160Zm440 0h160v-160H620v160Z\"/>\n",
              "  </svg>\n",
              "    </button>\n",
              "\n",
              "  <style>\n",
              "    .colab-df-container {\n",
              "      display:flex;\n",
              "      gap: 12px;\n",
              "    }\n",
              "\n",
              "    .colab-df-convert {\n",
              "      background-color: #E8F0FE;\n",
              "      border: none;\n",
              "      border-radius: 50%;\n",
              "      cursor: pointer;\n",
              "      display: none;\n",
              "      fill: #1967D2;\n",
              "      height: 32px;\n",
              "      padding: 0 0 0 0;\n",
              "      width: 32px;\n",
              "    }\n",
              "\n",
              "    .colab-df-convert:hover {\n",
              "      background-color: #E2EBFA;\n",
              "      box-shadow: 0px 1px 2px rgba(60, 64, 67, 0.3), 0px 1px 3px 1px rgba(60, 64, 67, 0.15);\n",
              "      fill: #174EA6;\n",
              "    }\n",
              "\n",
              "    .colab-df-buttons div {\n",
              "      margin-bottom: 4px;\n",
              "    }\n",
              "\n",
              "    [theme=dark] .colab-df-convert {\n",
              "      background-color: #3B4455;\n",
              "      fill: #D2E3FC;\n",
              "    }\n",
              "\n",
              "    [theme=dark] .colab-df-convert:hover {\n",
              "      background-color: #434B5C;\n",
              "      box-shadow: 0px 1px 3px 1px rgba(0, 0, 0, 0.15);\n",
              "      filter: drop-shadow(0px 1px 2px rgba(0, 0, 0, 0.3));\n",
              "      fill: #FFFFFF;\n",
              "    }\n",
              "  </style>\n",
              "\n",
              "    <script>\n",
              "      const buttonEl =\n",
              "        document.querySelector('#df-feb6ad54-e3c2-46de-b17d-b07b1eb0ea99 button.colab-df-convert');\n",
              "      buttonEl.style.display =\n",
              "        google.colab.kernel.accessAllowed ? 'block' : 'none';\n",
              "\n",
              "      async function convertToInteractive(key) {\n",
              "        const element = document.querySelector('#df-feb6ad54-e3c2-46de-b17d-b07b1eb0ea99');\n",
              "        const dataTable =\n",
              "          await google.colab.kernel.invokeFunction('convertToInteractive',\n",
              "                                                    [key], {});\n",
              "        if (!dataTable) return;\n",
              "\n",
              "        const docLinkHtml = 'Like what you see? Visit the ' +\n",
              "          '<a target=\"_blank\" href=https://colab.research.google.com/notebooks/data_table.ipynb>data table notebook</a>'\n",
              "          + ' to learn more about interactive tables.';\n",
              "        element.innerHTML = '';\n",
              "        dataTable['output_type'] = 'display_data';\n",
              "        await google.colab.output.renderOutput(dataTable, element);\n",
              "        const docLink = document.createElement('div');\n",
              "        docLink.innerHTML = docLinkHtml;\n",
              "        element.appendChild(docLink);\n",
              "      }\n",
              "    </script>\n",
              "  </div>\n",
              "\n",
              "\n",
              "<div id=\"df-ed4c53fe-c4e2-4333-85e7-df0f2f5c2a90\">\n",
              "  <button class=\"colab-df-quickchart\" onclick=\"quickchart('df-ed4c53fe-c4e2-4333-85e7-df0f2f5c2a90')\"\n",
              "            title=\"Suggest charts\"\n",
              "            style=\"display:none;\">\n",
              "\n",
              "<svg xmlns=\"http://www.w3.org/2000/svg\" height=\"24px\"viewBox=\"0 0 24 24\"\n",
              "     width=\"24px\">\n",
              "    <g>\n",
              "        <path d=\"M19 3H5c-1.1 0-2 .9-2 2v14c0 1.1.9 2 2 2h14c1.1 0 2-.9 2-2V5c0-1.1-.9-2-2-2zM9 17H7v-7h2v7zm4 0h-2V7h2v10zm4 0h-2v-4h2v4z\"/>\n",
              "    </g>\n",
              "</svg>\n",
              "  </button>\n",
              "\n",
              "<style>\n",
              "  .colab-df-quickchart {\n",
              "      --bg-color: #E8F0FE;\n",
              "      --fill-color: #1967D2;\n",
              "      --hover-bg-color: #E2EBFA;\n",
              "      --hover-fill-color: #174EA6;\n",
              "      --disabled-fill-color: #AAA;\n",
              "      --disabled-bg-color: #DDD;\n",
              "  }\n",
              "\n",
              "  [theme=dark] .colab-df-quickchart {\n",
              "      --bg-color: #3B4455;\n",
              "      --fill-color: #D2E3FC;\n",
              "      --hover-bg-color: #434B5C;\n",
              "      --hover-fill-color: #FFFFFF;\n",
              "      --disabled-bg-color: #3B4455;\n",
              "      --disabled-fill-color: #666;\n",
              "  }\n",
              "\n",
              "  .colab-df-quickchart {\n",
              "    background-color: var(--bg-color);\n",
              "    border: none;\n",
              "    border-radius: 50%;\n",
              "    cursor: pointer;\n",
              "    display: none;\n",
              "    fill: var(--fill-color);\n",
              "    height: 32px;\n",
              "    padding: 0;\n",
              "    width: 32px;\n",
              "  }\n",
              "\n",
              "  .colab-df-quickchart:hover {\n",
              "    background-color: var(--hover-bg-color);\n",
              "    box-shadow: 0 1px 2px rgba(60, 64, 67, 0.3), 0 1px 3px 1px rgba(60, 64, 67, 0.15);\n",
              "    fill: var(--button-hover-fill-color);\n",
              "  }\n",
              "\n",
              "  .colab-df-quickchart-complete:disabled,\n",
              "  .colab-df-quickchart-complete:disabled:hover {\n",
              "    background-color: var(--disabled-bg-color);\n",
              "    fill: var(--disabled-fill-color);\n",
              "    box-shadow: none;\n",
              "  }\n",
              "\n",
              "  .colab-df-spinner {\n",
              "    border: 2px solid var(--fill-color);\n",
              "    border-color: transparent;\n",
              "    border-bottom-color: var(--fill-color);\n",
              "    animation:\n",
              "      spin 1s steps(1) infinite;\n",
              "  }\n",
              "\n",
              "  @keyframes spin {\n",
              "    0% {\n",
              "      border-color: transparent;\n",
              "      border-bottom-color: var(--fill-color);\n",
              "      border-left-color: var(--fill-color);\n",
              "    }\n",
              "    20% {\n",
              "      border-color: transparent;\n",
              "      border-left-color: var(--fill-color);\n",
              "      border-top-color: var(--fill-color);\n",
              "    }\n",
              "    30% {\n",
              "      border-color: transparent;\n",
              "      border-left-color: var(--fill-color);\n",
              "      border-top-color: var(--fill-color);\n",
              "      border-right-color: var(--fill-color);\n",
              "    }\n",
              "    40% {\n",
              "      border-color: transparent;\n",
              "      border-right-color: var(--fill-color);\n",
              "      border-top-color: var(--fill-color);\n",
              "    }\n",
              "    60% {\n",
              "      border-color: transparent;\n",
              "      border-right-color: var(--fill-color);\n",
              "    }\n",
              "    80% {\n",
              "      border-color: transparent;\n",
              "      border-right-color: var(--fill-color);\n",
              "      border-bottom-color: var(--fill-color);\n",
              "    }\n",
              "    90% {\n",
              "      border-color: transparent;\n",
              "      border-bottom-color: var(--fill-color);\n",
              "    }\n",
              "  }\n",
              "</style>\n",
              "\n",
              "  <script>\n",
              "    async function quickchart(key) {\n",
              "      const quickchartButtonEl =\n",
              "        document.querySelector('#' + key + ' button');\n",
              "      quickchartButtonEl.disabled = true;  // To prevent multiple clicks.\n",
              "      quickchartButtonEl.classList.add('colab-df-spinner');\n",
              "      try {\n",
              "        const charts = await google.colab.kernel.invokeFunction(\n",
              "            'suggestCharts', [key], {});\n",
              "      } catch (error) {\n",
              "        console.error('Error during call to suggestCharts:', error);\n",
              "      }\n",
              "      quickchartButtonEl.classList.remove('colab-df-spinner');\n",
              "      quickchartButtonEl.classList.add('colab-df-quickchart-complete');\n",
              "    }\n",
              "    (() => {\n",
              "      let quickchartButtonEl =\n",
              "        document.querySelector('#df-ed4c53fe-c4e2-4333-85e7-df0f2f5c2a90 button');\n",
              "      quickchartButtonEl.style.display =\n",
              "        google.colab.kernel.accessAllowed ? 'block' : 'none';\n",
              "    })();\n",
              "  </script>\n",
              "</div>\n",
              "\n",
              "    </div>\n",
              "  </div>\n"
            ]
          },
          "metadata": {},
          "execution_count": 157
        }
      ],
      "source": [
        "df_sel.describe()"
      ]
    },
    {
      "cell_type": "code",
      "execution_count": null,
      "metadata": {
        "colab": {
          "base_uri": "https://localhost:8080/",
          "height": 545
        },
        "id": "0vFbRRPUYRSZ",
        "outputId": "3e560612-568b-4d0c-ccc7-2a4fc084b2f9"
      },
      "outputs": [
        {
          "output_type": "execute_result",
          "data": {
            "text/plain": [
              "<Axes: >"
            ]
          },
          "metadata": {},
          "execution_count": 158
        },
        {
          "output_type": "display_data",
          "data": {
            "text/plain": [
              "<Figure size 1200x600 with 2 Axes>"
            ],
            "image/png": "[encoded data removed]"
          },
          "metadata": {}
        }
      ],
      "source": [
        "plt.figure(figsize=(12,6))\n",
        "num_col=['rating','installs','price','size','rating_count']\n",
        "sns.heatmap(df_sel[num_col].corr(), annot=True)"
      ]
    },
    {
      "cell_type": "markdown",
      "metadata": {
        "id": "EfxYTocqatIq"
      },
      "source": [
        "**Only good correlation is of Installs Vs Rating, that makes sense as well.\n",
        "Correlation matrix in pandas**\n"
      ]
    },
    {
      "cell_type": "code",
      "execution_count": null,
      "metadata": {
        "colab": {
          "base_uri": "https://localhost:8080/",
          "height": 206
        },
        "id": "-gAJJU6eaJtI",
        "outputId": "27fd1d5f-5773-4b11-9cf0-91d6d76977cc"
      },
      "outputs": [
        {
          "output_type": "execute_result",
          "data": {
            "text/plain": [
              "                rating  installs     price      size  rating_count\n",
              "rating        1.000000  0.053692  0.008782  0.066390      0.058522\n",
              "installs      0.053692  1.000000 -0.002777  0.021388      0.928010\n",
              "price         0.008782 -0.002777  1.000000  0.084965     -0.000633\n",
              "size          0.066390  0.021388  0.084965  1.000000      0.030315\n",
              "rating_count  0.058522  0.928010 -0.000633  0.030315      1.000000"
            ],
            "text/html": [
              "\n",
              "  <div id=\"df-36ab05ec-b4f1-43eb-80a7-b6ca5c363a3b\" class=\"colab-df-container\">\n",
              "    <div>\n",
              "<style scoped>\n",
              "    .dataframe tbody tr th:only-of-type {\n",
              "        vertical-align: middle;\n",
              "    }\n",
              "\n",
              "    .dataframe tbody tr th {\n",
              "        vertical-align: top;\n",
              "    }\n",
              "\n",
              "    .dataframe thead th {\n",
              "        text-align: right;\n",
              "    }\n",
              "</style>\n",
              "<table border=\"1\" class=\"dataframe\">\n",
              "  <thead>\n",
              "    <tr style=\"text-align: right;\">\n",
              "      <th></th>\n",
              "      <th>rating</th>\n",
              "      <th>installs</th>\n",
              "      <th>price</th>\n",
              "      <th>size</th>\n",
              "      <th>rating_count</th>\n",
              "    </tr>\n",
              "  </thead>\n",
              "  <tbody>\n",
              "    <tr>\n",
              "      <th>rating</th>\n",
              "      <td>1.000000</td>\n",
              "      <td>0.053692</td>\n",
              "      <td>0.008782</td>\n",
              "      <td>0.066390</td>\n",
              "      <td>0.058522</td>\n",
              "    </tr>\n",
              "    <tr>\n",
              "      <th>installs</th>\n",
              "      <td>0.053692</td>\n",
              "      <td>1.000000</td>\n",
              "      <td>-0.002777</td>\n",
              "      <td>0.021388</td>\n",
              "      <td>0.928010</td>\n",
              "    </tr>\n",
              "    <tr>\n",
              "      <th>price</th>\n",
              "      <td>0.008782</td>\n",
              "      <td>-0.002777</td>\n",
              "      <td>1.000000</td>\n",
              "      <td>0.084965</td>\n",
              "      <td>-0.000633</td>\n",
              "    </tr>\n",
              "    <tr>\n",
              "      <th>size</th>\n",
              "      <td>0.066390</td>\n",
              "      <td>0.021388</td>\n",
              "      <td>0.084965</td>\n",
              "      <td>1.000000</td>\n",
              "      <td>0.030315</td>\n",
              "    </tr>\n",
              "    <tr>\n",
              "      <th>rating_count</th>\n",
              "      <td>0.058522</td>\n",
              "      <td>0.928010</td>\n",
              "      <td>-0.000633</td>\n",
              "      <td>0.030315</td>\n",
              "      <td>1.000000</td>\n",
              "    </tr>\n",
              "  </tbody>\n",
              "</table>\n",
              "</div>\n",
              "    <div class=\"colab-df-buttons\">\n",
              "\n",
              "  <div class=\"colab-df-container\">\n",
              "    <button class=\"colab-df-convert\" onclick=\"convertToInteractive('df-36ab05ec-b4f1-43eb-80a7-b6ca5c363a3b')\"\n",
              "            title=\"Convert this dataframe to an interactive table.\"\n",
              "            style=\"display:none;\">\n",
              "\n",
              "  <svg xmlns=\"http://www.w3.org/2000/svg\" height=\"24px\" viewBox=\"0 -960 960 960\">\n",
              "    <path d=\"M120-120v-720h720v720H120Zm60-500h600v-160H180v160Zm220 220h160v-160H400v160Zm0 220h160v-160H400v160ZM180-400h160v-160H180v160Zm440 0h160v-160H620v160ZM180-180h160v-160H180v160Zm440 0h160v-160H620v160Z\"/>\n",
              "  </svg>\n",
              "    </button>\n",
              "\n",
              "  <style>\n",
              "    .colab-df-container {\n",
              "      display:flex;\n",
              "      gap: 12px;\n",
              "    }\n",
              "\n",
              "    .colab-df-convert {\n",
              "      background-color: #E8F0FE;\n",
              "      border: none;\n",
              "      border-radius: 50%;\n",
              "      cursor: pointer;\n",
              "      display: none;\n",
              "      fill: #1967D2;\n",
              "      height: 32px;\n",
              "      padding: 0 0 0 0;\n",
              "      width: 32px;\n",
              "    }\n",
              "\n",
              "    .colab-df-convert:hover {\n",
              "      background-color: #E2EBFA;\n",
              "      box-shadow: 0px 1px 2px rgba(60, 64, 67, 0.3), 0px 1px 3px 1px rgba(60, 64, 67, 0.15);\n",
              "      fill: #174EA6;\n",
              "    }\n",
              "\n",
              "    .colab-df-buttons div {\n",
              "      margin-bottom: 4px;\n",
              "    }\n",
              "\n",
              "    [theme=dark] .colab-df-convert {\n",
              "      background-color: #3B4455;\n",
              "      fill: #D2E3FC;\n",
              "    }\n",
              "\n",
              "    [theme=dark] .colab-df-convert:hover {\n",
              "      background-color: #434B5C;\n",
              "      box-shadow: 0px 1px 3px 1px rgba(0, 0, 0, 0.15);\n",
              "      filter: drop-shadow(0px 1px 2px rgba(0, 0, 0, 0.3));\n",
              "      fill: #FFFFFF;\n",
              "    }\n",
              "  </style>\n",
              "\n",
              "    <script>\n",
              "      const buttonEl =\n",
              "        document.querySelector('#df-36ab05ec-b4f1-43eb-80a7-b6ca5c363a3b button.colab-df-convert');\n",
              "      buttonEl.style.display =\n",
              "        google.colab.kernel.accessAllowed ? 'block' : 'none';\n",
              "\n",
              "      async function convertToInteractive(key) {\n",
              "        const element = document.querySelector('#df-36ab05ec-b4f1-43eb-80a7-b6ca5c363a3b');\n",
              "        const dataTable =\n",
              "          await google.colab.kernel.invokeFunction('convertToInteractive',\n",
              "                                                    [key], {});\n",
              "        if (!dataTable) return;\n",
              "\n",
              "        const docLinkHtml = 'Like what you see? Visit the ' +\n",
              "          '<a target=\"_blank\" href=https://colab.research.google.com/notebooks/data_table.ipynb>data table notebook</a>'\n",
              "          + ' to learn more about interactive tables.';\n",
              "        element.innerHTML = '';\n",
              "        dataTable['output_type'] = 'display_data';\n",
              "        await google.colab.output.renderOutput(dataTable, element);\n",
              "        const docLink = document.createElement('div');\n",
              "        docLink.innerHTML = docLinkHtml;\n",
              "        element.appendChild(docLink);\n",
              "      }\n",
              "    </script>\n",
              "  </div>\n",
              "\n",
              "\n",
              "<div id=\"df-452592f6-fe8e-4814-b1a2-3854667c5ac7\">\n",
              "  <button class=\"colab-df-quickchart\" onclick=\"quickchart('df-452592f6-fe8e-4814-b1a2-3854667c5ac7')\"\n",
              "            title=\"Suggest charts\"\n",
              "            style=\"display:none;\">\n",
              "\n",
              "<svg xmlns=\"http://www.w3.org/2000/svg\" height=\"24px\"viewBox=\"0 0 24 24\"\n",
              "     width=\"24px\">\n",
              "    <g>\n",
              "        <path d=\"M19 3H5c-1.1 0-2 .9-2 2v14c0 1.1.9 2 2 2h14c1.1 0 2-.9 2-2V5c0-1.1-.9-2-2-2zM9 17H7v-7h2v7zm4 0h-2V7h2v10zm4 0h-2v-4h2v4z\"/>\n",
              "    </g>\n",
              "</svg>\n",
              "  </button>\n",
              "\n",
              "<style>\n",
              "  .colab-df-quickchart {\n",
              "      --bg-color: #E8F0FE;\n",
              "      --fill-color: #1967D2;\n",
              "      --hover-bg-color: #E2EBFA;\n",
              "      --hover-fill-color: #174EA6;\n",
              "      --disabled-fill-color: #AAA;\n",
              "      --disabled-bg-color: #DDD;\n",
              "  }\n",
              "\n",
              "  [theme=dark] .colab-df-quickchart {\n",
              "      --bg-color: #3B4455;\n",
              "      --fill-color: #D2E3FC;\n",
              "      --hover-bg-color: #434B5C;\n",
              "      --hover-fill-color: #FFFFFF;\n",
              "      --disabled-bg-color: #3B4455;\n",
              "      --disabled-fill-color: #666;\n",
              "  }\n",
              "\n",
              "  .colab-df-quickchart {\n",
              "    background-color: var(--bg-color);\n",
              "    border: none;\n",
              "    border-radius: 50%;\n",
              "    cursor: pointer;\n",
              "    display: none;\n",
              "    fill: var(--fill-color);\n",
              "    height: 32px;\n",
              "    padding: 0;\n",
              "    width: 32px;\n",
              "  }\n",
              "\n",
              "  .colab-df-quickchart:hover {\n",
              "    background-color: var(--hover-bg-color);\n",
              "    box-shadow: 0 1px 2px rgba(60, 64, 67, 0.3), 0 1px 3px 1px rgba(60, 64, 67, 0.15);\n",
              "    fill: var(--button-hover-fill-color);\n",
              "  }\n",
              "\n",
              "  .colab-df-quickchart-complete:disabled,\n",
              "  .colab-df-quickchart-complete:disabled:hover {\n",
              "    background-color: var(--disabled-bg-color);\n",
              "    fill: var(--disabled-fill-color);\n",
              "    box-shadow: none;\n",
              "  }\n",
              "\n",
              "  .colab-df-spinner {\n",
              "    border: 2px solid var(--fill-color);\n",
              "    border-color: transparent;\n",
              "    border-bottom-color: var(--fill-color);\n",
              "    animation:\n",
              "      spin 1s steps(1) infinite;\n",
              "  }\n",
              "\n",
              "  @keyframes spin {\n",
              "    0% {\n",
              "      border-color: transparent;\n",
              "      border-bottom-color: var(--fill-color);\n",
              "      border-left-color: var(--fill-color);\n",
              "    }\n",
              "    20% {\n",
              "      border-color: transparent;\n",
              "      border-left-color: var(--fill-color);\n",
              "      border-top-color: var(--fill-color);\n",
              "    }\n",
              "    30% {\n",
              "      border-color: transparent;\n",
              "      border-left-color: var(--fill-color);\n",
              "      border-top-color: var(--fill-color);\n",
              "      border-right-color: var(--fill-color);\n",
              "    }\n",
              "    40% {\n",
              "      border-color: transparent;\n",
              "      border-right-color: var(--fill-color);\n",
              "      border-top-color: var(--fill-color);\n",
              "    }\n",
              "    60% {\n",
              "      border-color: transparent;\n",
              "      border-right-color: var(--fill-color);\n",
              "    }\n",
              "    80% {\n",
              "      border-color: transparent;\n",
              "      border-right-color: var(--fill-color);\n",
              "      border-bottom-color: var(--fill-color);\n",
              "    }\n",
              "    90% {\n",
              "      border-color: transparent;\n",
              "      border-bottom-color: var(--fill-color);\n",
              "    }\n",
              "  }\n",
              "</style>\n",
              "\n",
              "  <script>\n",
              "    async function quickchart(key) {\n",
              "      const quickchartButtonEl =\n",
              "        document.querySelector('#' + key + ' button');\n",
              "      quickchartButtonEl.disabled = true;  // To prevent multiple clicks.\n",
              "      quickchartButtonEl.classList.add('colab-df-spinner');\n",
              "      try {\n",
              "        const charts = await google.colab.kernel.invokeFunction(\n",
              "            'suggestCharts', [key], {});\n",
              "      } catch (error) {\n",
              "        console.error('Error during call to suggestCharts:', error);\n",
              "      }\n",
              "      quickchartButtonEl.classList.remove('colab-df-spinner');\n",
              "      quickchartButtonEl.classList.add('colab-df-quickchart-complete');\n",
              "    }\n",
              "    (() => {\n",
              "      let quickchartButtonEl =\n",
              "        document.querySelector('#df-452592f6-fe8e-4814-b1a2-3854667c5ac7 button');\n",
              "      quickchartButtonEl.style.display =\n",
              "        google.colab.kernel.accessAllowed ? 'block' : 'none';\n",
              "    })();\n",
              "  </script>\n",
              "</div>\n",
              "\n",
              "    </div>\n",
              "  </div>\n"
            ]
          },
          "metadata": {},
          "execution_count": 159
        }
      ],
      "source": [
        "df_sel[num_col].corr()"
      ]
    },
    {
      "cell_type": "markdown",
      "metadata": {
        "id": "uBi63QtHd-z6"
      },
      "source": [
        "Pearsons R shows strength in linear relationship."
      ]
    },
    {
      "cell_type": "code",
      "execution_count": null,
      "metadata": {
        "colab": {
          "base_uri": "https://localhost:8080/"
        },
        "id": "xnZnSRLPa3dL",
        "outputId": "572ee9ed-f938-489c-b3de-f0dfc5c04838"
      },
      "outputs": [
        {
          "output_type": "stream",
          "name": "stdout",
          "text": [
            " The Pearson's R value is 0.928010\n"
          ]
        }
      ],
      "source": [
        "df_clean=df_sel.dropna()\n",
        "#,_ is used to ignore the 2nd value, which in this case is p value\n",
        "pearson_r,_=stats.pearsonr(df_clean['rating_count'], df_clean['installs'])\n",
        "print(f\" The Pearson's R value is {pearson_r:3f}\")"
      ]
    },
    {
      "cell_type": "markdown",
      "metadata": {
        "id": "rg3103QYidNL"
      },
      "source": [
        "Groupby"
      ]
    },
    {
      "cell_type": "code",
      "execution_count": null,
      "metadata": {
        "colab": {
          "base_uri": "https://localhost:8080/",
          "height": 332
        },
        "id": "XzXg8lrxbrhd",
        "outputId": "16b39c64-4599-4a00-f694-0b663eff2515"
      },
      "outputs": [
        {
          "output_type": "execute_result",
          "data": {
            "text/plain": [
              "                    count      mean       std  min  25%  50%  75%  max\n",
              "installs_bin                                                          \n",
              "Negligible          716.0  0.204715  0.915887  0.0  0.0  0.0  0.0  5.0\n",
              "Very Low <100       980.0  1.092652  1.963331  0.0  0.0  0.0  0.0  5.0\n",
              "Low <1000           914.0  2.975005  1.945778  0.0  0.0  3.9  4.5  5.0\n",
              "Below Average <10k  589.0  3.767213  0.976118  0.0  3.5  4.0  4.4  5.0\n",
              "Moderate <100k      285.0  3.871930  0.825636  0.0  3.5  4.1  4.4  4.9\n",
              "High <1M             82.0  4.065854  0.475633  2.2  3.8  4.1  4.4  4.8\n",
              "Very High <10M       25.0  4.132000  0.327516  3.1  3.9  4.2  4.4  4.6\n",
              "Amazing <100M         2.0  4.400000  0.282843  4.2  4.3  4.4  4.5  4.6"
            ],
            "text/html": [
              "\n",
              "  <div id=\"df-a56ab0f4-bb95-479e-b123-c87111d1295f\" class=\"colab-df-container\">\n",
              "    <div>\n",
              "<style scoped>\n",
              "    .dataframe tbody tr th:only-of-type {\n",
              "        vertical-align: middle;\n",
              "    }\n",
              "\n",
              "    .dataframe tbody tr th {\n",
              "        vertical-align: top;\n",
              "    }\n",
              "\n",
              "    .dataframe thead th {\n",
              "        text-align: right;\n",
              "    }\n",
              "</style>\n",
              "<table border=\"1\" class=\"dataframe\">\n",
              "  <thead>\n",
              "    <tr style=\"text-align: right;\">\n",
              "      <th></th>\n",
              "      <th>count</th>\n",
              "      <th>mean</th>\n",
              "      <th>std</th>\n",
              "      <th>min</th>\n",
              "      <th>25%</th>\n",
              "      <th>50%</th>\n",
              "      <th>75%</th>\n",
              "      <th>max</th>\n",
              "    </tr>\n",
              "    <tr>\n",
              "      <th>installs_bin</th>\n",
              "      <th></th>\n",
              "      <th></th>\n",
              "      <th></th>\n",
              "      <th></th>\n",
              "      <th></th>\n",
              "      <th></th>\n",
              "      <th></th>\n",
              "      <th></th>\n",
              "    </tr>\n",
              "  </thead>\n",
              "  <tbody>\n",
              "    <tr>\n",
              "      <th>Negligible</th>\n",
              "      <td>716.0</td>\n",
              "      <td>0.204715</td>\n",
              "      <td>0.915887</td>\n",
              "      <td>0.0</td>\n",
              "      <td>0.0</td>\n",
              "      <td>0.0</td>\n",
              "      <td>0.0</td>\n",
              "      <td>5.0</td>\n",
              "    </tr>\n",
              "    <tr>\n",
              "      <th>Very Low &lt;100</th>\n",
              "      <td>980.0</td>\n",
              "      <td>1.092652</td>\n",
              "      <td>1.963331</td>\n",
              "      <td>0.0</td>\n",
              "      <td>0.0</td>\n",
              "      <td>0.0</td>\n",
              "      <td>0.0</td>\n",
              "      <td>5.0</td>\n",
              "    </tr>\n",
              "    <tr>\n",
              "      <th>Low &lt;1000</th>\n",
              "      <td>914.0</td>\n",
              "      <td>2.975005</td>\n",
              "      <td>1.945778</td>\n",
              "      <td>0.0</td>\n",
              "      <td>0.0</td>\n",
              "      <td>3.9</td>\n",
              "      <td>4.5</td>\n",
              "      <td>5.0</td>\n",
              "    </tr>\n",
              "    <tr>\n",
              "      <th>Below Average &lt;10k</th>\n",
              "      <td>589.0</td>\n",
              "      <td>3.767213</td>\n",
              "      <td>0.976118</td>\n",
              "      <td>0.0</td>\n",
              "      <td>3.5</td>\n",
              "      <td>4.0</td>\n",
              "      <td>4.4</td>\n",
              "      <td>5.0</td>\n",
              "    </tr>\n",
              "    <tr>\n",
              "      <th>Moderate &lt;100k</th>\n",
              "      <td>285.0</td>\n",
              "      <td>3.871930</td>\n",
              "      <td>0.825636</td>\n",
              "      <td>0.0</td>\n",
              "      <td>3.5</td>\n",
              "      <td>4.1</td>\n",
              "      <td>4.4</td>\n",
              "      <td>4.9</td>\n",
              "    </tr>\n",
              "    <tr>\n",
              "      <th>High &lt;1M</th>\n",
              "      <td>82.0</td>\n",
              "      <td>4.065854</td>\n",
              "      <td>0.475633</td>\n",
              "      <td>2.2</td>\n",
              "      <td>3.8</td>\n",
              "      <td>4.1</td>\n",
              "      <td>4.4</td>\n",
              "      <td>4.8</td>\n",
              "    </tr>\n",
              "    <tr>\n",
              "      <th>Very High &lt;10M</th>\n",
              "      <td>25.0</td>\n",
              "      <td>4.132000</td>\n",
              "      <td>0.327516</td>\n",
              "      <td>3.1</td>\n",
              "      <td>3.9</td>\n",
              "      <td>4.2</td>\n",
              "      <td>4.4</td>\n",
              "      <td>4.6</td>\n",
              "    </tr>\n",
              "    <tr>\n",
              "      <th>Amazing &lt;100M</th>\n",
              "      <td>2.0</td>\n",
              "      <td>4.400000</td>\n",
              "      <td>0.282843</td>\n",
              "      <td>4.2</td>\n",
              "      <td>4.3</td>\n",
              "      <td>4.4</td>\n",
              "      <td>4.5</td>\n",
              "      <td>4.6</td>\n",
              "    </tr>\n",
              "  </tbody>\n",
              "</table>\n",
              "</div>\n",
              "    <div class=\"colab-df-buttons\">\n",
              "\n",
              "  <div class=\"colab-df-container\">\n",
              "    <button class=\"colab-df-convert\" onclick=\"convertToInteractive('df-a56ab0f4-bb95-479e-b123-c87111d1295f')\"\n",
              "            title=\"Convert this dataframe to an interactive table.\"\n",
              "            style=\"display:none;\">\n",
              "\n",
              "  <svg xmlns=\"http://www.w3.org/2000/svg\" height=\"24px\" viewBox=\"0 -960 960 960\">\n",
              "    <path d=\"M120-120v-720h720v720H120Zm60-500h600v-160H180v160Zm220 220h160v-160H400v160Zm0 220h160v-160H400v160ZM180-400h160v-160H180v160Zm440 0h160v-160H620v160ZM180-180h160v-160H180v160Zm440 0h160v-160H620v160Z\"/>\n",
              "  </svg>\n",
              "    </button>\n",
              "\n",
              "  <style>\n",
              "    .colab-df-container {\n",
              "      display:flex;\n",
              "      gap: 12px;\n",
              "    }\n",
              "\n",
              "    .colab-df-convert {\n",
              "      background-color: #E8F0FE;\n",
              "      border: none;\n",
              "      border-radius: 50%;\n",
              "      cursor: pointer;\n",
              "      display: none;\n",
              "      fill: #1967D2;\n",
              "      height: 32px;\n",
              "      padding: 0 0 0 0;\n",
              "      width: 32px;\n",
              "    }\n",
              "\n",
              "    .colab-df-convert:hover {\n",
              "      background-color: #E2EBFA;\n",
              "      box-shadow: 0px 1px 2px rgba(60, 64, 67, 0.3), 0px 1px 3px 1px rgba(60, 64, 67, 0.15);\n",
              "      fill: #174EA6;\n",
              "    }\n",
              "\n",
              "    .colab-df-buttons div {\n",
              "      margin-bottom: 4px;\n",
              "    }\n",
              "\n",
              "    [theme=dark] .colab-df-convert {\n",
              "      background-color: #3B4455;\n",
              "      fill: #D2E3FC;\n",
              "    }\n",
              "\n",
              "    [theme=dark] .colab-df-convert:hover {\n",
              "      background-color: #434B5C;\n",
              "      box-shadow: 0px 1px 3px 1px rgba(0, 0, 0, 0.15);\n",
              "      filter: drop-shadow(0px 1px 2px rgba(0, 0, 0, 0.3));\n",
              "      fill: #FFFFFF;\n",
              "    }\n",
              "  </style>\n",
              "\n",
              "    <script>\n",
              "      const buttonEl =\n",
              "        document.querySelector('#df-a56ab0f4-bb95-479e-b123-c87111d1295f button.colab-df-convert');\n",
              "      buttonEl.style.display =\n",
              "        google.colab.kernel.accessAllowed ? 'block' : 'none';\n",
              "\n",
              "      async function convertToInteractive(key) {\n",
              "        const element = document.querySelector('#df-a56ab0f4-bb95-479e-b123-c87111d1295f');\n",
              "        const dataTable =\n",
              "          await google.colab.kernel.invokeFunction('convertToInteractive',\n",
              "                                                    [key], {});\n",
              "        if (!dataTable) return;\n",
              "\n",
              "        const docLinkHtml = 'Like what you see? Visit the ' +\n",
              "          '<a target=\"_blank\" href=https://colab.research.google.com/notebooks/data_table.ipynb>data table notebook</a>'\n",
              "          + ' to learn more about interactive tables.';\n",
              "        element.innerHTML = '';\n",
              "        dataTable['output_type'] = 'display_data';\n",
              "        await google.colab.output.renderOutput(dataTable, element);\n",
              "        const docLink = document.createElement('div');\n",
              "        docLink.innerHTML = docLinkHtml;\n",
              "        element.appendChild(docLink);\n",
              "      }\n",
              "    </script>\n",
              "  </div>\n",
              "\n",
              "\n",
              "<div id=\"df-63d78a82-ea9a-4c6a-b976-d9da8801787a\">\n",
              "  <button class=\"colab-df-quickchart\" onclick=\"quickchart('df-63d78a82-ea9a-4c6a-b976-d9da8801787a')\"\n",
              "            title=\"Suggest charts\"\n",
              "            style=\"display:none;\">\n",
              "\n",
              "<svg xmlns=\"http://www.w3.org/2000/svg\" height=\"24px\"viewBox=\"0 0 24 24\"\n",
              "     width=\"24px\">\n",
              "    <g>\n",
              "        <path d=\"M19 3H5c-1.1 0-2 .9-2 2v14c0 1.1.9 2 2 2h14c1.1 0 2-.9 2-2V5c0-1.1-.9-2-2-2zM9 17H7v-7h2v7zm4 0h-2V7h2v10zm4 0h-2v-4h2v4z\"/>\n",
              "    </g>\n",
              "</svg>\n",
              "  </button>\n",
              "\n",
              "<style>\n",
              "  .colab-df-quickchart {\n",
              "      --bg-color: #E8F0FE;\n",
              "      --fill-color: #1967D2;\n",
              "      --hover-bg-color: #E2EBFA;\n",
              "      --hover-fill-color: #174EA6;\n",
              "      --disabled-fill-color: #AAA;\n",
              "      --disabled-bg-color: #DDD;\n",
              "  }\n",
              "\n",
              "  [theme=dark] .colab-df-quickchart {\n",
              "      --bg-color: #3B4455;\n",
              "      --fill-color: #D2E3FC;\n",
              "      --hover-bg-color: #434B5C;\n",
              "      --hover-fill-color: #FFFFFF;\n",
              "      --disabled-bg-color: #3B4455;\n",
              "      --disabled-fill-color: #666;\n",
              "  }\n",
              "\n",
              "  .colab-df-quickchart {\n",
              "    background-color: var(--bg-color);\n",
              "    border: none;\n",
              "    border-radius: 50%;\n",
              "    cursor: pointer;\n",
              "    display: none;\n",
              "    fill: var(--fill-color);\n",
              "    height: 32px;\n",
              "    padding: 0;\n",
              "    width: 32px;\n",
              "  }\n",
              "\n",
              "  .colab-df-quickchart:hover {\n",
              "    background-color: var(--hover-bg-color);\n",
              "    box-shadow: 0 1px 2px rgba(60, 64, 67, 0.3), 0 1px 3px 1px rgba(60, 64, 67, 0.15);\n",
              "    fill: var(--button-hover-fill-color);\n",
              "  }\n",
              "\n",
              "  .colab-df-quickchart-complete:disabled,\n",
              "  .colab-df-quickchart-complete:disabled:hover {\n",
              "    background-color: var(--disabled-bg-color);\n",
              "    fill: var(--disabled-fill-color);\n",
              "    box-shadow: none;\n",
              "  }\n",
              "\n",
              "  .colab-df-spinner {\n",
              "    border: 2px solid var(--fill-color);\n",
              "    border-color: transparent;\n",
              "    border-bottom-color: var(--fill-color);\n",
              "    animation:\n",
              "      spin 1s steps(1) infinite;\n",
              "  }\n",
              "\n",
              "  @keyframes spin {\n",
              "    0% {\n",
              "      border-color: transparent;\n",
              "      border-bottom-color: var(--fill-color);\n",
              "      border-left-color: var(--fill-color);\n",
              "    }\n",
              "    20% {\n",
              "      border-color: transparent;\n",
              "      border-left-color: var(--fill-color);\n",
              "      border-top-color: var(--fill-color);\n",
              "    }\n",
              "    30% {\n",
              "      border-color: transparent;\n",
              "      border-left-color: var(--fill-color);\n",
              "      border-top-color: var(--fill-color);\n",
              "      border-right-color: var(--fill-color);\n",
              "    }\n",
              "    40% {\n",
              "      border-color: transparent;\n",
              "      border-right-color: var(--fill-color);\n",
              "      border-top-color: var(--fill-color);\n",
              "    }\n",
              "    60% {\n",
              "      border-color: transparent;\n",
              "      border-right-color: var(--fill-color);\n",
              "    }\n",
              "    80% {\n",
              "      border-color: transparent;\n",
              "      border-right-color: var(--fill-color);\n",
              "      border-bottom-color: var(--fill-color);\n",
              "    }\n",
              "    90% {\n",
              "      border-color: transparent;\n",
              "      border-bottom-color: var(--fill-color);\n",
              "    }\n",
              "  }\n",
              "</style>\n",
              "\n",
              "  <script>\n",
              "    async function quickchart(key) {\n",
              "      const quickchartButtonEl =\n",
              "        document.querySelector('#' + key + ' button');\n",
              "      quickchartButtonEl.disabled = true;  // To prevent multiple clicks.\n",
              "      quickchartButtonEl.classList.add('colab-df-spinner');\n",
              "      try {\n",
              "        const charts = await google.colab.kernel.invokeFunction(\n",
              "            'suggestCharts', [key], {});\n",
              "      } catch (error) {\n",
              "        console.error('Error during call to suggestCharts:', error);\n",
              "      }\n",
              "      quickchartButtonEl.classList.remove('colab-df-spinner');\n",
              "      quickchartButtonEl.classList.add('colab-df-quickchart-complete');\n",
              "    }\n",
              "    (() => {\n",
              "      let quickchartButtonEl =\n",
              "        document.querySelector('#df-63d78a82-ea9a-4c6a-b976-d9da8801787a button');\n",
              "      quickchartButtonEl.style.display =\n",
              "        google.colab.kernel.accessAllowed ? 'block' : 'none';\n",
              "    })();\n",
              "  </script>\n",
              "</div>\n",
              "\n",
              "    </div>\n",
              "  </div>\n"
            ]
          },
          "metadata": {},
          "execution_count": 161
        }
      ],
      "source": [
        "df_sel.groupby('installs_bin')['rating'].describe()"
      ]
    },
    {
      "cell_type": "code",
      "execution_count": null,
      "metadata": {
        "colab": {
          "base_uri": "https://localhost:8080/"
        },
        "id": "TtSvUmKYEFSy",
        "outputId": "525a480a-f32a-4968-e68f-e00d28adee2f"
      },
      "outputs": [
        {
          "output_type": "execute_result",
          "data": {
            "text/plain": [
              "Negligible            13\n",
              "Very Low <100          9\n",
              "Low <1000              8\n",
              "Below Average <10k     2\n",
              "Moderate <100k         0\n",
              "High <1M               0\n",
              "Very High <10M         0\n",
              "Amazing <100M          0\n",
              "Name: installs_bin, dtype: int64"
            ]
          },
          "metadata": {},
          "execution_count": 162
        }
      ],
      "source": [
        "df_sel['installs_bin'].loc[df['rating'].isnull()].value_counts()"
      ]
    },
    {
      "cell_type": "code",
      "execution_count": null,
      "metadata": {
        "colab": {
          "base_uri": "https://localhost:8080/",
          "height": 713
        },
        "id": "s-mExSdUFyaS",
        "outputId": "3d954732-fb21-49e2-fd07-9860373f0215"
      },
      "outputs": [
        {
          "output_type": "execute_result",
          "data": {
            "text/plain": [
              "Text(2, 3.5, 'Null Values=28')"
            ]
          },
          "metadata": {},
          "execution_count": 163
        },
        {
          "output_type": "display_data",
          "data": {
            "text/plain": [
              "<Figure size 1600x800 with 1 Axes>"
            ],
            "image/png": "[encoded data removed]"
          },
          "metadata": {}
        }
      ],
      "source": [
        "plt.figure(figsize=(16,8))\n",
        "sns.boxplot(x='installs_bin',y='rating',hue='installs_bin',data=df_sel)\n",
        "\n",
        "plt.text(0,3.5,'Null Values=84')\n",
        "plt.text(1,3.5,'Null Values=45')\n",
        "plt.text(2,3.5,'Null Values=28')"
      ]
    }
  ],
  "metadata": {
    "colab": {
      "collapsed_sections": [
        "8fhDNW3YPsPH",
        "oFo_CjPW8rAa",
        "gV5_ZWfzG9ht",
        "rUtbBRqb_Zfp",
        "qa-kbXZMVPRV",
        "Vy_N8KGTEBEZ",
        "J1zk-7DG-onY",
        "eQSv785X1GT1",
        "kdPN1J6-VkOp"
      ],
      "provenance": [],
      "include_colab_link": true
    },
    "kernelspec": {
      "display_name": "Python 3",
      "name": "python3"
    },
    "language_info": {
      "codemirror_mode": {
        "name": "ipython",
        "version": 3
      },
      "file_extension": ".py",
      "mimetype": "text/x-python",
      "name": "python",
      "nbconvert_exporter": "python",
      "pygments_lexer": "ipython3",
      "version": "3.11.5"
    }
  },
  "nbformat": 4,
  "nbformat_minor": 0
}