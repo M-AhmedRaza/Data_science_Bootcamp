{
 "cells": [
  {
   "cell_type": "code",
   "execution_count": 2,
   "metadata": {},
   "outputs": [],
   "source": [
    "import pandas as pd\n",
    "#import scikit.learn as sklearn"
   ]
  },
  {
   "cell_type": "code",
   "execution_count": 4,
   "metadata": {},
   "outputs": [
    {
     "name": "stdout",
     "output_type": "stream",
     "text": [
      "    color\n",
      "0     red\n",
      "1    blue\n",
      "2  yellow\n",
      "3   green\n",
      "   color_blue  color_green  color_red  color_yellow\n",
      "0       False        False       True         False\n",
      "1        True        False      False         False\n",
      "2       False        False      False          True\n",
      "3       False         True      False         False\n"
     ]
    }
   ],
   "source": [
    "# sample Data\n",
    "data={'color':['red','blue', 'yellow','green']}\n",
    "df=pd.DataFrame(data)\n",
    "print(df)\n",
    "#one Hot Encoding\n",
    "\n",
    "encoded_data=pd.get_dummies(df,columns=['color'])\n",
    "print(encoded_data)"
   ]
  },
  {
   "cell_type": "code",
   "execution_count": 5,
   "metadata": {},
   "outputs": [],
   "source": [
    "# Label Encoding\n"
   ]
  },
  {
   "cell_type": "code",
   "execution_count": 7,
   "metadata": {},
   "outputs": [
    {
     "name": "stdout",
     "output_type": "stream",
     "text": [
      "    color\n",
      "0     red\n",
      "1    blue\n",
      "2  yellow\n",
      "3   green\n",
      "4    blue\n",
      "5  yellow\n",
      "    color  Color_Encoded\n",
      "0     red              2\n",
      "1    blue              0\n",
      "2  yellow              3\n",
      "3   green              1\n",
      "4    blue              0\n",
      "5  yellow              3\n"
     ]
    }
   ],
   "source": [
    "from sklearn.preprocessing import LabelEncoder\n",
    "data={'color':['red','blue', 'yellow','green', 'blue', 'yellow']}\n",
    "df=pd.DataFrame(data)\n",
    "print(df)\n",
    "\n",
    "label_encoder=LabelEncoder()\n",
    "df['Color_Encoded']=label_encoder.fit_transform(df['color']\n",
    "                                            )\n",
    "print(df)"
   ]
  },
  {
   "cell_type": "code",
   "execution_count": 8,
   "metadata": {},
   "outputs": [],
   "source": [
    "# Ordinal Encoding"
   ]
  },
  {
   "cell_type": "code",
   "execution_count": 10,
   "metadata": {},
   "outputs": [
    {
     "name": "stdout",
     "output_type": "stream",
     "text": [
      "    color\n",
      "0     red\n",
      "1    blue\n",
      "2  yellow\n",
      "3   green\n",
      "4    blue\n",
      "5  yellow\n",
      "    color  color_encoded\n",
      "0     red            0.0\n",
      "1    blue            1.0\n",
      "2  yellow            2.0\n",
      "3   green            3.0\n",
      "4    blue            1.0\n",
      "5  yellow            2.0\n"
     ]
    }
   ],
   "source": [
    "from sklearn.preprocessing import OrdinalEncoder\n",
    "\n",
    "data={'color':['red','blue', 'yellow','green', 'blue', 'yellow']}\n",
    "df=pd.DataFrame(data)\n",
    "print(df)\n",
    "\n",
    "ordinal_encoder=OrdinalEncoder(categories=[['red','blue','yellow','green']])\n",
    "df['color_encoded']=ordinal_encoder.fit_transform(df[['color']]\n",
    "                                                  )\n",
    "print(df)"
   ]
  },
  {
   "cell_type": "code",
   "execution_count": null,
   "metadata": {},
   "outputs": [],
   "source": []
  }
 ],
 "metadata": {
  "kernelspec": {
   "display_name": "python_eda",
   "language": "python",
   "name": "python3"
  },
  "language_info": {
   "codemirror_mode": {
    "name": "ipython",
    "version": 3
   },
   "file_extension": ".py",
   "mimetype": "text/x-python",
   "name": "python",
   "nbconvert_exporter": "python",
   "pygments_lexer": "ipython3",
   "version": "3.11.0"
  }
 },
 "nbformat": 4,
 "nbformat_minor": 2
}
