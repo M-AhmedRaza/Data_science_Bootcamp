{
 "cells": [
  {
   "cell_type": "markdown",
   "metadata": {},
   "source": [
    "# Outliers\n",
    "outlier/deviant/abnormality/anomalous pointapparent observations\n",
    "\n",
    "Reasons:\n",
    "1. Data collection issue\n",
    "2. Typography\n",
    "3. Machine bug\n",
    "\n",
    "Why to identify outliers:\n",
    "1. ML model wont work correctly\n",
    "2. center skewness\n",
    "3. results vary\n",
    "\n",
    "Types:\n",
    "1. univariate\n",
    "2. multivariate\n",
    "3. global outlier\n",
    "4. point outlier\n",
    "5. local outlier\n",
    "6. contextual \n",
    "   \n"
   ]
  },
  {
   "cell_type": "code",
   "execution_count": null,
   "metadata": {},
   "outputs": [],
   "source": [
    "# import libraries\n",
    "import numpy as np\n",
    "import pandas as pd\n",
    "import matplotlib.pyplot as plt\n",
    "import seaborn as sns\n",
    "import scipy.stats as stats"
   ]
  },
  {
   "cell_type": "code",
   "execution_count": null,
   "metadata": {},
   "outputs": [],
   "source": [
    "# create data with outliers\n",
    "\n",
    "data=pd.DataFrame({'Age':[21,22,23,24,26,25,26,27,28,29,60]})\n",
    "data"
   ]
  },
  {
   "cell_type": "code",
   "execution_count": null,
   "metadata": {},
   "outputs": [],
   "source": [
    "# calaculate mean and standard deviation\n",
    "mean=data['Age'].mean()\n",
    "std=data['Age'].std()\n",
    "print(mean)\n",
    "print(std)"
   ]
  },
  {
   "cell_type": "code",
   "execution_count": null,
   "metadata": {},
   "outputs": [],
   "source": [
    "#calculate z-score\n",
    "z_score=(data['Age']-mean)/std\n",
    "z_score"
   ]
  },
  {
   "cell_type": "code",
   "execution_count": 18,
   "metadata": {},
   "outputs": [
    {
     "data": {
      "text/html": [
       "<div>\n",
       "<style scoped>\n",
       "    .dataframe tbody tr th:only-of-type {\n",
       "        vertical-align: middle;\n",
       "    }\n",
       "\n",
       "    .dataframe tbody tr th {\n",
       "        vertical-align: top;\n",
       "    }\n",
       "\n",
       "    .dataframe thead th {\n",
       "        text-align: right;\n",
       "    }\n",
       "</style>\n",
       "<table border=\"1\" class=\"dataframe\">\n",
       "  <thead>\n",
       "    <tr style=\"text-align: right;\">\n",
       "      <th></th>\n",
       "      <th>Age</th>\n",
       "    </tr>\n",
       "  </thead>\n",
       "  <tbody>\n",
       "    <tr>\n",
       "      <th>10</th>\n",
       "      <td>60</td>\n",
       "    </tr>\n",
       "  </tbody>\n",
       "</table>\n",
       "</div>"
      ],
      "text/plain": [
       "    Age\n",
       "10   60"
      ]
     },
     "execution_count": 18,
     "metadata": {},
     "output_type": "execute_result"
    }
   ],
   "source": [
    "# find outliers\n",
    "outliers = data[(z_score > 2.5) | (z_score < -3)]\n",
    "outliers"
   ]
  },
  {
   "cell_type": "code",
   "execution_count": null,
   "metadata": {},
   "outputs": [],
   "source": [
    "#INTEPRETION OF Z-SCORE and OUTLIERS\n",
    "print(\"Mean: \",mean)\n",
    "print(\"Standard Deviation: \",std)\n",
    "print(\"Z-Score: \",z_score)\n",
    "print(\"Outliers: \",outliers)\n",
    "print()"
   ]
  },
  {
   "cell_type": "markdown",
   "metadata": {},
   "source": [
    "# with scipy library"
   ]
  },
  {
   "cell_type": "code",
   "execution_count": null,
   "metadata": {},
   "outputs": [],
   "source": [
    "# create data\n",
    "data = pd.DataFrame({'Age': [21, 22, 23, 24, 26, 25, 26, 27, 28, 29, 60]})\n",
    "data"
   ]
  },
  {
   "cell_type": "code",
   "execution_count": null,
   "metadata": {},
   "outputs": [],
   "source": [
    "# calculate z-score \n",
    "z_score = stats.zscore(data['Age'])"
   ]
  },
  {
   "cell_type": "code",
   "execution_count": null,
   "metadata": {},
   "outputs": [],
   "source": [
    "# identify outliers\n",
    "outliers = data[(z_score > 2.5) | (z_score < -3)]\n",
    "outliers"
   ]
  },
  {
   "cell_type": "code",
   "execution_count": null,
   "metadata": {},
   "outputs": [],
   "source": [
    "# print the results\n",
    "#print the data\n",
    "print('Data:', data)\n",
    "print(\"---------\")\n",
    "print(\"Z-Score: \", z_score)\n",
    "print(\"---------\")\n",
    "print(\"---------\")"
   ]
  },
  {
   "cell_type": "code",
   "execution_count": null,
   "metadata": {},
   "outputs": [],
   "source": [
    "#print indices of outlier\n",
    "print(\"Indices of outliers: \", data[(z_score > 2.5) | (z_score < -3)].index)\n",
    "print(\"---------\")\n",
    "print(\"Outliers: \", outliers)\n",
    "print(\"---------\")\n",
    "#remove outlier\n",
    "data.drop(data[(z_score > 2.5) | (z_score < -3)].index, inplace=True)\n",
    "print(\"Data after removing outliers: \", data)"
   ]
  },
  {
   "cell_type": "markdown",
   "metadata": {},
   "source": [
    "# with IQR method\n"
   ]
  },
  {
   "cell_type": "code",
   "execution_count": null,
   "metadata": {},
   "outputs": [],
   "source": [
    "# create data\n",
    "data = pd.DataFrame({'Age': [21, 22, 23, 24, 26, 25, 26, 27, 28, 29, 60]})\n",
    "data\n",
    "\n"
   ]
  },
  {
   "cell_type": "code",
   "execution_count": null,
   "metadata": {},
   "outputs": [],
   "source": [
    "# calculate first and third quartile\n",
    "Q1 = data['Age'].quantile(0.25)\n",
    "Q3 = data['Age'].quantile(0.75)\n",
    "\n",
    "# calulating IQR\n",
    "IQR = Q3 - Q1\n",
    "\n",
    "#calutating lower and upper bound\n",
    "lower_bound = Q1 - 1.5 * IQR\n",
    "upper_bound = Q3 + 1.5 * IQR\n",
    "\n",
    "# identify outliers\n",
    "outliers = data[(data['Age'] < lower_bound) | (data['Age'] > upper_bound)]\n",
    "\n",
    "print(\"Outliers:\", outliers)"
   ]
  },
  {
   "cell_type": "code",
   "execution_count": null,
   "metadata": {},
   "outputs": [],
   "source": [
    "#print the results\n",
    "print(\"Outliers:\", outliers)\n",
    "print(\"---------\")\n"
   ]
  },
  {
   "cell_type": "code",
   "execution_count": null,
   "metadata": {},
   "outputs": [],
   "source": [
    "#remove outliers\n",
    "data = data[(data['Age'] >= lower_bound) & (data['Age'] <= upper_bound)]\n",
    "print(\"Data after removing outliers:\", data)"
   ]
  },
  {
   "cell_type": "markdown",
   "metadata": {},
   "source": [
    "# with K-Means\n"
   ]
  },
  {
   "cell_type": "code",
   "execution_count": null,
   "metadata": {},
   "outputs": [],
   "source": [
    "# create data\n",
    "data = pd.DataFrame({'Age': [21, 22, 23, 24, 26, 25, 26, 27, 28, 29, 60]})\n",
    "data"
   ]
  },
  {
   "cell_type": "code",
   "execution_count": null,
   "metadata": {},
   "outputs": [],
   "source": [
    "# create k-means model with 2 clusters (normal and outlier)\n",
    "kmeans = KMeans(n_clusters=2,n_init=10)\n",
    "kmeans.fit(data)\n",
    "\n",
    "#predict cluster lables\n",
    "labels = kmeans.predict(data)\n",
    "\n",
    "#identify cluster based on outlier\n",
    "outlier_label = labels[-1]\n",
    "\n",
    "print(\"Cluster label of the outlier:\", outlier_label)\n"
   ]
  },
  {
   "cell_type": "code",
   "execution_count": null,
   "metadata": {},
   "outputs": [],
   "source": []
  }
 ],
 "metadata": {
  "kernelspec": {
   "display_name": "python_ml",
   "language": "python",
   "name": "python3"
  },
  "language_info": {
   "codemirror_mode": {
    "name": "ipython",
    "version": 3
   },
   "file_extension": ".py",
   "mimetype": "text/x-python",
   "name": "python",
   "nbconvert_exporter": "python",
   "pygments_lexer": "ipython3",
   "version": "3.11.7"
  }
 },
 "nbformat": 4,
 "nbformat_minor": 2
}
