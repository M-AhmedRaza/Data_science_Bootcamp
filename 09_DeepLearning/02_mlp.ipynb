{
 "cells": [
  {
   "cell_type": "code",
   "execution_count": 3,
   "metadata": {},
   "outputs": [],
   "source": [
    "#import libraries\n",
    "import numpy as np\n",
    "import pandas as pd\n",
    "import tensorflow as tf\n",
    "import seaborn as sns\n",
    "\n",
    "from sklearn.model_selection import train_test_split\n",
    "from sklearn.preprocessing import StandardScaler\n"
   ]
  },
  {
   "cell_type": "code",
   "execution_count": 4,
   "metadata": {},
   "outputs": [],
   "source": [
    "#load the dataset\n",
    "tips=sns.load_dataset('tips')\n"
   ]
  },
  {
   "cell_type": "code",
   "execution_count": 29,
   "metadata": {},
   "outputs": [
    {
     "name": "stdout",
     "output_type": "stream",
     "text": [
      "Epoch 1/50\n",
      "1/6 [====>.........................] - ETA: 2s - loss: 8.8282 - mae: 2.3756WARNING:tensorflow:5 out of the last 13 calls to <function Model.make_test_function.<locals>.test_function at 0x000001F21FE43BA0> triggered tf.function retracing. Tracing is expensive and the excessive number of tracings could be due to (1) creating @tf.function repeatedly in a loop, (2) passing tensors with different shapes, (3) passing Python objects instead of tensors. For (1), please define your @tf.function outside of the loop. For (2), @tf.function has reduce_retracing=True option that can avoid unnecessary retracing. For (3), please refer to https://www.tensorflow.org/guide/function#controlling_retracing and https://www.tensorflow.org/api_docs/python/tf/function for  more details.\n",
      "6/6 [==============================] - 1s 33ms/step - loss: 7.2865 - mae: 2.3338 - val_loss: 6.4626 - val_mae: 2.1836\n",
      "Epoch 2/50\n",
      "6/6 [==============================] - 0s 11ms/step - loss: 5.5907 - mae: 1.9665 - val_loss: 4.8419 - val_mae: 1.8024\n",
      "Epoch 3/50\n",
      "6/6 [==============================] - 0s 9ms/step - loss: 4.0413 - mae: 1.5960 - val_loss: 3.4871 - val_mae: 1.4467\n",
      "Epoch 4/50\n",
      "6/6 [==============================] - 0s 9ms/step - loss: 2.9111 - mae: 1.3003 - val_loss: 2.4412 - val_mae: 1.1414\n",
      "Epoch 5/50\n",
      "6/6 [==============================] - 0s 8ms/step - loss: 2.1005 - mae: 1.0637 - val_loss: 1.8142 - val_mae: 0.9536\n",
      "Epoch 6/50\n",
      "6/6 [==============================] - 0s 8ms/step - loss: 1.6062 - mae: 0.9642 - val_loss: 1.5697 - val_mae: 0.9001\n",
      "Epoch 7/50\n",
      "6/6 [==============================] - 0s 8ms/step - loss: 1.4521 - mae: 0.9270 - val_loss: 1.5422 - val_mae: 0.9376\n",
      "Epoch 8/50\n",
      "6/6 [==============================] - 0s 8ms/step - loss: 1.3536 - mae: 0.9019 - val_loss: 1.5438 - val_mae: 0.9464\n",
      "Epoch 9/50\n",
      "6/6 [==============================] - 0s 10ms/step - loss: 1.3048 - mae: 0.8872 - val_loss: 1.5470 - val_mae: 0.9475\n",
      "Epoch 10/50\n",
      "6/6 [==============================] - 0s 10ms/step - loss: 1.2141 - mae: 0.8592 - val_loss: 1.5183 - val_mae: 0.9214\n",
      "Epoch 11/50\n",
      "6/6 [==============================] - 0s 10ms/step - loss: 1.1559 - mae: 0.8359 - val_loss: 1.5076 - val_mae: 0.9054\n",
      "Epoch 12/50\n",
      "6/6 [==============================] - 0s 8ms/step - loss: 1.1114 - mae: 0.8128 - val_loss: 1.5014 - val_mae: 0.9005\n",
      "Epoch 13/50\n",
      "6/6 [==============================] - 0s 7ms/step - loss: 1.0925 - mae: 0.8007 - val_loss: 1.4990 - val_mae: 0.8966\n",
      "Epoch 14/50\n",
      "6/6 [==============================] - 0s 9ms/step - loss: 1.0655 - mae: 0.7885 - val_loss: 1.4969 - val_mae: 0.8980\n",
      "Epoch 15/50\n",
      "6/6 [==============================] - 0s 8ms/step - loss: 1.0343 - mae: 0.7787 - val_loss: 1.5018 - val_mae: 0.9012\n",
      "Epoch 16/50\n",
      "6/6 [==============================] - 0s 8ms/step - loss: 1.0104 - mae: 0.7706 - val_loss: 1.5059 - val_mae: 0.9025\n",
      "Epoch 17/50\n",
      "6/6 [==============================] - 0s 7ms/step - loss: 1.0009 - mae: 0.7676 - val_loss: 1.5274 - val_mae: 0.9099\n",
      "Epoch 18/50\n",
      "6/6 [==============================] - 0s 11ms/step - loss: 0.9677 - mae: 0.7557 - val_loss: 1.5217 - val_mae: 0.9058\n",
      "Epoch 19/50\n",
      "6/6 [==============================] - 0s 9ms/step - loss: 0.9507 - mae: 0.7491 - val_loss: 1.5165 - val_mae: 0.9040\n",
      "Epoch 20/50\n",
      "6/6 [==============================] - 0s 7ms/step - loss: 0.9333 - mae: 0.7417 - val_loss: 1.5055 - val_mae: 0.8985\n",
      "Epoch 21/50\n",
      "6/6 [==============================] - 0s 7ms/step - loss: 0.9190 - mae: 0.7351 - val_loss: 1.5000 - val_mae: 0.8971\n",
      "Epoch 22/50\n",
      "6/6 [==============================] - 0s 8ms/step - loss: 0.9036 - mae: 0.7274 - val_loss: 1.4811 - val_mae: 0.8866\n",
      "Epoch 23/50\n",
      "6/6 [==============================] - 0s 6ms/step - loss: 0.8933 - mae: 0.7193 - val_loss: 1.4882 - val_mae: 0.8866\n",
      "Epoch 24/50\n",
      "6/6 [==============================] - 0s 9ms/step - loss: 0.8762 - mae: 0.7132 - val_loss: 1.4819 - val_mae: 0.8851\n",
      "Epoch 25/50\n",
      "6/6 [==============================] - 0s 8ms/step - loss: 0.8661 - mae: 0.7093 - val_loss: 1.4682 - val_mae: 0.8804\n",
      "Epoch 26/50\n",
      "6/6 [==============================] - 0s 9ms/step - loss: 0.8546 - mae: 0.7042 - val_loss: 1.4602 - val_mae: 0.8766\n",
      "Epoch 27/50\n",
      "6/6 [==============================] - 0s 6ms/step - loss: 0.8421 - mae: 0.7002 - val_loss: 1.4913 - val_mae: 0.8848\n",
      "Epoch 28/50\n",
      "6/6 [==============================] - 0s 7ms/step - loss: 0.8388 - mae: 0.6991 - val_loss: 1.5030 - val_mae: 0.8867\n",
      "Epoch 29/50\n",
      "6/6 [==============================] - 0s 7ms/step - loss: 0.8329 - mae: 0.6961 - val_loss: 1.5095 - val_mae: 0.8871\n",
      "Epoch 30/50\n",
      "6/6 [==============================] - 0s 7ms/step - loss: 0.8230 - mae: 0.6881 - val_loss: 1.4769 - val_mae: 0.8685\n",
      "Epoch 31/50\n",
      "6/6 [==============================] - 0s 7ms/step - loss: 0.8100 - mae: 0.6800 - val_loss: 1.4653 - val_mae: 0.8612\n",
      "Epoch 32/50\n",
      "6/6 [==============================] - 0s 8ms/step - loss: 0.8023 - mae: 0.6748 - val_loss: 1.4593 - val_mae: 0.8615\n",
      "Epoch 33/50\n",
      "6/6 [==============================] - 0s 8ms/step - loss: 0.7943 - mae: 0.6716 - val_loss: 1.4512 - val_mae: 0.8579\n",
      "Epoch 34/50\n",
      "6/6 [==============================] - 0s 6ms/step - loss: 0.7863 - mae: 0.6677 - val_loss: 1.4379 - val_mae: 0.8517\n",
      "Epoch 35/50\n",
      "6/6 [==============================] - 0s 13ms/step - loss: 0.7867 - mae: 0.6673 - val_loss: 1.4418 - val_mae: 0.8550\n",
      "Epoch 36/50\n",
      "6/6 [==============================] - 0s 8ms/step - loss: 0.7743 - mae: 0.6617 - val_loss: 1.4578 - val_mae: 0.8625\n",
      "Epoch 37/50\n",
      "6/6 [==============================] - 0s 7ms/step - loss: 0.7686 - mae: 0.6598 - val_loss: 1.4780 - val_mae: 0.8736\n",
      "Epoch 38/50\n",
      "6/6 [==============================] - 0s 10ms/step - loss: 0.7645 - mae: 0.6582 - val_loss: 1.4840 - val_mae: 0.8738\n",
      "Epoch 39/50\n",
      "6/6 [==============================] - 0s 9ms/step - loss: 0.7571 - mae: 0.6537 - val_loss: 1.4792 - val_mae: 0.8696\n",
      "Epoch 40/50\n",
      "6/6 [==============================] - 0s 8ms/step - loss: 0.7560 - mae: 0.6502 - val_loss: 1.4814 - val_mae: 0.8622\n",
      "Epoch 41/50\n",
      "6/6 [==============================] - 0s 8ms/step - loss: 0.7479 - mae: 0.6474 - val_loss: 1.4745 - val_mae: 0.8590\n",
      "Epoch 42/50\n",
      "6/6 [==============================] - 0s 9ms/step - loss: 0.7409 - mae: 0.6430 - val_loss: 1.4440 - val_mae: 0.8421\n",
      "Epoch 43/50\n",
      "6/6 [==============================] - 0s 8ms/step - loss: 0.7363 - mae: 0.6388 - val_loss: 1.4334 - val_mae: 0.8367\n",
      "Epoch 44/50\n",
      "6/6 [==============================] - 0s 7ms/step - loss: 0.7311 - mae: 0.6357 - val_loss: 1.4364 - val_mae: 0.8397\n",
      "Epoch 45/50\n",
      "6/6 [==============================] - 0s 8ms/step - loss: 0.7279 - mae: 0.6333 - val_loss: 1.4461 - val_mae: 0.8408\n",
      "Epoch 46/50\n",
      "6/6 [==============================] - 0s 7ms/step - loss: 0.7241 - mae: 0.6317 - val_loss: 1.4337 - val_mae: 0.8383\n",
      "Epoch 47/50\n",
      "6/6 [==============================] - 0s 7ms/step - loss: 0.7196 - mae: 0.6295 - val_loss: 1.4270 - val_mae: 0.8379\n",
      "Epoch 48/50\n",
      "6/6 [==============================] - 0s 7ms/step - loss: 0.7156 - mae: 0.6268 - val_loss: 1.4256 - val_mae: 0.8388\n",
      "Epoch 49/50\n",
      "6/6 [==============================] - 0s 8ms/step - loss: 0.7100 - mae: 0.6257 - val_loss: 1.4457 - val_mae: 0.8520\n",
      "Epoch 50/50\n",
      "6/6 [==============================] - 0s 7ms/step - loss: 0.7060 - mae: 0.6259 - val_loss: 1.4451 - val_mae: 0.8541\n"
     ]
    },
    {
     "data": {
      "text/plain": [
       "[1.4451277256011963, 0.8541104197502136]"
      ]
     },
     "execution_count": 29,
     "metadata": {},
     "output_type": "execute_result"
    }
   ],
   "source": [
    "#preprocessing\n",
    "#converting categorical variables to dummy variables\n",
    "tips=pd.get_dummies(tips,drop_first=True)\n",
    "\n",
    "#selecting features and targets \n",
    "X=tips.drop('tip',axis=1)\n",
    "y=tips['tip']\n",
    "\n",
    "#splitting the dataset\n",
    "X_train,X_test,y_train,y_test=train_test_split(X,y,test_size=0.3,random_state=101)\n",
    "\n",
    "#standarding the dataset\n",
    "scaler=StandardScaler()\n",
    "X_train=scaler.fit_transform(X_train)\n",
    "X_test=scaler.transform(X_test)\n",
    "\n",
    "#building the model\n",
    "model=tf.keras.Sequential([\n",
    "    tf.keras.layers.Dense(64,activation='relu',input_shape=(X_train.shape[1],)),#input layer,\n",
    "    tf.keras.layers.Dense(32,activation='relu'),#hidden layer,\n",
    "    tf.keras.layers.Dense(1)#output layer\n",
    "])\n",
    "\n",
    "#compile the model\n",
    "model.compile(optimizer='adam',loss='mse',metrics=['mae'])\n",
    "\n",
    "#fit the model\n",
    "history=model.fit(X_train,y_train,epochs=50,batch_size=32,verbose=1,validation_data=(X_test,y_test))\n",
    "\n",
    "#evaluate the model\n",
    "loss=model.evaluate(X_test,y_test,verbose=0)\n",
    "loss\n",
    "\n"
   ]
  },
  {
   "cell_type": "code",
   "execution_count": 30,
   "metadata": {},
   "outputs": [
    {
     "data": {
      "image/png": "[encoded data removed]",
      "text/plain": [
       "<Figure size 640x480 with 1 Axes>"
      ]
     },
     "metadata": {},
     "output_type": "display_data"
    }
   ],
   "source": [
    "#plotting the training and testing loss\n",
    "import matplotlib.pyplot as plt\n",
    "plt.plot(history.history['loss'])\n",
    "plt.plot(history.history['val_loss'])\n",
    "plt.title('Model loss')\n",
    "plt.ylabel('Loss')\n",
    "plt.xlabel('Epoch')\n",
    "plt.legend(['Train', 'Validation'], loc='upper right')\n",
    "plt.show()"
   ]
  },
  {
   "cell_type": "markdown",
   "metadata": {},
   "source": [
    "# Early stopping callback"
   ]
  },
  {
   "cell_type": "code",
   "execution_count": null,
   "metadata": {},
   "outputs": [],
   "source": []
  }
 ],
 "metadata": {
  "kernelspec": {
   "display_name": "tf_env",
   "language": "python",
   "name": "python3"
  },
  "language_info": {
   "codemirror_mode": {
    "name": "ipython",
    "version": 3
   },
   "file_extension": ".py",
   "mimetype": "text/x-python",
   "name": "python",
   "nbconvert_exporter": "python",
   "pygments_lexer": "ipython3",
   "version": "3.11.7"
  }
 },
 "nbformat": 4,
 "nbformat_minor": 2
}
