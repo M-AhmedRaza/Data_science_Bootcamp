{
 "cells": [
  {
   "cell_type": "markdown",
   "metadata": {},
   "source": [
    "# Statistical Anlayses"
   ]
  },
  {
   "cell_type": "code",
   "execution_count": null,
   "metadata": {},
   "outputs": [],
   "source": [
    "!pip install scipy"
   ]
  },
  {
   "cell_type": "code",
   "execution_count": null,
   "metadata": {},
   "outputs": [],
   "source": [
    "# import libraries\n",
    "import numpy as np\n",
    "import pandas as pd\n",
    "import seaborn as sns\n",
    "from scipy import stats\n"
   ]
  },
  {
   "cell_type": "code",
   "execution_count": null,
   "metadata": {},
   "outputs": [],
   "source": [
    "# load the titanic data from sns\n",
    "df = sns.load_dataset('titanic')"
   ]
  },
  {
   "cell_type": "code",
   "execution_count": null,
   "metadata": {},
   "outputs": [],
   "source": [
    "df.head()"
   ]
  },
  {
   "cell_type": "code",
   "execution_count": null,
   "metadata": {},
   "outputs": [],
   "source": [
    "df.info()"
   ]
  },
  {
   "cell_type": "markdown",
   "metadata": {},
   "source": [
    "# chi squre test\n",
    "<span style=\"color:yellow;\">\n",
    "\n",
    "we know chi squre test is only for categorical data\n",
    "\n",
    "so the columns of class,sex,embarked, emabarked town, who, alive deck are categorical\n",
    "\n",
    "\n",
    "</span>"
   ]
  },
  {
   "cell_type": "markdown",
   "metadata": {},
   "source": [
    "`Null Hypothesis`: There is no significant relationship between 'sex' and 'survived' column.\n",
    "\n",
    "`H1 Hypothesis`: There exist a relationship between 'sex' and 'survived' column."
   ]
  },
  {
   "cell_type": "code",
   "execution_count": null,
   "metadata": {},
   "outputs": [],
   "source": [
    "# create a contigency table\n",
    "cont_table = pd.crosstab(df['sex'], df['survived'])\n",
    "cont_table"
   ]
  },
  {
   "cell_type": "markdown",
   "metadata": {},
   "source": [
    "It shows quick relationship"
   ]
  },
  {
   "cell_type": "code",
   "execution_count": null,
   "metadata": {},
   "outputs": [],
   "source": [
    "# perform chi-square test\n",
    "chi2, p, dof, expected = stats.chi2_contingency(cont_table)\n",
    "print(\"Chi-square statistic:\", chi2)\n",
    "print(\"p-value:\", p)\n",
    "print(\"Degrees of freedom:\", dof)\n",
    "print(f\"Expected frequencies:\\n {expected}\")"
   ]
  },
  {
   "cell_type": "markdown",
   "metadata": {},
   "source": [
    "<span style=\"color:yellow;\">\n",
    "we can see that p-value is far less than 0.05, so we can reject the Null hypothesis.\n",
    "\n",
    "\n",
    "There is a relatioship between surviaval rate and sex of the passengers.\n",
    "<span>\n"
   ]
  },
  {
   "cell_type": "markdown",
   "metadata": {},
   "source": [
    "# Normal Distribution Test"
   ]
  },
  {
   "cell_type": "code",
   "execution_count": null,
   "metadata": {},
   "outputs": [],
   "source": [
    "df"
   ]
  },
  {
   "cell_type": "markdown",
   "metadata": {},
   "source": [
    "# Graphical Method"
   ]
  },
  {
   "cell_type": "code",
   "execution_count": null,
   "metadata": {},
   "outputs": [],
   "source": [
    "# graphical Method for normal distribution\n",
    "sns.histplot(data=df, x='age', hue='who',kde=True)"
   ]
  },
  {
   "cell_type": "markdown",
   "metadata": {},
   "source": [
    "This graphical distribution is not enough to understand the normal distribution."
   ]
  },
  {
   "cell_type": "markdown",
   "metadata": {},
   "source": [
    "H0: Data is normally distributed\n",
    "H1: Data is not normally distributed"
   ]
  },
  {
   "cell_type": "code",
   "execution_count": null,
   "metadata": {},
   "outputs": [],
   "source": [
    "# shapiro wilk test\n",
    "from scipy.stats import shapiro\n",
    "\n",
    "# Assuming 'data' is the variable containing the data you want to test\n",
    "statistic, p_value = shapiro(df.age)\n",
    "\n",
    "if p_value>0.05:\n",
    "    print(f\"p_value is  :{p_value} sample look guassian distribution, Failed to reject H0\")\n",
    "else:\n",
    "    print(f\"p_value is  :{p_value} sample look not guassian distribution, Reject H0\")\n",
    "\n",
    "print(\"Shapiro-Wilk statistic:\", statistic)\n",
    "print(\"p-value:\", p_value)"
   ]
  },
  {
   "cell_type": "markdown",
   "metadata": {},
   "source": [
    "P-Value is 1, therefore it can be concluded that data isn't normally distributed."
   ]
  },
  {
   "cell_type": "code",
   "execution_count": null,
   "metadata": {},
   "outputs": [],
   "source": [
    "statistic, p_value = shapiro(df.fare)\n",
    "\n",
    "if p_value>0.05:\n",
    "    print(f\"p_value is  :{p_value} sample look guassian distribution, Failed to reject H0\")\n",
    "else:\n",
    "    print(f\"p_value is  :{p_value} sample look not guassian distribution, Reject H0\")\n",
    "\n",
    "print(\"Shapiro-Wilk statistic:\", statistic)\n",
    "print(\"p-value:\", p_value)"
   ]
  },
  {
   "cell_type": "markdown",
   "metadata": {},
   "source": [
    "# kolmogorov smirnov test"
   ]
  },
  {
   "cell_type": "code",
   "execution_count": null,
   "metadata": {},
   "outputs": [],
   "source": [
    "# kolmogorov smirnov test\n",
    "from scipy.stats import kstest\n",
    "\n",
    "age_data = df['age'].dropna()\n",
    "fare_data = df['fare'].dropna()\n",
    "# Assuming 'data' is the variable containing the data you want to test\n",
    "statistic, p_value = kstest(age_data, 'norm')\n",
    "\n",
    "if p_value > 0.05:\n",
    "    print(f\"p_value is: {p_value}. The sample follows a normal distribution.\")\n",
    "else:\n",
    "    print(f\"p_value is: {p_value}. The sample does not follow a normal distribution.\")\n",
    "\n",
    "print(\"Kolmogorov-Smirnov statistic:\", statistic)\n",
    "print(\"p-value:\", p_value)"
   ]
  },
  {
   "cell_type": "markdown",
   "metadata": {},
   "source": [
    "# T-Test\n",
    "Only valid when sample is less than 30."
   ]
  },
  {
   "cell_type": "markdown",
   "metadata": {},
   "source": [
    "1. 1 Smaple t-test"
   ]
  },
  {
   "cell_type": "code",
   "execution_count": null,
   "metadata": {},
   "outputs": [],
   "source": [
    "import scipy.stats as stats\n",
    "\n",
    "# sample data\n",
    "x=[1,2,3,4,5]\n",
    "\n",
    "# known population mean\n",
    "mu=9\n",
    "\n",
    "# perform one sample t-test\n",
    "t_statistic, p_value = stats.ttest_1samp(x, mu)\n",
    "\n",
    "# print results\n",
    "print(\"t-statistic:\", t_statistic)\n",
    "print(\"p-value:\", p_value)\n",
    "\n",
    "# interpret results\n",
    "if p_value > 0.05:\n",
    "    print(f\"The sample follows a normal distribution.\")\n",
    "else:\n",
    "    print(f\"The sample does not follow a normal distribution.\")\n"
   ]
  },
  {
   "cell_type": "markdown",
   "metadata": {},
   "source": [
    "2. 2 Sample t-test (independant)"
   ]
  },
  {
   "cell_type": "code",
   "execution_count": null,
   "metadata": {},
   "outputs": [],
   "source": [
    "# perform two sample t-test\n",
    "import scipy.stats as stats\n",
    "\n",
    "# sample data\n",
    "x1 = [1, 2, 3, 4, 5]\n",
    "x2 = [6.2, 7, 8, 9.7, 10]\n",
    "\n",
    "# perform two sample t-test\n",
    "t_statistic, p_value = stats.ttest_ind(x1, x2,equal_var=False) # equal_var=False for unequal variance\n",
    "\n",
    "# print results\n",
    "print(\"t-statistic:\", t_statistic)\n",
    "print(\"p-value:\", p_value)\n",
    "\n",
    "# interpret results\n",
    "if p_value > 0.05:\n",
    "    print(\"The two samples are not significantly different.\")\n",
    "else:\n",
    "    print(\"The two samples are significantly different.\")"
   ]
  },
  {
   "cell_type": "markdown",
   "metadata": {},
   "source": [
    "3. Paired sample t-test\n",
    "   checks the relatioship in some before and after events"
   ]
  },
  {
   "cell_type": "code",
   "execution_count": null,
   "metadata": {},
   "outputs": [],
   "source": [
    "# pair sample t-test for weight change in 3 months\n",
    "# sample data\n",
    "before = [10, 20, 30, 40, 50]\n",
    "after = [15, 19, 31, 40, 55]\n",
    "\n",
    "# perform two sample t-test\n",
    "t_statistic, p_value = stats.ttest_rel(before, after)\n",
    "\n",
    "# print results\n",
    "print(\"t-statistic:\", t_statistic)\n",
    "print(\"p-value:\", p_value)\n",
    "\n",
    "# interpret results\n",
    "if p_value > 0.05:\n",
    "    print(f\"p_value is: {p_value}, before & after means are not significantly different.\")\n",
    "else:\n",
    "    print(f\"p_value is {p_value} before & after means are significantly different.\")\n"
   ]
  },
  {
   "cell_type": "markdown",
   "metadata": {},
   "source": [
    "# Test for data homogeneity"
   ]
  },
  {
   "cell_type": "code",
   "execution_count": null,
   "metadata": {},
   "outputs": [],
   "source": [
    "# levene test\n",
    "from scipy.stats import levene\n",
    "\n",
    "# sample data\n",
    "before = [10, 20, 30, 40, 50]\n",
    "after = [15, 19, 31, 40, 55]\n",
    "\n",
    "# perform levene test\n",
    "statistic, p_value = levene(before, after)\n",
    "\n",
    "# print results\n",
    "print(\"Levene test statistic:\", statistic)\n",
    "print(\"p-value:\", p_value)\n",
    "\n",
    "# interpret results\n",
    "if p_value > 0.05:\n",
    "    print(\"The variances are not significantly different.\")\n",
    "else:\n",
    "    print(\"The variances are significantly different.\")"
   ]
  },
  {
   "cell_type": "code",
   "execution_count": null,
   "metadata": {},
   "outputs": [],
   "source": [
    "# bartlett test\n",
    "from scipy.stats import bartlett\n",
    "\n",
    "# sample data\n",
    "before = [10, 20, 30, 40, 50]\n",
    "after = [15, 19, 31, 40, 55]\n",
    "\n",
    "# perform bartlett test\n",
    "statistic, p_value = bartlett(before, after)\n",
    "\n",
    "# print results\n",
    "print(\"Bartlett test statistic:\", statistic)\n",
    "print(\"p-value:\", p_value)\n",
    "\n",
    "# interpret results\n",
    "if p_value > 0.05:\n",
    "    print(\"The variances are not significantly different.\")\n",
    "else:\n",
    "    print(\"The variances are significantly different.\")\n",
    "\n"
   ]
  },
  {
   "cell_type": "markdown",
   "metadata": {},
   "source": [
    "# one way Anova (Analysis of Variance)\n",
    "\n",
    "based on variance campares multiple means\n",
    "\n",
    "1. One way anova\n",
    "2. Two way anova\n",
    "3. Repeated Measure"
   ]
  },
  {
   "cell_type": "code",
   "execution_count": null,
   "metadata": {},
   "outputs": [],
   "source": [
    "# one way ANOVA\n",
    "from scipy.stats import f_oneway\n",
    "\n",
    "# sample data\n",
    "a = [10, 20, 30, 40, 50]\n",
    "b = [15, 19, 31, 40, 55]\n",
    "c = [25, 29, 32, 45, 57]\n",
    "\n",
    "# perform one-way ANOVA\n",
    "f_statistic, p_value = f_oneway(a, b, c)\n",
    "\n",
    "# print results\n",
    "print(\"F-statistic:\", f_statistic)\n",
    "print(\"p-value:\", p_value)\n",
    "\n",
    "# interpret results\n",
    "if p_value > 0.05:\n",
    "    print(\"The variances are not significantly different.\")\n",
    "else:\n",
    "    print(\"The variances are significantly different.\")\n",
    "    \n"
   ]
  },
  {
   "cell_type": "code",
   "execution_count": null,
   "metadata": {},
   "outputs": [],
   "source": []
  }
 ],
 "metadata": {
  "kernelspec": {
   "display_name": "EDA2",
   "language": "python",
   "name": "python3"
  },
  "language_info": {
   "codemirror_mode": {
    "name": "ipython",
    "version": 3
   },
   "file_extension": ".py",
   "mimetype": "text/x-python",
   "name": "python",
   "nbconvert_exporter": "python",
   "pygments_lexer": "ipython3",
   "version": "3.11.5"
  }
 },
 "nbformat": 4,
 "nbformat_minor": 2
}
