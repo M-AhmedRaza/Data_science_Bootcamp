{
 "cells": [
  {
   "cell_type": "markdown",
   "metadata": {},
   "source": [
    "# Dataviz"
   ]
  },
  {
   "cell_type": "code",
   "execution_count": 1,
   "metadata": {},
   "outputs": [],
   "source": [
    "import pandas as pd\n",
    "import numpy as np\n",
    "import matplotlib.pyplot as plt\n",
    "import seaborn as sns"
   ]
  },
  {
   "cell_type": "code",
   "execution_count": 2,
   "metadata": {},
   "outputs": [],
   "source": [
    "df=sns.load_dataset('titanic')"
   ]
  },
  {
   "cell_type": "code",
   "execution_count": 3,
   "metadata": {},
   "outputs": [
    {
     "data": {
      "text/plain": [
       "<Axes: xlabel='age', ylabel='fare'>"
      ]
     },
     "execution_count": 3,
     "metadata": {},
     "output_type": "execute_result"
    },
    {
     "data": {
      "image/png": "[encoded data removed]",
      "text/plain": [
       "<Figure size 640x480 with 1 Axes>"
      ]
     },
     "metadata": {},
     "output_type": "display_data"
    }
   ],
   "source": [
    "df.plot(kind='scatter',x='age',y='fare',color='#d63ddb')\n",
    "# choose color from color picker google, colors for color blinds, colr picker chrome extension"
   ]
  },
  {
   "cell_type": "code",
   "execution_count": 4,
   "metadata": {},
   "outputs": [
    {
     "data": {
      "text/html": [
       "<div>\n",
       "<style scoped>\n",
       "    .dataframe tbody tr th:only-of-type {\n",
       "        vertical-align: middle;\n",
       "    }\n",
       "\n",
       "    .dataframe tbody tr th {\n",
       "        vertical-align: top;\n",
       "    }\n",
       "\n",
       "    .dataframe thead th {\n",
       "        text-align: right;\n",
       "    }\n",
       "</style>\n",
       "<table border=\"1\" class=\"dataframe\">\n",
       "  <thead>\n",
       "    <tr style=\"text-align: right;\">\n",
       "      <th></th>\n",
       "      <th>survived</th>\n",
       "      <th>pclass</th>\n",
       "      <th>sex</th>\n",
       "      <th>age</th>\n",
       "      <th>sibsp</th>\n",
       "      <th>parch</th>\n",
       "      <th>fare</th>\n",
       "      <th>embarked</th>\n",
       "      <th>class</th>\n",
       "      <th>who</th>\n",
       "      <th>adult_male</th>\n",
       "      <th>deck</th>\n",
       "      <th>embark_town</th>\n",
       "      <th>alive</th>\n",
       "      <th>alone</th>\n",
       "    </tr>\n",
       "  </thead>\n",
       "  <tbody>\n",
       "    <tr>\n",
       "      <th>0</th>\n",
       "      <td>0</td>\n",
       "      <td>3</td>\n",
       "      <td>male</td>\n",
       "      <td>22.0</td>\n",
       "      <td>1</td>\n",
       "      <td>0</td>\n",
       "      <td>7.2500</td>\n",
       "      <td>S</td>\n",
       "      <td>Third</td>\n",
       "      <td>man</td>\n",
       "      <td>True</td>\n",
       "      <td>NaN</td>\n",
       "      <td>Southampton</td>\n",
       "      <td>no</td>\n",
       "      <td>False</td>\n",
       "    </tr>\n",
       "    <tr>\n",
       "      <th>1</th>\n",
       "      <td>1</td>\n",
       "      <td>1</td>\n",
       "      <td>female</td>\n",
       "      <td>38.0</td>\n",
       "      <td>1</td>\n",
       "      <td>0</td>\n",
       "      <td>71.2833</td>\n",
       "      <td>C</td>\n",
       "      <td>First</td>\n",
       "      <td>woman</td>\n",
       "      <td>False</td>\n",
       "      <td>C</td>\n",
       "      <td>Cherbourg</td>\n",
       "      <td>yes</td>\n",
       "      <td>False</td>\n",
       "    </tr>\n",
       "    <tr>\n",
       "      <th>2</th>\n",
       "      <td>1</td>\n",
       "      <td>3</td>\n",
       "      <td>female</td>\n",
       "      <td>26.0</td>\n",
       "      <td>0</td>\n",
       "      <td>0</td>\n",
       "      <td>7.9250</td>\n",
       "      <td>S</td>\n",
       "      <td>Third</td>\n",
       "      <td>woman</td>\n",
       "      <td>False</td>\n",
       "      <td>NaN</td>\n",
       "      <td>Southampton</td>\n",
       "      <td>yes</td>\n",
       "      <td>True</td>\n",
       "    </tr>\n",
       "    <tr>\n",
       "      <th>3</th>\n",
       "      <td>1</td>\n",
       "      <td>1</td>\n",
       "      <td>female</td>\n",
       "      <td>35.0</td>\n",
       "      <td>1</td>\n",
       "      <td>0</td>\n",
       "      <td>53.1000</td>\n",
       "      <td>S</td>\n",
       "      <td>First</td>\n",
       "      <td>woman</td>\n",
       "      <td>False</td>\n",
       "      <td>C</td>\n",
       "      <td>Southampton</td>\n",
       "      <td>yes</td>\n",
       "      <td>False</td>\n",
       "    </tr>\n",
       "    <tr>\n",
       "      <th>4</th>\n",
       "      <td>0</td>\n",
       "      <td>3</td>\n",
       "      <td>male</td>\n",
       "      <td>35.0</td>\n",
       "      <td>0</td>\n",
       "      <td>0</td>\n",
       "      <td>8.0500</td>\n",
       "      <td>S</td>\n",
       "      <td>Third</td>\n",
       "      <td>man</td>\n",
       "      <td>True</td>\n",
       "      <td>NaN</td>\n",
       "      <td>Southampton</td>\n",
       "      <td>no</td>\n",
       "      <td>True</td>\n",
       "    </tr>\n",
       "  </tbody>\n",
       "</table>\n",
       "</div>"
      ],
      "text/plain": [
       "   survived  pclass     sex   age  sibsp  parch     fare embarked  class  \\\n",
       "0         0       3    male  22.0      1      0   7.2500        S  Third   \n",
       "1         1       1  female  38.0      1      0  71.2833        C  First   \n",
       "2         1       3  female  26.0      0      0   7.9250        S  Third   \n",
       "3         1       1  female  35.0      1      0  53.1000        S  First   \n",
       "4         0       3    male  35.0      0      0   8.0500        S  Third   \n",
       "\n",
       "     who  adult_male deck  embark_town alive  alone  \n",
       "0    man        True  NaN  Southampton    no  False  \n",
       "1  woman       False    C    Cherbourg   yes  False  \n",
       "2  woman       False  NaN  Southampton   yes   True  \n",
       "3  woman       False    C  Southampton   yes  False  \n",
       "4    man        True  NaN  Southampton    no   True  "
      ]
     },
     "execution_count": 4,
     "metadata": {},
     "output_type": "execute_result"
    }
   ],
   "source": [
    "df.head()"
   ]
  },
  {
   "cell_type": "code",
   "execution_count": 5,
   "metadata": {},
   "outputs": [
    {
     "data": {
      "text/plain": [
       "Text(0.5, 0, 'Gender')"
      ]
     },
     "execution_count": 5,
     "metadata": {},
     "output_type": "execute_result"
    },
    {
     "data": {
      "image/png": "[encoded data removed]",
      "text/plain": [
       "<Figure size 640x480 with 1 Axes>"
      ]
     },
     "metadata": {},
     "output_type": "display_data"
    }
   ],
   "source": [
    "df.groupby('sex')['age'].mean().plot(kind='bar')\n",
    "plt.ylabel('Average')\n",
    "plt.xlabel('Gender')"
   ]
  },
  {
   "cell_type": "markdown",
   "metadata": {},
   "source": [
    "# Seaborn Plots"
   ]
  },
  {
   "cell_type": "code",
   "execution_count": 6,
   "metadata": {},
   "outputs": [
    {
     "data": {
      "text/plain": [
       "<Axes: xlabel='survived', ylabel='fare'>"
      ]
     },
     "execution_count": 6,
     "metadata": {},
     "output_type": "execute_result"
    },
    {
     "data": {
      "image/png": "[encoded data removed]",
      "text/plain": [
       "<Figure size 640x480 with 1 Axes>"
      ]
     },
     "metadata": {},
     "output_type": "display_data"
    }
   ],
   "source": [
    "#barplot using seaborn\n",
    "sns.barplot(data=df,x='survived',y='fare')"
   ]
  },
  {
   "cell_type": "code",
   "execution_count": 7,
   "metadata": {},
   "outputs": [
    {
     "data": {
      "text/plain": [
       "<Axes: xlabel='sex', ylabel='fare'>"
      ]
     },
     "execution_count": 7,
     "metadata": {},
     "output_type": "execute_result"
    },
    {
     "data": {
      "image/png": "[encoded data removed]",
      "text/plain": [
       "<Figure size 640x480 with 1 Axes>"
      ]
     },
     "metadata": {},
     "output_type": "display_data"
    }
   ],
   "source": [
    "sns.barplot(data=df,x='sex',y='fare')"
   ]
  },
  {
   "cell_type": "code",
   "execution_count": 8,
   "metadata": {},
   "outputs": [
    {
     "data": {
      "text/plain": [
       "<Axes: xlabel='survived', ylabel='age'>"
      ]
     },
     "execution_count": 8,
     "metadata": {},
     "output_type": "execute_result"
    },
    {
     "data": {
      "image/png": "[encoded data removed]",
      "text/plain": [
       "<Figure size 640x480 with 1 Axes>"
      ]
     },
     "metadata": {},
     "output_type": "display_data"
    }
   ],
   "source": [
    "sns.barplot(data=df,x='survived',y='age',hue='class')"
   ]
  },
  {
   "cell_type": "code",
   "execution_count": 9,
   "metadata": {},
   "outputs": [
    {
     "data": {
      "text/plain": [
       "<Axes: xlabel='survived', ylabel='age'>"
      ]
     },
     "execution_count": 9,
     "metadata": {},
     "output_type": "execute_result"
    },
    {
     "data": {
      "image/png": "[encoded data removed]",
      "text/plain": [
       "<Figure size 640x480 with 1 Axes>"
      ]
     },
     "metadata": {},
     "output_type": "display_data"
    }
   ],
   "source": [
    "sns.boxplot(data=df,x='survived',y='age',hue='class')"
   ]
  },
  {
   "cell_type": "code",
   "execution_count": 10,
   "metadata": {},
   "outputs": [
    {
     "data": {
      "text/plain": [
       "<Axes: xlabel='age', ylabel='fare'>"
      ]
     },
     "execution_count": 10,
     "metadata": {},
     "output_type": "execute_result"
    },
    {
     "data": {
      "image/png": "[encoded data removed]",
      "text/plain": [
       "<Figure size 640x480 with 1 Axes>"
      ]
     },
     "metadata": {},
     "output_type": "display_data"
    }
   ],
   "source": [
    "sns.scatterplot(data=df,x='age',y='fare',hue='class')\n",
    "\n",
    "#scatter makes sense when both are nuemeric"
   ]
  },
  {
   "cell_type": "code",
   "execution_count": 11,
   "metadata": {},
   "outputs": [
    {
     "data": {
      "text/plain": [
       "<Axes: xlabel='age', ylabel='fare'>"
      ]
     },
     "execution_count": 11,
     "metadata": {},
     "output_type": "execute_result"
    },
    {
     "data": {
      "image/png": "[encoded data removed]",
      "text/plain": [
       "<Figure size 640x480 with 1 Axes>"
      ]
     },
     "metadata": {},
     "output_type": "display_data"
    }
   ],
   "source": [
    "sns.scatterplot(data=df,x='age',y='fare',hue='sex')"
   ]
  },
  {
   "cell_type": "markdown",
   "metadata": {},
   "source": [
    "make scatter plot using plotly"
   ]
  },
  {
   "cell_type": "code",
   "execution_count": 12,
   "metadata": {},
   "outputs": [
    {
     "name": "stdout",
     "output_type": "stream",
     "text": [
      "Note: you may need to restart the kernel to use updated packages.\n"
     ]
    }
   ],
   "source": [
    "pip install nbformat>=4.2.0"
   ]
  },
  {
   "cell_type": "code",
   "execution_count": 13,
   "metadata": {},
   "outputs": [
    {
     "name": "stdout",
     "output_type": "stream",
     "text": [
      "Requirement already satisfied: plotly in c:\\users\\hp\\.conda\\envs\\python_eda\\lib\\site-packages (5.17.0)\n",
      "Requirement already satisfied: tenacity>=6.2.0 in c:\\users\\hp\\.conda\\envs\\python_eda\\lib\\site-packages (from plotly) (8.2.3)\n",
      "Requirement already satisfied: packaging in c:\\users\\hp\\.conda\\envs\\python_eda\\lib\\site-packages (from plotly) (23.2)\n",
      "Note: you may need to restart the kernel to use updated packages.\n"
     ]
    }
   ],
   "source": [
    "pip install plotly\n"
   ]
  },
  {
   "cell_type": "code",
   "execution_count": 14,
   "metadata": {},
   "outputs": [],
   "source": [
    "import plotly.express as px"
   ]
  },
  {
   "cell_type": "code",
   "execution_count": 15,
   "metadata": {},
   "outputs": [
    {
     "name": "stderr",
     "output_type": "stream",
     "text": [
      "c:\\Users\\HP\\.conda\\envs\\python_eda\\Lib\\site-packages\\plotly\\express\\_core.py:2044: FutureWarning: The default of observed=False is deprecated and will be changed to True in a future version of pandas. Pass observed=False to retain current behavior or observed=True to adopt the future default and silence this warning.\n",
      "  grouped = df.groupby(required_grouper, sort=False)  # skip one_group groupers\n"
     ]
    },
    {
     "data": {
      "application/vnd.plotly.v1+json": {
       "config": {
        "plotlyServerURL": "https://plot.ly"
       },
       "data": [
        {
         "hovertemplate": "class=Third<br>age=%{x}<br>fare=%{y}<extra></extra>",
         "legendgroup": "Third",
         "marker": {
          "color": "#636efa",
          "symbol": "circle"
         },
         "mode": "markers",
         "name": "Third",
         "orientation": "v",
         "showlegend": true,
         "type": "scatter",
         "x": [
          22,
          26,
          35,
          null,
          2,
          27,
          4,
          20,
          39,
          14,
          2,
          31,
          null,
          15,
          8,
          38,
          null,
          null,
          null,
          null,
          null,
          21,
          18,
          14,
          40,
          null,
          19,
          null,
          null,
          null,
          null,
          18,
          7,
          21,
          28.5,
          11,
          22,
          4,
          null,
          19,
          17,
          26,
          16,
          26,
          32,
          25,
          null,
          null,
          30,
          22,
          29,
          null,
          33,
          16,
          null,
          24,
          29,
          20,
          26,
          59,
          null,
          28,
          null,
          33,
          37,
          28,
          21,
          null,
          38,
          null,
          14.5,
          22,
          20,
          17,
          21,
          70.5,
          2,
          null,
          12,
          null,
          24,
          null,
          45,
          33,
          20,
          47,
          16,
          null,
          22,
          24,
          19,
          27,
          9,
          55.5,
          40.5,
          null,
          16,
          30,
          null,
          null,
          44,
          26,
          17,
          1,
          9,
          45,
          28,
          4,
          1,
          21,
          18,
          null,
          36,
          null,
          9,
          4,
          null,
          40,
          36,
          19,
          null,
          42,
          null,
          28,
          null,
          34,
          45.5,
          18,
          2,
          32,
          26,
          16,
          24,
          22,
          null,
          27,
          16,
          51,
          null,
          22,
          20.5,
          null,
          29,
          5,
          null,
          null,
          null,
          22,
          30,
          25,
          null,
          29,
          30,
          41,
          29,
          null,
          3,
          null,
          16,
          25,
          25,
          null,
          45,
          7,
          35,
          65,
          28,
          16,
          19,
          33,
          30,
          22,
          22,
          24,
          24,
          23.5,
          null,
          null,
          19,
          null,
          28,
          26,
          22,
          27,
          null,
          61,
          31,
          null,
          16,
          null,
          45,
          null,
          3,
          42,
          23,
          15,
          25,
          null,
          28,
          null,
          null,
          40,
          45,
          35,
          null,
          30,
          null,
          null,
          18,
          19,
          3,
          22,
          20,
          19,
          1,
          32,
          null,
          1,
          null,
          21,
          28,
          24,
          22,
          31,
          39,
          26,
          21,
          28,
          20,
          51,
          21,
          null,
          null,
          null,
          44,
          null,
          10,
          null,
          21,
          29,
          28,
          18,
          null,
          null,
          32,
          null,
          17,
          21,
          20,
          25,
          null,
          5,
          null,
          null,
          29,
          null,
          34,
          null,
          38,
          null,
          0.75,
          null,
          38,
          22,
          29,
          22,
          2,
          9,
          50,
          63,
          null,
          30,
          9,
          null,
          21,
          21,
          null,
          null,
          24,
          17,
          21,
          null,
          37,
          28,
          26,
          29,
          null,
          24,
          null,
          32,
          22,
          null,
          null,
          40.5,
          39,
          null,
          17,
          null,
          30,
          null,
          9,
          11,
          33,
          null,
          22,
          22,
          36,
          null,
          40,
          null,
          null,
          24,
          19,
          29,
          null,
          32,
          null,
          16,
          19,
          null,
          32,
          null,
          22,
          null,
          35,
          47,
          null,
          36,
          49,
          null,
          null,
          44,
          36,
          30,
          39,
          null,
          null,
          null,
          35,
          34,
          26,
          27,
          20,
          21,
          21,
          26,
          null,
          51,
          9,
          32,
          41,
          null,
          20,
          2,
          null,
          0.75,
          19,
          null,
          23,
          null,
          21,
          null,
          18,
          null,
          32,
          40,
          36,
          20,
          null,
          43,
          18,
          24.5,
          18,
          43,
          null,
          20,
          14,
          14,
          19,
          18,
          4,
          null,
          25,
          44,
          null,
          42,
          18,
          25,
          26,
          null,
          29,
          19,
          null,
          33,
          17,
          20,
          null,
          25,
          11,
          28.5,
          48,
          null,
          null,
          24,
          31,
          16,
          31,
          6,
          33,
          23,
          28,
          34,
          null,
          41,
          20,
          16,
          30.5,
          null,
          32,
          24,
          48,
          null,
          18,
          null,
          5,
          null,
          13,
          null,
          25,
          25,
          18,
          8,
          1,
          null,
          null,
          25,
          31,
          30,
          30,
          0.42,
          27,
          31,
          18,
          26,
          39,
          6,
          30.5,
          23,
          43,
          10,
          27,
          27,
          2,
          null,
          null,
          null,
          15,
          null,
          23,
          18,
          21,
          null,
          32,
          20,
          34.5,
          17,
          42,
          null,
          35,
          4,
          74,
          9,
          18,
          24,
          null,
          41,
          null,
          null,
          4,
          26,
          47,
          15,
          20,
          19,
          null,
          33,
          22,
          25,
          39,
          null,
          32
         ],
         "xaxis": "x",
         "y": [
          7.25,
          7.925,
          8.05,
          8.4583,
          21.075,
          11.1333,
          16.7,
          8.05,
          31.275,
          7.8542,
          29.125,
          18,
          7.225,
          8.0292,
          21.075,
          31.3875,
          7.225,
          7.8792,
          7.8958,
          7.75,
          7.2292,
          8.05,
          18,
          11.2417,
          9.475,
          7.8958,
          7.8792,
          8.05,
          15.5,
          7.75,
          21.6792,
          17.8,
          39.6875,
          7.8,
          7.2292,
          46.9,
          7.2292,
          27.9,
          15.2458,
          8.1583,
          7.925,
          8.6625,
          46.9,
          14.4542,
          56.4958,
          7.65,
          7.8958,
          8.05,
          12.475,
          9,
          9.5,
          7.7875,
          15.85,
          34.375,
          8.05,
          8.05,
          8.05,
          7.8542,
          20.575,
          7.25,
          8.05,
          7.8958,
          7.8958,
          8.6542,
          7.925,
          7.8958,
          7.65,
          7.775,
          7.8958,
          24.15,
          14.4542,
          8.05,
          9.825,
          14.4583,
          7.925,
          7.75,
          31.275,
          8.05,
          11.2417,
          7.75,
          7.1417,
          22.3583,
          6.975,
          7.8958,
          7.05,
          14.5,
          9.2167,
          15.2458,
          7.75,
          15.85,
          6.75,
          7.7958,
          34.375,
          8.05,
          14.5,
          7.3125,
          7.7333,
          8.05,
          8.6625,
          69.55,
          16.1,
          7.775,
          8.6625,
          39.6875,
          20.525,
          27.9,
          56.4958,
          29.125,
          11.1333,
          7.925,
          7.8542,
          25.4667,
          0,
          69.55,
          31.3875,
          22.025,
          15.5,
          15.5,
          7.8958,
          7.8542,
          7.75,
          8.4042,
          7.75,
          9.5,
          69.55,
          6.4958,
          7.225,
          8.05,
          10.4625,
          15.85,
          18.7875,
          7.75,
          7.05,
          7.25,
          7.75,
          7.925,
          8.05,
          8.05,
          7.8958,
          9.35,
          7.25,
          25.4667,
          7.775,
          31.3875,
          7.55,
          14.4542,
          15.5,
          7.125,
          7.225,
          7.775,
          7.25,
          10.4625,
          16.1,
          20.2125,
          15.2458,
          7.75,
          31.3875,
          7.75,
          39.6875,
          7.775,
          0,
          7.75,
          7.75,
          29.125,
          20.25,
          7.75,
          7.8542,
          9.5,
          8.05,
          8.6625,
          9.5,
          7.8958,
          7.75,
          8.85,
          7.8958,
          7.2292,
          7.75,
          23.25,
          0,
          8.05,
          7.8958,
          7.8542,
          7.25,
          7.8958,
          69.55,
          6.2375,
          20.525,
          23.25,
          18,
          7.8958,
          8.05,
          16.1,
          15.9,
          8.6625,
          9.225,
          7.2292,
          17.8,
          7.225,
          9.5,
          7.8792,
          7.8792,
          27.9,
          14.4542,
          7.05,
          15.5,
          7.25,
          7.2292,
          7.75,
          6.4958,
          8.05,
          21.075,
          7.25,
          4.0125,
          7.775,
          15.7417,
          7.925,
          7.8958,
          46.9,
          7.7292,
          7.7958,
          7.925,
          16.7,
          7.7958,
          7.8542,
          7.925,
          8.05,
          9.825,
          15.85,
          8.6625,
          7.75,
          7.775,
          25.4667,
          7.8958,
          6.8583,
          7.925,
          8.05,
          24.15,
          7.8958,
          7.7333,
          7.875,
          14.4,
          20.2125,
          7.25,
          7.75,
          8.05,
          16.1,
          7.125,
          34.375,
          9.5,
          7.775,
          8.1125,
          19.2583,
          19.9667,
          8.05,
          7.8958,
          7.75,
          8.05,
          8.05,
          7.05,
          7.725,
          19.2583,
          7.25,
          8.6625,
          9.8375,
          7.0458,
          7.5208,
          12.2875,
          46.9,
          8.05,
          9.5875,
          25.4667,
          8.05,
          15.9,
          19.9667,
          7.25,
          8.05,
          14.4583,
          15.1,
          7.7958,
          8.6625,
          7.75,
          7.6292,
          9.5875,
          22.525,
          56.4958,
          7.75,
          8.05,
          7.4958,
          24.15,
          7.8958,
          7.8958,
          7.225,
          7.2292,
          7.75,
          7.925,
          7.2292,
          7.2292,
          22.3583,
          8.6625,
          14.5,
          31.275,
          31.275,
          20.525,
          7.8292,
          7.225,
          7.775,
          17.4,
          7.75,
          7.8958,
          8.05,
          8.05,
          24.15,
          7.8958,
          21.075,
          7.2292,
          7.8542,
          7.75,
          8.05,
          14.5,
          14.4583,
          7.925,
          8.7125,
          8.05,
          8.05,
          7.125,
          7.25,
          7.75,
          24.15,
          0,
          7.225,
          7.8958,
          8.05,
          15.55,
          7.8958,
          31.275,
          7.05,
          15.5,
          7.75,
          8.05,
          14.4,
          16.1,
          14.4542,
          15.7417,
          7.8542,
          16.1,
          7.8958,
          7.7333,
          7.0542,
          27.9,
          7.925,
          39.6875,
          16.1,
          7.8542,
          27.9,
          56.4958,
          19.2583,
          7.8958,
          7.55,
          7.55,
          7.8958,
          8.4333,
          7.8292,
          6.75,
          7.8958,
          15.5,
          7.225,
          7.4958,
          7.925,
          7.775,
          8.05,
          7.775,
          8.05,
          9.8417,
          46.9,
          8.1375,
          9.225,
          46.9,
          39.6875,
          10.1708,
          7.7958,
          13.4167,
          56.4958,
          7.225,
          8.05,
          7.7333,
          7.65,
          14.4542,
          7.7417,
          7.8542,
          15.2458,
          9.4833,
          7.65,
          15.5,
          7.775,
          7.0542,
          8.6625,
          7.7375,
          7.925,
          18.7875,
          16.1,
          34.375,
          7.8958,
          7.8958,
          16.1,
          7.925,
          20.25,
          7.75,
          12.475,
          9.5,
          7.8958,
          7.7958,
          8.05,
          14.5,
          7.125,
          7.2292,
          7.775,
          7.75,
          24.15,
          8.3625,
          9.5,
          7.8542,
          7.225,
          7.75,
          7.75,
          12.475,
          7.7375,
          7.2292,
          23.45,
          7.05,
          7.25,
          7.4958,
          29.125,
          20.575,
          7.75,
          69.55,
          7.8958,
          8.6833,
          7.2292,
          24.15,
          8.5167,
          6.975,
          7.775,
          7.775,
          7.8875,
          24.15,
          31.275,
          8.05,
          7.925,
          6.45,
          27.9,
          8.6625,
          12.475,
          39.6875,
          6.95,
          56.4958,
          7.75,
          14.4542,
          7.2292,
          7.8542,
          8.3,
          8.6625,
          8.05,
          56.4958,
          7.925,
          6.4375,
          8.6625,
          7.55,
          69.55,
          7.8958,
          31.275,
          7.775,
          15.2458,
          9.35,
          19.2583,
          7.2292,
          14.1083,
          69.55,
          9.5,
          11.1333,
          7.8958,
          9,
          7.225,
          9.8458,
          7.8958,
          7.8958,
          7.8958,
          10.5167,
          7.05,
          29.125,
          23.45,
          7.75
         ],
         "yaxis": "y"
        },
        {
         "hovertemplate": "class=First<br>age=%{x}<br>fare=%{y}<extra></extra>",
         "legendgroup": "First",
         "marker": {
          "color": "#EF553B",
          "symbol": "circle"
         },
         "mode": "markers",
         "name": "First",
         "orientation": "v",
         "showlegend": true,
         "type": "scatter",
         "x": [
          38,
          35,
          54,
          58,
          28,
          19,
          40,
          null,
          28,
          42,
          49,
          65,
          null,
          38,
          45,
          null,
          28,
          23,
          46,
          71,
          23,
          21,
          47,
          24,
          54,
          19,
          37,
          24,
          22,
          51,
          null,
          null,
          61,
          56,
          50,
          null,
          45,
          44,
          58,
          40,
          31,
          32,
          38,
          35,
          44,
          37,
          62,
          null,
          30,
          35,
          52,
          40,
          58,
          35,
          null,
          37,
          63,
          null,
          26,
          19,
          null,
          2,
          null,
          50,
          0.92,
          null,
          17,
          30,
          24,
          18,
          31,
          40,
          36,
          16,
          45.5,
          38,
          null,
          29,
          41,
          45,
          24,
          null,
          22,
          60,
          24,
          25,
          22,
          null,
          27,
          42,
          35,
          36,
          23,
          33,
          28,
          50,
          14,
          64,
          4,
          34,
          52,
          30,
          49,
          65,
          null,
          48,
          47,
          56,
          null,
          25,
          35,
          58,
          55,
          71,
          54,
          25,
          16,
          18,
          null,
          36,
          54,
          47,
          30,
          44,
          null,
          45,
          30,
          22,
          36,
          50,
          64,
          17,
          62,
          48,
          null,
          39,
          53,
          36,
          39,
          39,
          36,
          18,
          60,
          52,
          49,
          null,
          35,
          27,
          40,
          42,
          61,
          21,
          80,
          32,
          null,
          24,
          48,
          56,
          58,
          50,
          47,
          null,
          31,
          36,
          27,
          15,
          31,
          60,
          49,
          18,
          35,
          42,
          22,
          24,
          null,
          48,
          38,
          27,
          29,
          35,
          null,
          36,
          21,
          70,
          19,
          33,
          36,
          51,
          null,
          43,
          17,
          29,
          46,
          null,
          49,
          11,
          39,
          33,
          null,
          52,
          38,
          62,
          39,
          null,
          30,
          null,
          16,
          45,
          51,
          48,
          31,
          47,
          33,
          56,
          19,
          26
         ],
         "xaxis": "x",
         "y": [
          71.2833,
          53.1,
          51.8625,
          26.55,
          35.5,
          263,
          27.7208,
          146.5208,
          82.1708,
          52,
          76.7292,
          61.9792,
          35.5,
          80,
          83.475,
          27.7208,
          47.1,
          263,
          61.175,
          34.6542,
          63.3583,
          77.2875,
          52,
          247.5208,
          77.2875,
          26.2833,
          53.1,
          79.2,
          66.6,
          61.3792,
          55,
          25.925,
          33.5,
          30.6958,
          28.7125,
          50,
          26.55,
          27.7208,
          146.5208,
          31,
          113.275,
          76.2917,
          90,
          83.475,
          90,
          52.5542,
          26.55,
          79.2,
          86.5,
          512.3292,
          79.65,
          0,
          153.4625,
          135.6333,
          31,
          29.7,
          77.9583,
          26,
          78.85,
          91.0792,
          27.7208,
          151.55,
          30.5,
          247.5208,
          151.55,
          110.8833,
          108.9,
          56.9292,
          83.1583,
          262.375,
          164.8667,
          134.5,
          135.6333,
          57.9792,
          28.5,
          153.4625,
          133.65,
          66.6,
          134.5,
          35.5,
          263,
          35,
          55,
          75.25,
          69.3,
          55.4417,
          135.6333,
          82.1708,
          211.5,
          227.525,
          52,
          120,
          113.275,
          90,
          26.55,
          55.9,
          120,
          263,
          81.8583,
          26.55,
          30.5,
          27.75,
          89.1042,
          26.55,
          51.8625,
          26.55,
          38.5,
          26.55,
          52,
          91.0792,
          90,
          29.7,
          30.5,
          49.5042,
          78.2667,
          151.55,
          86.5,
          108.9,
          26.55,
          26.2875,
          59.4,
          34.0208,
          93.5,
          57.9792,
          221.7792,
          26.55,
          106.425,
          49.5,
          71,
          106.425,
          26,
          110.8833,
          26.55,
          39.6,
          227.525,
          79.65,
          51.4792,
          26.3875,
          55.9,
          110.8833,
          40.125,
          79.65,
          79.2,
          78.2667,
          56.9292,
          42.4,
          26.55,
          30.5,
          153.4625,
          52.5542,
          32.3208,
          77.9583,
          30,
          30.5,
          0,
          69.3,
          76.7292,
          35.5,
          113.275,
          133.65,
          25.5875,
          52,
          52,
          512.3292,
          76.7292,
          211.3375,
          57,
          26.55,
          110.8833,
          227.525,
          26.2875,
          26.2875,
          151.55,
          49.5042,
          26.55,
          52,
          227.525,
          53.1,
          211.3375,
          512.3292,
          30,
          78.85,
          262.375,
          71,
          53.1,
          86.5,
          120,
          77.9583,
          39.6,
          211.3375,
          57,
          30,
          79.2,
          30.6958,
          25.9292,
          120,
          0,
          53.1,
          0,
          93.5,
          0,
          80,
          83.1583,
          29.7,
          31,
          89.1042,
          39.4,
          164.8667,
          26.55,
          25.9292,
          50.4958,
          52.5542,
          5,
          83.1583,
          30,
          30
         ],
         "yaxis": "y"
        },
        {
         "hovertemplate": "class=Second<br>age=%{x}<br>fare=%{y}<extra></extra>",
         "legendgroup": "Second",
         "marker": {
          "color": "#00cc96",
          "symbol": "circle"
         },
         "mode": "markers",
         "name": "Second",
         "orientation": "v",
         "showlegend": true,
         "type": "scatter",
         "x": [
          14,
          55,
          null,
          35,
          34,
          66,
          27,
          3,
          29,
          21,
          5,
          29,
          32,
          21,
          0.83,
          17,
          34,
          34,
          29,
          21,
          32.5,
          32.5,
          29,
          25,
          23,
          18,
          19,
          36.5,
          42,
          51,
          40,
          30,
          null,
          1,
          32,
          19,
          3,
          24,
          35,
          30,
          42,
          30,
          27,
          19,
          18,
          59,
          24,
          44,
          8,
          19,
          33,
          29,
          24,
          54,
          50,
          36,
          41,
          null,
          42,
          36,
          null,
          30,
          26,
          43,
          24,
          54,
          30,
          22,
          36,
          2,
          28,
          25,
          36,
          24,
          40,
          38,
          29,
          18,
          36,
          17,
          46,
          23,
          28,
          34,
          3,
          null,
          34,
          18,
          30,
          28,
          19,
          42,
          24,
          31,
          45,
          28,
          13,
          36,
          50,
          48,
          null,
          33,
          23,
          34,
          null,
          33,
          34,
          36,
          50,
          23,
          2,
          7,
          32,
          19,
          null,
          8,
          27,
          28,
          62,
          34,
          25,
          54,
          47,
          37,
          null,
          24,
          22,
          24,
          4,
          26,
          57,
          28,
          31,
          18,
          24,
          23,
          32,
          25,
          40,
          70,
          31,
          null,
          60,
          25,
          52,
          39,
          45,
          52,
          27,
          6,
          34,
          50,
          30,
          25,
          null,
          23,
          23,
          30,
          4,
          48,
          0.67,
          18,
          57,
          54,
          16,
          39,
          34,
          31,
          39,
          35,
          31,
          1,
          0.83,
          16,
          28,
          44,
          21,
          24,
          42,
          27,
          28,
          25,
          28,
          27
         ],
         "xaxis": "x",
         "y": [
          30.0708,
          16,
          13,
          26,
          13,
          10.5,
          21,
          41.5792,
          26,
          10.5,
          27.75,
          10.5,
          10.5,
          73.5,
          29,
          10.5,
          23,
          26,
          21,
          73.5,
          30.0708,
          13,
          26,
          13,
          15.0458,
          11.5,
          36.75,
          26,
          13,
          12.525,
          15.75,
          13,
          15.05,
          39,
          13,
          13,
          26,
          13,
          21,
          13,
          27,
          10.5,
          13,
          10.5,
          13,
          13.5,
          10.5,
          26,
          26.25,
          10.5,
          12.275,
          10.5,
          14.5,
          26,
          26,
          10.5,
          19.5,
          0,
          13,
          12.875,
          12.35,
          24,
          26,
          26.25,
          26,
          14,
          12.35,
          29,
          13,
          26,
          13,
          13,
          13,
          13,
          13,
          13,
          27.7208,
          73.5,
          13,
          12,
          26,
          10.5,
          12.65,
          21,
          18.75,
          0,
          32.5,
          13,
          13,
          26,
          26,
          26,
          18.75,
          10.5,
          26.25,
          13,
          19.5,
          27.75,
          10.5,
          13,
          0,
          27.75,
          13.7917,
          21,
          0,
          26,
          10.5,
          26,
          10.5,
          11.5,
          26,
          26.25,
          26,
          26,
          13.8625,
          36.75,
          26,
          13.5,
          10.5,
          13,
          30,
          26,
          15,
          26,
          33,
          27,
          41.5792,
          65,
          39,
          10.5,
          12.35,
          13,
          26.25,
          23,
          73.5,
          13,
          73.5,
          13,
          39,
          10.5,
          13,
          0,
          39,
          41.5792,
          13.5,
          26,
          13.5,
          13,
          10.5,
          33,
          13,
          13,
          21,
          26,
          0,
          13,
          13,
          13,
          23,
          65,
          14.5,
          11.5,
          10.5,
          23,
          26,
          13,
          13,
          26.25,
          13,
          10.5,
          37.0042,
          37.0042,
          18.75,
          10.5,
          33,
          26,
          11.5,
          13,
          13,
          13.8583,
          24,
          26,
          10.5,
          13
         ],
         "yaxis": "y"
        }
       ],
       "layout": {
        "legend": {
         "title": {
          "text": "class"
         },
         "tracegroupgap": 0
        },
        "margin": {
         "t": 60
        },
        "template": {
         "data": {
          "bar": [
           {
            "error_x": {
             "color": "#2a3f5f"
            },
            "error_y": {
             "color": "#2a3f5f"
            },
            "marker": {
             "line": {
              "color": "#E5ECF6",
              "width": 0.5
             },
             "pattern": {
              "fillmode": "overlay",
              "size": 10,
              "solidity": 0.2
             }
            },
            "type": "bar"
           }
          ],
          "barpolar": [
           {
            "marker": {
             "line": {
              "color": "#E5ECF6",
              "width": 0.5
             },
             "pattern": {
              "fillmode": "overlay",
              "size": 10,
              "solidity": 0.2
             }
            },
            "type": "barpolar"
           }
          ],
          "carpet": [
           {
            "aaxis": {
             "endlinecolor": "#2a3f5f",
             "gridcolor": "white",
             "linecolor": "white",
             "minorgridcolor": "white",
             "startlinecolor": "#2a3f5f"
            },
            "baxis": {
             "endlinecolor": "#2a3f5f",
             "gridcolor": "white",
             "linecolor": "white",
             "minorgridcolor": "white",
             "startlinecolor": "#2a3f5f"
            },
            "type": "carpet"
           }
          ],
          "choropleth": [
           {
            "colorbar": {
             "outlinewidth": 0,
             "ticks": ""
            },
            "type": "choropleth"
           }
          ],
          "contour": [
           {
            "colorbar": {
             "outlinewidth": 0,
             "ticks": ""
            },
            "colorscale": [
             [
              0,
              "#0d0887"
             ],
             [
              0.1111111111111111,
              "#46039f"
             ],
             [
              0.2222222222222222,
              "#7201a8"
             ],
             [
              0.3333333333333333,
              "#9c179e"
             ],
             [
              0.4444444444444444,
              "#bd3786"
             ],
             [
              0.5555555555555556,
              "#d8576b"
             ],
             [
              0.6666666666666666,
              "#ed7953"
             ],
             [
              0.7777777777777778,
              "#fb9f3a"
             ],
             [
              0.8888888888888888,
              "#fdca26"
             ],
             [
              1,
              "#f0f921"
             ]
            ],
            "type": "contour"
           }
          ],
          "contourcarpet": [
           {
            "colorbar": {
             "outlinewidth": 0,
             "ticks": ""
            },
            "type": "contourcarpet"
           }
          ],
          "heatmap": [
           {
            "colorbar": {
             "outlinewidth": 0,
             "ticks": ""
            },
            "colorscale": [
             [
              0,
              "#0d0887"
             ],
             [
              0.1111111111111111,
              "#46039f"
             ],
             [
              0.2222222222222222,
              "#7201a8"
             ],
             [
              0.3333333333333333,
              "#9c179e"
             ],
             [
              0.4444444444444444,
              "#bd3786"
             ],
             [
              0.5555555555555556,
              "#d8576b"
             ],
             [
              0.6666666666666666,
              "#ed7953"
             ],
             [
              0.7777777777777778,
              "#fb9f3a"
             ],
             [
              0.8888888888888888,
              "#fdca26"
             ],
             [
              1,
              "#f0f921"
             ]
            ],
            "type": "heatmap"
           }
          ],
          "heatmapgl": [
           {
            "colorbar": {
             "outlinewidth": 0,
             "ticks": ""
            },
            "colorscale": [
             [
              0,
              "#0d0887"
             ],
             [
              0.1111111111111111,
              "#46039f"
             ],
             [
              0.2222222222222222,
              "#7201a8"
             ],
             [
              0.3333333333333333,
              "#9c179e"
             ],
             [
              0.4444444444444444,
              "#bd3786"
             ],
             [
              0.5555555555555556,
              "#d8576b"
             ],
             [
              0.6666666666666666,
              "#ed7953"
             ],
             [
              0.7777777777777778,
              "#fb9f3a"
             ],
             [
              0.8888888888888888,
              "#fdca26"
             ],
             [
              1,
              "#f0f921"
             ]
            ],
            "type": "heatmapgl"
           }
          ],
          "histogram": [
           {
            "marker": {
             "pattern": {
              "fillmode": "overlay",
              "size": 10,
              "solidity": 0.2
             }
            },
            "type": "histogram"
           }
          ],
          "histogram2d": [
           {
            "colorbar": {
             "outlinewidth": 0,
             "ticks": ""
            },
            "colorscale": [
             [
              0,
              "#0d0887"
             ],
             [
              0.1111111111111111,
              "#46039f"
             ],
             [
              0.2222222222222222,
              "#7201a8"
             ],
             [
              0.3333333333333333,
              "#9c179e"
             ],
             [
              0.4444444444444444,
              "#bd3786"
             ],
             [
              0.5555555555555556,
              "#d8576b"
             ],
             [
              0.6666666666666666,
              "#ed7953"
             ],
             [
              0.7777777777777778,
              "#fb9f3a"
             ],
             [
              0.8888888888888888,
              "#fdca26"
             ],
             [
              1,
              "#f0f921"
             ]
            ],
            "type": "histogram2d"
           }
          ],
          "histogram2dcontour": [
           {
            "colorbar": {
             "outlinewidth": 0,
             "ticks": ""
            },
            "colorscale": [
             [
              0,
              "#0d0887"
             ],
             [
              0.1111111111111111,
              "#46039f"
             ],
             [
              0.2222222222222222,
              "#7201a8"
             ],
             [
              0.3333333333333333,
              "#9c179e"
             ],
             [
              0.4444444444444444,
              "#bd3786"
             ],
             [
              0.5555555555555556,
              "#d8576b"
             ],
             [
              0.6666666666666666,
              "#ed7953"
             ],
             [
              0.7777777777777778,
              "#fb9f3a"
             ],
             [
              0.8888888888888888,
              "#fdca26"
             ],
             [
              1,
              "#f0f921"
             ]
            ],
            "type": "histogram2dcontour"
           }
          ],
          "mesh3d": [
           {
            "colorbar": {
             "outlinewidth": 0,
             "ticks": ""
            },
            "type": "mesh3d"
           }
          ],
          "parcoords": [
           {
            "line": {
             "colorbar": {
              "outlinewidth": 0,
              "ticks": ""
             }
            },
            "type": "parcoords"
           }
          ],
          "pie": [
           {
            "automargin": true,
            "type": "pie"
           }
          ],
          "scatter": [
           {
            "fillpattern": {
             "fillmode": "overlay",
             "size": 10,
             "solidity": 0.2
            },
            "type": "scatter"
           }
          ],
          "scatter3d": [
           {
            "line": {
             "colorbar": {
              "outlinewidth": 0,
              "ticks": ""
             }
            },
            "marker": {
             "colorbar": {
              "outlinewidth": 0,
              "ticks": ""
             }
            },
            "type": "scatter3d"
           }
          ],
          "scattercarpet": [
           {
            "marker": {
             "colorbar": {
              "outlinewidth": 0,
              "ticks": ""
             }
            },
            "type": "scattercarpet"
           }
          ],
          "scattergeo": [
           {
            "marker": {
             "colorbar": {
              "outlinewidth": 0,
              "ticks": ""
             }
            },
            "type": "scattergeo"
           }
          ],
          "scattergl": [
           {
            "marker": {
             "colorbar": {
              "outlinewidth": 0,
              "ticks": ""
             }
            },
            "type": "scattergl"
           }
          ],
          "scattermapbox": [
           {
            "marker": {
             "colorbar": {
              "outlinewidth": 0,
              "ticks": ""
             }
            },
            "type": "scattermapbox"
           }
          ],
          "scatterpolar": [
           {
            "marker": {
             "colorbar": {
              "outlinewidth": 0,
              "ticks": ""
             }
            },
            "type": "scatterpolar"
           }
          ],
          "scatterpolargl": [
           {
            "marker": {
             "colorbar": {
              "outlinewidth": 0,
              "ticks": ""
             }
            },
            "type": "scatterpolargl"
           }
          ],
          "scatterternary": [
           {
            "marker": {
             "colorbar": {
              "outlinewidth": 0,
              "ticks": ""
             }
            },
            "type": "scatterternary"
           }
          ],
          "surface": [
           {
            "colorbar": {
             "outlinewidth": 0,
             "ticks": ""
            },
            "colorscale": [
             [
              0,
              "#0d0887"
             ],
             [
              0.1111111111111111,
              "#46039f"
             ],
             [
              0.2222222222222222,
              "#7201a8"
             ],
             [
              0.3333333333333333,
              "#9c179e"
             ],
             [
              0.4444444444444444,
              "#bd3786"
             ],
             [
              0.5555555555555556,
              "#d8576b"
             ],
             [
              0.6666666666666666,
              "#ed7953"
             ],
             [
              0.7777777777777778,
              "#fb9f3a"
             ],
             [
              0.8888888888888888,
              "#fdca26"
             ],
             [
              1,
              "#f0f921"
             ]
            ],
            "type": "surface"
           }
          ],
          "table": [
           {
            "cells": {
             "fill": {
              "color": "#EBF0F8"
             },
             "line": {
              "color": "white"
             }
            },
            "header": {
             "fill": {
              "color": "#C8D4E3"
             },
             "line": {
              "color": "white"
             }
            },
            "type": "table"
           }
          ]
         },
         "layout": {
          "annotationdefaults": {
           "arrowcolor": "#2a3f5f",
           "arrowhead": 0,
           "arrowwidth": 1
          },
          "autotypenumbers": "strict",
          "coloraxis": {
           "colorbar": {
            "outlinewidth": 0,
            "ticks": ""
           }
          },
          "colorscale": {
           "diverging": [
            [
             0,
             "#8e0152"
            ],
            [
             0.1,
             "#c51b7d"
            ],
            [
             0.2,
             "#de77ae"
            ],
            [
             0.3,
             "#f1b6da"
            ],
            [
             0.4,
             "#fde0ef"
            ],
            [
             0.5,
             "#f7f7f7"
            ],
            [
             0.6,
             "#e6f5d0"
            ],
            [
             0.7,
             "#b8e186"
            ],
            [
             0.8,
             "#7fbc41"
            ],
            [
             0.9,
             "#4d9221"
            ],
            [
             1,
             "#276419"
            ]
           ],
           "sequential": [
            [
             0,
             "#0d0887"
            ],
            [
             0.1111111111111111,
             "#46039f"
            ],
            [
             0.2222222222222222,
             "#7201a8"
            ],
            [
             0.3333333333333333,
             "#9c179e"
            ],
            [
             0.4444444444444444,
             "#bd3786"
            ],
            [
             0.5555555555555556,
             "#d8576b"
            ],
            [
             0.6666666666666666,
             "#ed7953"
            ],
            [
             0.7777777777777778,
             "#fb9f3a"
            ],
            [
             0.8888888888888888,
             "#fdca26"
            ],
            [
             1,
             "#f0f921"
            ]
           ],
           "sequentialminus": [
            [
             0,
             "#0d0887"
            ],
            [
             0.1111111111111111,
             "#46039f"
            ],
            [
             0.2222222222222222,
             "#7201a8"
            ],
            [
             0.3333333333333333,
             "#9c179e"
            ],
            [
             0.4444444444444444,
             "#bd3786"
            ],
            [
             0.5555555555555556,
             "#d8576b"
            ],
            [
             0.6666666666666666,
             "#ed7953"
            ],
            [
             0.7777777777777778,
             "#fb9f3a"
            ],
            [
             0.8888888888888888,
             "#fdca26"
            ],
            [
             1,
             "#f0f921"
            ]
           ]
          },
          "colorway": [
           "#636efa",
           "#EF553B",
           "#00cc96",
           "#ab63fa",
           "#FFA15A",
           "#19d3f3",
           "#FF6692",
           "#B6E880",
           "#FF97FF",
           "#FECB52"
          ],
          "font": {
           "color": "#2a3f5f"
          },
          "geo": {
           "bgcolor": "white",
           "lakecolor": "white",
           "landcolor": "#E5ECF6",
           "showlakes": true,
           "showland": true,
           "subunitcolor": "white"
          },
          "hoverlabel": {
           "align": "left"
          },
          "hovermode": "closest",
          "mapbox": {
           "style": "light"
          },
          "paper_bgcolor": "white",
          "plot_bgcolor": "#E5ECF6",
          "polar": {
           "angularaxis": {
            "gridcolor": "white",
            "linecolor": "white",
            "ticks": ""
           },
           "bgcolor": "#E5ECF6",
           "radialaxis": {
            "gridcolor": "white",
            "linecolor": "white",
            "ticks": ""
           }
          },
          "scene": {
           "xaxis": {
            "backgroundcolor": "#E5ECF6",
            "gridcolor": "white",
            "gridwidth": 2,
            "linecolor": "white",
            "showbackground": true,
            "ticks": "",
            "zerolinecolor": "white"
           },
           "yaxis": {
            "backgroundcolor": "#E5ECF6",
            "gridcolor": "white",
            "gridwidth": 2,
            "linecolor": "white",
            "showbackground": true,
            "ticks": "",
            "zerolinecolor": "white"
           },
           "zaxis": {
            "backgroundcolor": "#E5ECF6",
            "gridcolor": "white",
            "gridwidth": 2,
            "linecolor": "white",
            "showbackground": true,
            "ticks": "",
            "zerolinecolor": "white"
           }
          },
          "shapedefaults": {
           "line": {
            "color": "#2a3f5f"
           }
          },
          "ternary": {
           "aaxis": {
            "gridcolor": "white",
            "linecolor": "white",
            "ticks": ""
           },
           "baxis": {
            "gridcolor": "white",
            "linecolor": "white",
            "ticks": ""
           },
           "bgcolor": "#E5ECF6",
           "caxis": {
            "gridcolor": "white",
            "linecolor": "white",
            "ticks": ""
           }
          },
          "title": {
           "x": 0.05
          },
          "xaxis": {
           "automargin": true,
           "gridcolor": "white",
           "linecolor": "white",
           "ticks": "",
           "title": {
            "standoff": 15
           },
           "zerolinecolor": "white",
           "zerolinewidth": 2
          },
          "yaxis": {
           "automargin": true,
           "gridcolor": "white",
           "linecolor": "white",
           "ticks": "",
           "title": {
            "standoff": 15
           },
           "zerolinecolor": "white",
           "zerolinewidth": 2
          }
         }
        },
        "xaxis": {
         "anchor": "y",
         "domain": [
          0,
          1
         ],
         "title": {
          "text": "age"
         }
        },
        "yaxis": {
         "anchor": "x",
         "domain": [
          0,
          1
         ],
         "title": {
          "text": "fare"
         }
        }
       }
      }
     },
     "metadata": {},
     "output_type": "display_data"
    }
   ],
   "source": [
    "fig=px.scatter(df,x='age',y='fare', color='class')\n",
    "fig.show()"
   ]
  },
  {
   "cell_type": "markdown",
   "metadata": {},
   "source": [
    "1. Read documnetaion of each website:'pandas, matplotlib, seaborn, plotly\n",
    "2. make 10 different plots  on different datasets each time using each of these librarires\n",
    "3. interpret them and provide insights from each plot in 3-4 lines\n",
    "4. finalize one ntebook "
   ]
  },
  {
   "cell_type": "code",
   "execution_count": null,
   "metadata": {},
   "outputs": [],
   "source": []
  }
 ],
 "metadata": {
  "kernelspec": {
   "display_name": "python_eda",
   "language": "python",
   "name": "python3"
  },
  "language_info": {
   "codemirror_mode": {
    "name": "ipython",
    "version": 3
   },
   "file_extension": ".py",
   "mimetype": "text/x-python",
   "name": "python",
   "nbconvert_exporter": "python",
   "pygments_lexer": "ipython3",
   "version": "3.11.0"
  }
 },
 "nbformat": 4,
 "nbformat_minor": 2
}
